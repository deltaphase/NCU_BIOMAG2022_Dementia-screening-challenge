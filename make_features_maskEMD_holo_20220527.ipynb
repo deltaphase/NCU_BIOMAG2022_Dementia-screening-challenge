{
 "cells": [
  {
   "cell_type": "code",
   "execution_count": 79,
   "id": "f0d82983",
   "metadata": {
    "code_folding": []
   },
   "outputs": [],
   "source": [
    "import os\n",
    "import mne\n",
    "import numpy as np\n",
    "import matplotlib.pyplot as plt\n",
    "import pandas as pd\n",
    "from PIL import Image\n",
    "import io\n",
    "from scipy import stats\n",
    "from scipy import ndimage\n",
    "import emd\n",
    "\n",
    "from sklearn import svm\n",
    "from sklearn.model_selection import cross_val_score\n",
    "from sklearn.model_selection import cross_validate\n",
    "\n",
    "from sklearn.model_selection import KFold\n",
    "from sklearn.neural_network import MLPClassifier\n",
    "from sklearn.preprocessing import MinMaxScaler\n",
    "from sklearn.model_selection import train_test_split\n",
    "\n",
    "\n",
    "# Helper function for the second level sift\n",
    "def mask_sift_second_layer(IA, masks, config={}):\n",
    "    imf2 = np.zeros((IA.shape[0], IA.shape[1], config['max_imfs']))\n",
    "    for ii in range(IA.shape[1]):\n",
    "        config['mask_freqs'] = masks[ii:]\n",
    "        tmp = emd.sift.mask_sift(IA[:, ii], **config)\n",
    "        imf2[:, ii, :tmp.shape[1]] = tmp\n",
    "    return imf2\n",
    "\n",
    "def get_holo_trl(filename, sys_type):\n",
    "    raw=mne.io.read_raw_fif(filename)\n",
    "\n",
    "    if sys_type == 'A':\n",
    "        ag_num = [13, 16, 17, 18, 19, 20, 21, 22, 23, 24, 25, 26, 27, 28, 29, 30, 31, 32, 46, 48, 56, 57, 58, 60, 61, 62, 63, 64, 74, 77, 79, 80, 81, 82, 83, 84, 85, 86, 87, 88, 89, 90, 91, 92, 93, 94, 95, 96, 110, 112, 120, 121, 122, 123, 124, 125, 126, 129, 130, 131, 132, 133, 134, 135, 136, 137, 138, 139, 140, 141, 142, 143, 144, 145, 146, 147, 148, 149, 150, 151, 152, 153, 154, 155, 156, 157, 158, 159, 160]\n",
    "\n",
    "    if sys_type == 'B':\n",
    "        ag_num = [9, 13, 15, 16, 17, 18, 20, 21, 22, 25, 26, 27, 29, 30, 31, 33, 34, 49, 50, 58, 59, 60, 61, 62, 63, 64, 76, 79, 81, 82, 83, 84, 85, 86, 87, 88, 90, 91, 92, 93, 94, 95, 96, 97, 98, 110, 114, 121, 123, 124, 125, 126, 129, 130, 131, 132, 133, 134, 135, 136, 137, 138, 139, 140, 141, 142, 143, 144, 145, 146, 147, 149, 150, 151, 152, 153, 154, 155, 156, 157, 158, 159, 160]\n",
    "\n",
    "    ag_names = ['AG%.3d'%s for s in ag_num]\n",
    "    ag_picks = mne.pick_channels(raw.ch_names, ag_names)\n",
    "    \n",
    "    raw.pick(ag_picks)\n",
    "    \n",
    "    epochs = mne.make_fixed_length_epochs(raw, duration=2, preload=False)\n",
    "    epochs.drop_bad(reject = dict(mag=3e-12))      # unit: T (magnetometers)\n",
    "\n",
    "    psd, freq_ = mne.time_frequency.psd_array_welch(epochs.get_data() * 1e+15, \n",
    "                                                    epochs.info['sfreq'], \n",
    "                                                    fmin=8, fmax=12, \n",
    "                                                    n_fft=256, average='mean')\n",
    "    psd_M=np.expand_dims(psd[0].mean(axis = 1),axis=1)\n",
    "    psd_evk=mne.EvokedArray(psd_M,epochs.info,comment='raw_data')\n",
    "    temp_n = None\n",
    "    alpha_channels = []\n",
    "    for i in range(5):\n",
    "        psd_evk.pick('all',exclude=[temp_n])\n",
    "        temp_n, temp_t = psd_evk.get_peak()\n",
    "        alpha_channels.append(temp_n)\n",
    "        pass\n",
    "\n",
    "    print(alpha_channels)\n",
    "    \n",
    "    epochs.load_data()\n",
    "    x = epochs.copy().pick_channels([alpha_channels[0]]).get_data()\n",
    "    x = np.squeeze(x) * 1e+15\n",
    "\n",
    "    n_trl = epochs.get_data().shape[0]\n",
    "    sholo_temp = np.zeros((n_trl, 64, 64))\n",
    "\n",
    "    sample_rate = np.int(raw.info['sfreq'])\n",
    "    config_lay1 = emd.sift.get_config('mask_sift')\n",
    "    config_lay1['max_imfs'] = 7\n",
    "    config_lay1['mask_amp_mode'] = 'ratio_sig'\n",
    "    config_lay1['imf_opts/sd_thresh'] = 0.05\n",
    "    config_lay1['verbose'] = 'CRITICAL'\n",
    "\n",
    "    config_lay2 = emd.sift.get_config('mask_sift')\n",
    "    config_lay2['mask_amp_mode'] = 'ratio_sig'\n",
    "    config_lay2['mask_amp'] = 2\n",
    "    config_lay2['max_imfs'] = 5\n",
    "    config_lay2['imf_opts/sd_thresh'] = 0.05\n",
    "    config_lay2['envelope_opts/interp_method'] = 'mono_pchip'\n",
    "    config_lay2['verbose'] = 'CRITICAL'\n",
    "    # Carrier frequency histogram definition\n",
    "    carrier_hist = (1, 100, 64, 'log')\n",
    "    # AM frequency histogram definition\n",
    "    am_hist = (1e-2, 32, 64, 'log')\n",
    "\n",
    "    for n in range(n_trl):\n",
    "        imf = emd.sift.mask_sift(x[n], **config_lay1)\n",
    "        IP, IF, IA = emd.spectra.frequency_transform(imf, sample_rate, 'nht')\n",
    "        masks = np.array([25/2**ii for ii in range(12)])/sample_rate\n",
    "\n",
    "        # Sift the first 5 first level IMFs\n",
    "        imf2 = emd.sift.mask_sift_second_layer(IA, masks, sift_args=config_lay2)\n",
    "\n",
    "        IP2, IF2, IA2 = emd.spectra.frequency_transform(imf2, sample_rate, 'nht')\n",
    "        fcarrier, fam, holo = emd.spectra.holospectrum(IF, IF2, IA2, carrier_hist, am_hist)\n",
    "        sholo = ndimage.gaussian_filter(holo, 1)\n",
    "\n",
    "        sholo_temp[n] = sholo\n",
    "        pass\n",
    "\n",
    "    sholo_m = np.squeeze(np.nanmean(sholo_temp, axis = 0))\n",
    "    return sholo_m, fam, fcarrier\n",
    "\n",
    "def holo_gray_images(sholo_m, fam, fcarrier):\n",
    "    px = 1/plt.rcParams['figure.dpi']  # pixel in inches\n",
    "    fig, ax = plt.subplots(figsize=(32*px, 32*px))\n",
    "    fig.subplots_adjust(0,0,1,1)\n",
    "    ax.pcolormesh(fam, fcarrier, stats.zscore(sholo_m), cmap='hot_r', shading='nearest', vmin = -2, vmax = 2)\n",
    "\n",
    "    ax.spines[\"top\"].set_visible(False)\n",
    "    ax.spines[\"right\"].set_visible(False)\n",
    "    ax.spines[\"left\"].set_visible(False)\n",
    "    ax.spines[\"bottom\"].set_visible(False)\n",
    "    ax.get_xaxis().set_visible(False)\n",
    "    ax.get_yaxis().set_visible(False)\n",
    "\n",
    "    img_buf = io.BytesIO()\n",
    "    fig.savefig(img_buf, format='png')\n",
    "    im = Image.open(img_buf, )\n",
    "    imgGray = im.convert('L')\n",
    "    mage_sequence = imgGray.getdata()\n",
    "    image_array = np.array(mage_sequence)\n",
    "    return image_array"
   ]
  },
  {
   "cell_type": "code",
   "execution_count": 2,
   "id": "ff9508d3",
   "metadata": {},
   "outputs": [],
   "source": [
    "%matplotlib qt"
   ]
  },
  {
   "cell_type": "code",
   "execution_count": 66,
   "id": "43d8df37",
   "metadata": {},
   "outputs": [
    {
     "name": "stdout",
     "output_type": "stream",
     "text": [
      "['AG160', 'AG142', 'AG151', 'AG085', 'AG155']\n"
     ]
    },
    {
     "name": "stderr",
     "output_type": "stream",
     "text": [
      "/var/folders/7w/cb7mhl253wdbc67t80fs_bmc0000gn/T/ipykernel_87452/3492669636.py:64: DeprecationWarning: `np.int` is a deprecated alias for the builtin `int`. To silence this warning, use `int` by itself. Doing this will not modify any behavior and is safe. When replacing `np.int`, you may wish to use e.g. `np.int64` or `np.int32` to specify the precision. If you wish to review your current use, check the release note link for additional information.\n",
      "Deprecated in NumPy 1.20; for more details and guidance: https://numpy.org/devdocs/release/1.20.0-notes.html#deprecations\n",
      "  sample_rate = np.int(raw.info['sfreq'])\n",
      "/var/folders/7w/cb7mhl253wdbc67t80fs_bmc0000gn/T/ipykernel_87452/3492669636.py:98: RuntimeWarning: Mean of empty slice\n",
      "  sholo_m = np.squeeze(np.nanmean(sholo_temp, axis = 0))\n"
     ]
    }
   ],
   "source": [
    "group = 'dementia'\n",
    "path = '/Users/kevinhsu/Documents/D/00_datasets/biomag_2022/holo/train/m/'\n",
    "\n",
    "s = 10\n",
    "sys_type = 'A'\n",
    "\n",
    "filename = 'de_hokuto_%s%d-raw.fif'%(group, s)\n",
    "\n",
    "raw=mne.io.read_raw_fif(filename)\n",
    "\n",
    "if sys_type == 'A':\n",
    "    ag_num = [13, 16, 17, 18, 19, 20, 21, 22, 23, 24, 25, 26, 27, 28, 29, 30, 31, 32, 46, 48, 56, 57, 58, 60, 61, 62, 63, 64, 74, 77, 79, 80, 81, 82, 83, 84, 85, 86, 87, 88, 89, 90, 91, 92, 93, 94, 95, 96, 110, 112, 120, 121, 122, 123, 124, 125, 126, 129, 130, 131, 132, 133, 134, 135, 136, 137, 138, 139, 140, 141, 142, 143, 144, 145, 146, 147, 148, 149, 150, 151, 152, 153, 154, 155, 156, 157, 158, 159, 160]\n",
    "\n",
    "if sys_type == 'B':\n",
    "    ag_num = [9, 13, 15, 16, 17, 18, 20, 21, 22, 25, 26, 27, 29, 30, 31, 33, 34, 49, 50, 58, 59, 60, 61, 62, 63, 64, 76, 79, 81, 82, 83, 84, 85, 86, 87, 88, 90, 91, 92, 93, 94, 95, 96, 97, 98, 110, 114, 121, 123, 124, 125, 126, 129, 130, 131, 132, 133, 134, 135, 136, 137, 138, 139, 140, 141, 142, 143, 144, 145, 146, 147, 149, 150, 151, 152, 153, 154, 155, 156, 157, 158, 159, 160]\n",
    "\n",
    "ag_names = ['AG%.3d'%s for s in ag_num]\n",
    "ag_picks = mne.pick_channels(raw.ch_names, ag_names)\n",
    "\n",
    "raw.pick(ag_picks)\n",
    "\n",
    "sholo_m, fam, fcarrier = get_holo_trl(filename, sys_type)"
   ]
  },
  {
   "cell_type": "code",
   "execution_count": 77,
   "id": "d7bc3cae",
   "metadata": {},
   "outputs": [
    {
     "data": {
      "text/plain": [
       "(64, 64)"
      ]
     },
     "execution_count": 77,
     "metadata": {},
     "output_type": "execute_result"
    }
   ],
   "source": [
    "plt.pcolormesh(fam, fcarrier, sholo_m, cmap='ocean_r', shading='nearest')\n",
    "plt.title('Holospectrum')\n",
    "plt.xlabel('AM Frequency (Hz)')\n",
    "plt.show()\n",
    "sholo_m.shape"
   ]
  },
  {
   "cell_type": "code",
   "execution_count": 80,
   "id": "8da51a2d",
   "metadata": {},
   "outputs": [],
   "source": [
    "im_array = holo_gray_images(sholo_m, fam, fcarrier)"
   ]
  },
  {
   "cell_type": "code",
   "execution_count": 87,
   "id": "720d8ef7",
   "metadata": {
    "scrolled": true
   },
   "outputs": [
    {
     "name": "stdout",
     "output_type": "stream",
     "text": [
      "['AG151', 'AG135', 'AG155', 'AG142', 'AG157']\n"
     ]
    },
    {
     "name": "stderr",
     "output_type": "stream",
     "text": [
      "/var/folders/7w/cb7mhl253wdbc67t80fs_bmc0000gn/T/ipykernel_87452/526044833.py:64: DeprecationWarning: `np.int` is a deprecated alias for the builtin `int`. To silence this warning, use `int` by itself. Doing this will not modify any behavior and is safe. When replacing `np.int`, you may wish to use e.g. `np.int64` or `np.int32` to specify the precision. If you wish to review your current use, check the release note link for additional information.\n",
      "Deprecated in NumPy 1.20; for more details and guidance: https://numpy.org/devdocs/release/1.20.0-notes.html#deprecations\n",
      "  sample_rate = np.int(raw.info['sfreq'])\n",
      "/var/folders/7w/cb7mhl253wdbc67t80fs_bmc0000gn/T/ipykernel_87452/526044833.py:98: RuntimeWarning: Mean of empty slice\n",
      "  sholo_m = np.squeeze(np.nanmean(sholo_temp, axis = 0))\n"
     ]
    },
    {
     "name": "stdout",
     "output_type": "stream",
     "text": [
      "['AG151', 'AG154', 'AG152', 'AG155', 'AG143']\n"
     ]
    },
    {
     "name": "stderr",
     "output_type": "stream",
     "text": [
      "/var/folders/7w/cb7mhl253wdbc67t80fs_bmc0000gn/T/ipykernel_87452/526044833.py:64: DeprecationWarning: `np.int` is a deprecated alias for the builtin `int`. To silence this warning, use `int` by itself. Doing this will not modify any behavior and is safe. When replacing `np.int`, you may wish to use e.g. `np.int64` or `np.int32` to specify the precision. If you wish to review your current use, check the release note link for additional information.\n",
      "Deprecated in NumPy 1.20; for more details and guidance: https://numpy.org/devdocs/release/1.20.0-notes.html#deprecations\n",
      "  sample_rate = np.int(raw.info['sfreq'])\n",
      "/var/folders/7w/cb7mhl253wdbc67t80fs_bmc0000gn/T/ipykernel_87452/526044833.py:98: RuntimeWarning: Mean of empty slice\n",
      "  sholo_m = np.squeeze(np.nanmean(sholo_temp, axis = 0))\n"
     ]
    },
    {
     "name": "stdout",
     "output_type": "stream",
     "text": [
      "['AG064', 'AG019', 'AG018', 'AG060', 'AG154']\n"
     ]
    },
    {
     "name": "stderr",
     "output_type": "stream",
     "text": [
      "/var/folders/7w/cb7mhl253wdbc67t80fs_bmc0000gn/T/ipykernel_87452/526044833.py:64: DeprecationWarning: `np.int` is a deprecated alias for the builtin `int`. To silence this warning, use `int` by itself. Doing this will not modify any behavior and is safe. When replacing `np.int`, you may wish to use e.g. `np.int64` or `np.int32` to specify the precision. If you wish to review your current use, check the release note link for additional information.\n",
      "Deprecated in NumPy 1.20; for more details and guidance: https://numpy.org/devdocs/release/1.20.0-notes.html#deprecations\n",
      "  sample_rate = np.int(raw.info['sfreq'])\n",
      "/var/folders/7w/cb7mhl253wdbc67t80fs_bmc0000gn/T/ipykernel_87452/526044833.py:98: RuntimeWarning: Mean of empty slice\n",
      "  sholo_m = np.squeeze(np.nanmean(sholo_temp, axis = 0))\n"
     ]
    },
    {
     "name": "stdout",
     "output_type": "stream",
     "text": [
      "['AG135', 'AG136', 'AG148', 'AG132', 'AG140']\n"
     ]
    },
    {
     "name": "stderr",
     "output_type": "stream",
     "text": [
      "/var/folders/7w/cb7mhl253wdbc67t80fs_bmc0000gn/T/ipykernel_87452/526044833.py:64: DeprecationWarning: `np.int` is a deprecated alias for the builtin `int`. To silence this warning, use `int` by itself. Doing this will not modify any behavior and is safe. When replacing `np.int`, you may wish to use e.g. `np.int64` or `np.int32` to specify the precision. If you wish to review your current use, check the release note link for additional information.\n",
      "Deprecated in NumPy 1.20; for more details and guidance: https://numpy.org/devdocs/release/1.20.0-notes.html#deprecations\n",
      "  sample_rate = np.int(raw.info['sfreq'])\n",
      "/var/folders/7w/cb7mhl253wdbc67t80fs_bmc0000gn/T/ipykernel_87452/526044833.py:98: RuntimeWarning: Mean of empty slice\n",
      "  sholo_m = np.squeeze(np.nanmean(sholo_temp, axis = 0))\n"
     ]
    },
    {
     "name": "stdout",
     "output_type": "stream",
     "text": [
      "['AG138', 'AG129', 'AG056', 'AG136', 'AG134']\n"
     ]
    },
    {
     "name": "stderr",
     "output_type": "stream",
     "text": [
      "/var/folders/7w/cb7mhl253wdbc67t80fs_bmc0000gn/T/ipykernel_87452/526044833.py:64: DeprecationWarning: `np.int` is a deprecated alias for the builtin `int`. To silence this warning, use `int` by itself. Doing this will not modify any behavior and is safe. When replacing `np.int`, you may wish to use e.g. `np.int64` or `np.int32` to specify the precision. If you wish to review your current use, check the release note link for additional information.\n",
      "Deprecated in NumPy 1.20; for more details and guidance: https://numpy.org/devdocs/release/1.20.0-notes.html#deprecations\n",
      "  sample_rate = np.int(raw.info['sfreq'])\n",
      "/var/folders/7w/cb7mhl253wdbc67t80fs_bmc0000gn/T/ipykernel_87452/526044833.py:98: RuntimeWarning: Mean of empty slice\n",
      "  sholo_m = np.squeeze(np.nanmean(sholo_temp, axis = 0))\n"
     ]
    },
    {
     "name": "stdout",
     "output_type": "stream",
     "text": [
      "['AG138', 'AG129', 'AG154', 'AG136', 'AG145']\n"
     ]
    },
    {
     "name": "stderr",
     "output_type": "stream",
     "text": [
      "/var/folders/7w/cb7mhl253wdbc67t80fs_bmc0000gn/T/ipykernel_87452/526044833.py:64: DeprecationWarning: `np.int` is a deprecated alias for the builtin `int`. To silence this warning, use `int` by itself. Doing this will not modify any behavior and is safe. When replacing `np.int`, you may wish to use e.g. `np.int64` or `np.int32` to specify the precision. If you wish to review your current use, check the release note link for additional information.\n",
      "Deprecated in NumPy 1.20; for more details and guidance: https://numpy.org/devdocs/release/1.20.0-notes.html#deprecations\n",
      "  sample_rate = np.int(raw.info['sfreq'])\n",
      "/var/folders/7w/cb7mhl253wdbc67t80fs_bmc0000gn/T/ipykernel_87452/526044833.py:98: RuntimeWarning: Mean of empty slice\n",
      "  sholo_m = np.squeeze(np.nanmean(sholo_temp, axis = 0))\n"
     ]
    },
    {
     "name": "stdout",
     "output_type": "stream",
     "text": [
      "['AG120', 'AG145', 'AG139', 'AG154', 'AG156']\n"
     ]
    },
    {
     "name": "stderr",
     "output_type": "stream",
     "text": [
      "/var/folders/7w/cb7mhl253wdbc67t80fs_bmc0000gn/T/ipykernel_87452/526044833.py:64: DeprecationWarning: `np.int` is a deprecated alias for the builtin `int`. To silence this warning, use `int` by itself. Doing this will not modify any behavior and is safe. When replacing `np.int`, you may wish to use e.g. `np.int64` or `np.int32` to specify the precision. If you wish to review your current use, check the release note link for additional information.\n",
      "Deprecated in NumPy 1.20; for more details and guidance: https://numpy.org/devdocs/release/1.20.0-notes.html#deprecations\n",
      "  sample_rate = np.int(raw.info['sfreq'])\n",
      "/var/folders/7w/cb7mhl253wdbc67t80fs_bmc0000gn/T/ipykernel_87452/526044833.py:98: RuntimeWarning: Mean of empty slice\n",
      "  sholo_m = np.squeeze(np.nanmean(sholo_temp, axis = 0))\n"
     ]
    },
    {
     "name": "stdout",
     "output_type": "stream",
     "text": [
      "['AG142', 'AG140', 'AG141', 'AG145', 'AG143']\n"
     ]
    },
    {
     "name": "stderr",
     "output_type": "stream",
     "text": [
      "/var/folders/7w/cb7mhl253wdbc67t80fs_bmc0000gn/T/ipykernel_87452/526044833.py:64: DeprecationWarning: `np.int` is a deprecated alias for the builtin `int`. To silence this warning, use `int` by itself. Doing this will not modify any behavior and is safe. When replacing `np.int`, you may wish to use e.g. `np.int64` or `np.int32` to specify the precision. If you wish to review your current use, check the release note link for additional information.\n",
      "Deprecated in NumPy 1.20; for more details and guidance: https://numpy.org/devdocs/release/1.20.0-notes.html#deprecations\n",
      "  sample_rate = np.int(raw.info['sfreq'])\n",
      "/var/folders/7w/cb7mhl253wdbc67t80fs_bmc0000gn/T/ipykernel_87452/526044833.py:98: RuntimeWarning: Mean of empty slice\n",
      "  sholo_m = np.squeeze(np.nanmean(sholo_temp, axis = 0))\n"
     ]
    },
    {
     "name": "stdout",
     "output_type": "stream",
     "text": [
      "['AG153', 'AG121', 'AG152', 'AG058', 'AG060']\n"
     ]
    },
    {
     "name": "stderr",
     "output_type": "stream",
     "text": [
      "/var/folders/7w/cb7mhl253wdbc67t80fs_bmc0000gn/T/ipykernel_87452/526044833.py:64: DeprecationWarning: `np.int` is a deprecated alias for the builtin `int`. To silence this warning, use `int` by itself. Doing this will not modify any behavior and is safe. When replacing `np.int`, you may wish to use e.g. `np.int64` or `np.int32` to specify the precision. If you wish to review your current use, check the release note link for additional information.\n",
      "Deprecated in NumPy 1.20; for more details and guidance: https://numpy.org/devdocs/release/1.20.0-notes.html#deprecations\n",
      "  sample_rate = np.int(raw.info['sfreq'])\n",
      "/var/folders/7w/cb7mhl253wdbc67t80fs_bmc0000gn/T/ipykernel_87452/526044833.py:98: RuntimeWarning: Mean of empty slice\n",
      "  sholo_m = np.squeeze(np.nanmean(sholo_temp, axis = 0))\n"
     ]
    },
    {
     "name": "stdout",
     "output_type": "stream",
     "text": [
      "['AG145', 'AG153', 'AG154', 'AG151', 'AG155']\n"
     ]
    },
    {
     "name": "stderr",
     "output_type": "stream",
     "text": [
      "/var/folders/7w/cb7mhl253wdbc67t80fs_bmc0000gn/T/ipykernel_87452/526044833.py:64: DeprecationWarning: `np.int` is a deprecated alias for the builtin `int`. To silence this warning, use `int` by itself. Doing this will not modify any behavior and is safe. When replacing `np.int`, you may wish to use e.g. `np.int64` or `np.int32` to specify the precision. If you wish to review your current use, check the release note link for additional information.\n",
      "Deprecated in NumPy 1.20; for more details and guidance: https://numpy.org/devdocs/release/1.20.0-notes.html#deprecations\n",
      "  sample_rate = np.int(raw.info['sfreq'])\n",
      "/var/folders/7w/cb7mhl253wdbc67t80fs_bmc0000gn/T/ipykernel_87452/526044833.py:98: RuntimeWarning: Mean of empty slice\n",
      "  sholo_m = np.squeeze(np.nanmean(sholo_temp, axis = 0))\n"
     ]
    },
    {
     "name": "stdout",
     "output_type": "stream",
     "text": [
      "['AG138', 'AG155', 'AG129', 'AG136', 'AG151']\n"
     ]
    },
    {
     "name": "stderr",
     "output_type": "stream",
     "text": [
      "/var/folders/7w/cb7mhl253wdbc67t80fs_bmc0000gn/T/ipykernel_87452/526044833.py:64: DeprecationWarning: `np.int` is a deprecated alias for the builtin `int`. To silence this warning, use `int` by itself. Doing this will not modify any behavior and is safe. When replacing `np.int`, you may wish to use e.g. `np.int64` or `np.int32` to specify the precision. If you wish to review your current use, check the release note link for additional information.\n",
      "Deprecated in NumPy 1.20; for more details and guidance: https://numpy.org/devdocs/release/1.20.0-notes.html#deprecations\n",
      "  sample_rate = np.int(raw.info['sfreq'])\n",
      "/var/folders/7w/cb7mhl253wdbc67t80fs_bmc0000gn/T/ipykernel_87452/526044833.py:98: RuntimeWarning: Mean of empty slice\n",
      "  sholo_m = np.squeeze(np.nanmean(sholo_temp, axis = 0))\n"
     ]
    },
    {
     "name": "stdout",
     "output_type": "stream",
     "text": [
      "['AG140', 'AG152', 'AG062', 'AG058', 'AG057']\n"
     ]
    },
    {
     "name": "stderr",
     "output_type": "stream",
     "text": [
      "/var/folders/7w/cb7mhl253wdbc67t80fs_bmc0000gn/T/ipykernel_87452/526044833.py:64: DeprecationWarning: `np.int` is a deprecated alias for the builtin `int`. To silence this warning, use `int` by itself. Doing this will not modify any behavior and is safe. When replacing `np.int`, you may wish to use e.g. `np.int64` or `np.int32` to specify the precision. If you wish to review your current use, check the release note link for additional information.\n",
      "Deprecated in NumPy 1.20; for more details and guidance: https://numpy.org/devdocs/release/1.20.0-notes.html#deprecations\n",
      "  sample_rate = np.int(raw.info['sfreq'])\n",
      "/var/folders/7w/cb7mhl253wdbc67t80fs_bmc0000gn/T/ipykernel_87452/526044833.py:98: RuntimeWarning: Mean of empty slice\n",
      "  sholo_m = np.squeeze(np.nanmean(sholo_temp, axis = 0))\n"
     ]
    },
    {
     "name": "stdout",
     "output_type": "stream",
     "text": [
      "['AG141', 'AG139', 'AG142', 'AG020', 'AG140']\n"
     ]
    },
    {
     "name": "stderr",
     "output_type": "stream",
     "text": [
      "/var/folders/7w/cb7mhl253wdbc67t80fs_bmc0000gn/T/ipykernel_87452/526044833.py:64: DeprecationWarning: `np.int` is a deprecated alias for the builtin `int`. To silence this warning, use `int` by itself. Doing this will not modify any behavior and is safe. When replacing `np.int`, you may wish to use e.g. `np.int64` or `np.int32` to specify the precision. If you wish to review your current use, check the release note link for additional information.\n",
      "Deprecated in NumPy 1.20; for more details and guidance: https://numpy.org/devdocs/release/1.20.0-notes.html#deprecations\n",
      "  sample_rate = np.int(raw.info['sfreq'])\n",
      "/var/folders/7w/cb7mhl253wdbc67t80fs_bmc0000gn/T/ipykernel_87452/526044833.py:98: RuntimeWarning: Mean of empty slice\n",
      "  sholo_m = np.squeeze(np.nanmean(sholo_temp, axis = 0))\n"
     ]
    },
    {
     "name": "stdout",
     "output_type": "stream",
     "text": [
      "['AG082', 'AG025', 'AG024', 'AG028', 'AG083']\n"
     ]
    },
    {
     "name": "stderr",
     "output_type": "stream",
     "text": [
      "/var/folders/7w/cb7mhl253wdbc67t80fs_bmc0000gn/T/ipykernel_87452/526044833.py:64: DeprecationWarning: `np.int` is a deprecated alias for the builtin `int`. To silence this warning, use `int` by itself. Doing this will not modify any behavior and is safe. When replacing `np.int`, you may wish to use e.g. `np.int64` or `np.int32` to specify the precision. If you wish to review your current use, check the release note link for additional information.\n",
      "Deprecated in NumPy 1.20; for more details and guidance: https://numpy.org/devdocs/release/1.20.0-notes.html#deprecations\n",
      "  sample_rate = np.int(raw.info['sfreq'])\n",
      "/var/folders/7w/cb7mhl253wdbc67t80fs_bmc0000gn/T/ipykernel_87452/526044833.py:98: RuntimeWarning: Mean of empty slice\n",
      "  sholo_m = np.squeeze(np.nanmean(sholo_temp, axis = 0))\n"
     ]
    },
    {
     "name": "stdout",
     "output_type": "stream",
     "text": [
      "['AG139', 'AG135', 'AG120', 'AG136', 'AG141']\n"
     ]
    },
    {
     "name": "stderr",
     "output_type": "stream",
     "text": [
      "/var/folders/7w/cb7mhl253wdbc67t80fs_bmc0000gn/T/ipykernel_87452/526044833.py:64: DeprecationWarning: `np.int` is a deprecated alias for the builtin `int`. To silence this warning, use `int` by itself. Doing this will not modify any behavior and is safe. When replacing `np.int`, you may wish to use e.g. `np.int64` or `np.int32` to specify the precision. If you wish to review your current use, check the release note link for additional information.\n",
      "Deprecated in NumPy 1.20; for more details and guidance: https://numpy.org/devdocs/release/1.20.0-notes.html#deprecations\n",
      "  sample_rate = np.int(raw.info['sfreq'])\n",
      "/var/folders/7w/cb7mhl253wdbc67t80fs_bmc0000gn/T/ipykernel_87452/526044833.py:98: RuntimeWarning: Mean of empty slice\n",
      "  sholo_m = np.squeeze(np.nanmean(sholo_temp, axis = 0))\n"
     ]
    },
    {
     "name": "stdout",
     "output_type": "stream",
     "text": [
      "['AG125', 'AG126', 'AG122', 'AG124', 'AG128']\n"
     ]
    },
    {
     "name": "stderr",
     "output_type": "stream",
     "text": [
      "/var/folders/7w/cb7mhl253wdbc67t80fs_bmc0000gn/T/ipykernel_87452/526044833.py:64: DeprecationWarning: `np.int` is a deprecated alias for the builtin `int`. To silence this warning, use `int` by itself. Doing this will not modify any behavior and is safe. When replacing `np.int`, you may wish to use e.g. `np.int64` or `np.int32` to specify the precision. If you wish to review your current use, check the release note link for additional information.\n",
      "Deprecated in NumPy 1.20; for more details and guidance: https://numpy.org/devdocs/release/1.20.0-notes.html#deprecations\n",
      "  sample_rate = np.int(raw.info['sfreq'])\n",
      "/var/folders/7w/cb7mhl253wdbc67t80fs_bmc0000gn/T/ipykernel_87452/526044833.py:98: RuntimeWarning: Mean of empty slice\n",
      "  sholo_m = np.squeeze(np.nanmean(sholo_temp, axis = 0))\n"
     ]
    },
    {
     "name": "stdout",
     "output_type": "stream",
     "text": [
      "['AG140', 'AG125', 'AG160', 'AG142', 'AG151']\n"
     ]
    },
    {
     "name": "stderr",
     "output_type": "stream",
     "text": [
      "/var/folders/7w/cb7mhl253wdbc67t80fs_bmc0000gn/T/ipykernel_87452/526044833.py:64: DeprecationWarning: `np.int` is a deprecated alias for the builtin `int`. To silence this warning, use `int` by itself. Doing this will not modify any behavior and is safe. When replacing `np.int`, you may wish to use e.g. `np.int64` or `np.int32` to specify the precision. If you wish to review your current use, check the release note link for additional information.\n",
      "Deprecated in NumPy 1.20; for more details and guidance: https://numpy.org/devdocs/release/1.20.0-notes.html#deprecations\n",
      "  sample_rate = np.int(raw.info['sfreq'])\n",
      "/var/folders/7w/cb7mhl253wdbc67t80fs_bmc0000gn/T/ipykernel_87452/526044833.py:98: RuntimeWarning: Mean of empty slice\n",
      "  sholo_m = np.squeeze(np.nanmean(sholo_temp, axis = 0))\n"
     ]
    },
    {
     "name": "stdout",
     "output_type": "stream",
     "text": [
      "['AG121', 'AG153', 'AG150', 'AG118', 'AG119']\n"
     ]
    },
    {
     "name": "stderr",
     "output_type": "stream",
     "text": [
      "/var/folders/7w/cb7mhl253wdbc67t80fs_bmc0000gn/T/ipykernel_87452/526044833.py:64: DeprecationWarning: `np.int` is a deprecated alias for the builtin `int`. To silence this warning, use `int` by itself. Doing this will not modify any behavior and is safe. When replacing `np.int`, you may wish to use e.g. `np.int64` or `np.int32` to specify the precision. If you wish to review your current use, check the release note link for additional information.\n",
      "Deprecated in NumPy 1.20; for more details and guidance: https://numpy.org/devdocs/release/1.20.0-notes.html#deprecations\n",
      "  sample_rate = np.int(raw.info['sfreq'])\n",
      "/var/folders/7w/cb7mhl253wdbc67t80fs_bmc0000gn/T/ipykernel_87452/526044833.py:98: RuntimeWarning: Mean of empty slice\n",
      "  sholo_m = np.squeeze(np.nanmean(sholo_temp, axis = 0))\n"
     ]
    },
    {
     "name": "stdout",
     "output_type": "stream",
     "text": [
      "['AG064', 'AG019', 'AG115', 'AG140', 'AG129']\n"
     ]
    },
    {
     "name": "stderr",
     "output_type": "stream",
     "text": [
      "/var/folders/7w/cb7mhl253wdbc67t80fs_bmc0000gn/T/ipykernel_87452/526044833.py:64: DeprecationWarning: `np.int` is a deprecated alias for the builtin `int`. To silence this warning, use `int` by itself. Doing this will not modify any behavior and is safe. When replacing `np.int`, you may wish to use e.g. `np.int64` or `np.int32` to specify the precision. If you wish to review your current use, check the release note link for additional information.\n",
      "Deprecated in NumPy 1.20; for more details and guidance: https://numpy.org/devdocs/release/1.20.0-notes.html#deprecations\n",
      "  sample_rate = np.int(raw.info['sfreq'])\n",
      "/var/folders/7w/cb7mhl253wdbc67t80fs_bmc0000gn/T/ipykernel_87452/526044833.py:98: RuntimeWarning: Mean of empty slice\n",
      "  sholo_m = np.squeeze(np.nanmean(sholo_temp, axis = 0))\n"
     ]
    },
    {
     "name": "stdout",
     "output_type": "stream",
     "text": [
      "['AG151', 'AG149', 'AG153', 'AG126', 'AG152']\n"
     ]
    },
    {
     "name": "stderr",
     "output_type": "stream",
     "text": [
      "/var/folders/7w/cb7mhl253wdbc67t80fs_bmc0000gn/T/ipykernel_87452/526044833.py:64: DeprecationWarning: `np.int` is a deprecated alias for the builtin `int`. To silence this warning, use `int` by itself. Doing this will not modify any behavior and is safe. When replacing `np.int`, you may wish to use e.g. `np.int64` or `np.int32` to specify the precision. If you wish to review your current use, check the release note link for additional information.\n",
      "Deprecated in NumPy 1.20; for more details and guidance: https://numpy.org/devdocs/release/1.20.0-notes.html#deprecations\n",
      "  sample_rate = np.int(raw.info['sfreq'])\n",
      "/var/folders/7w/cb7mhl253wdbc67t80fs_bmc0000gn/T/ipykernel_87452/526044833.py:98: RuntimeWarning: Mean of empty slice\n",
      "  sholo_m = np.squeeze(np.nanmean(sholo_temp, axis = 0))\n"
     ]
    },
    {
     "name": "stdout",
     "output_type": "stream",
     "text": [
      "['AG154', 'AG152', 'AG150', 'AG083', 'AG145']\n"
     ]
    },
    {
     "name": "stderr",
     "output_type": "stream",
     "text": [
      "/var/folders/7w/cb7mhl253wdbc67t80fs_bmc0000gn/T/ipykernel_87452/526044833.py:64: DeprecationWarning: `np.int` is a deprecated alias for the builtin `int`. To silence this warning, use `int` by itself. Doing this will not modify any behavior and is safe. When replacing `np.int`, you may wish to use e.g. `np.int64` or `np.int32` to specify the precision. If you wish to review your current use, check the release note link for additional information.\n",
      "Deprecated in NumPy 1.20; for more details and guidance: https://numpy.org/devdocs/release/1.20.0-notes.html#deprecations\n",
      "  sample_rate = np.int(raw.info['sfreq'])\n",
      "/var/folders/7w/cb7mhl253wdbc67t80fs_bmc0000gn/T/ipykernel_87452/526044833.py:98: RuntimeWarning: Mean of empty slice\n",
      "  sholo_m = np.squeeze(np.nanmean(sholo_temp, axis = 0))\n",
      "/var/folders/7w/cb7mhl253wdbc67t80fs_bmc0000gn/T/ipykernel_87452/526044833.py:103: RuntimeWarning: More than 20 figures have been opened. Figures created through the pyplot interface (`matplotlib.pyplot.figure`) are retained until explicitly closed and may consume too much memory. (To control this warning, see the rcParam `figure.max_open_warning`).\n",
      "  fig, ax = plt.subplots(figsize=(32*px, 32*px))\n"
     ]
    },
    {
     "name": "stdout",
     "output_type": "stream",
     "text": [
      "['AG158', 'AG056', 'AG129', 'AG156', 'AG120']\n"
     ]
    },
    {
     "name": "stderr",
     "output_type": "stream",
     "text": [
      "/var/folders/7w/cb7mhl253wdbc67t80fs_bmc0000gn/T/ipykernel_87452/526044833.py:64: DeprecationWarning: `np.int` is a deprecated alias for the builtin `int`. To silence this warning, use `int` by itself. Doing this will not modify any behavior and is safe. When replacing `np.int`, you may wish to use e.g. `np.int64` or `np.int32` to specify the precision. If you wish to review your current use, check the release note link for additional information.\n",
      "Deprecated in NumPy 1.20; for more details and guidance: https://numpy.org/devdocs/release/1.20.0-notes.html#deprecations\n",
      "  sample_rate = np.int(raw.info['sfreq'])\n",
      "/var/folders/7w/cb7mhl253wdbc67t80fs_bmc0000gn/T/ipykernel_87452/526044833.py:98: RuntimeWarning: Mean of empty slice\n",
      "  sholo_m = np.squeeze(np.nanmean(sholo_temp, axis = 0))\n"
     ]
    },
    {
     "name": "stdout",
     "output_type": "stream",
     "text": [
      "['AG020', 'AG145', 'AG025', 'AG021', 'AG143']\n"
     ]
    },
    {
     "name": "stderr",
     "output_type": "stream",
     "text": [
      "/var/folders/7w/cb7mhl253wdbc67t80fs_bmc0000gn/T/ipykernel_87452/526044833.py:64: DeprecationWarning: `np.int` is a deprecated alias for the builtin `int`. To silence this warning, use `int` by itself. Doing this will not modify any behavior and is safe. When replacing `np.int`, you may wish to use e.g. `np.int64` or `np.int32` to specify the precision. If you wish to review your current use, check the release note link for additional information.\n",
      "Deprecated in NumPy 1.20; for more details and guidance: https://numpy.org/devdocs/release/1.20.0-notes.html#deprecations\n",
      "  sample_rate = np.int(raw.info['sfreq'])\n",
      "/var/folders/7w/cb7mhl253wdbc67t80fs_bmc0000gn/T/ipykernel_87452/526044833.py:98: RuntimeWarning: Mean of empty slice\n",
      "  sholo_m = np.squeeze(np.nanmean(sholo_temp, axis = 0))\n"
     ]
    },
    {
     "name": "stdout",
     "output_type": "stream",
     "text": [
      "['AG135', 'AG154', 'AG151', 'AG136', 'AG145']\n"
     ]
    },
    {
     "name": "stderr",
     "output_type": "stream",
     "text": [
      "/var/folders/7w/cb7mhl253wdbc67t80fs_bmc0000gn/T/ipykernel_87452/526044833.py:64: DeprecationWarning: `np.int` is a deprecated alias for the builtin `int`. To silence this warning, use `int` by itself. Doing this will not modify any behavior and is safe. When replacing `np.int`, you may wish to use e.g. `np.int64` or `np.int32` to specify the precision. If you wish to review your current use, check the release note link for additional information.\n",
      "Deprecated in NumPy 1.20; for more details and guidance: https://numpy.org/devdocs/release/1.20.0-notes.html#deprecations\n",
      "  sample_rate = np.int(raw.info['sfreq'])\n",
      "/var/folders/7w/cb7mhl253wdbc67t80fs_bmc0000gn/T/ipykernel_87452/526044833.py:98: RuntimeWarning: Mean of empty slice\n",
      "  sholo_m = np.squeeze(np.nanmean(sholo_temp, axis = 0))\n"
     ]
    },
    {
     "name": "stdout",
     "output_type": "stream",
     "text": [
      "['AG154', 'AG140', 'AG129', 'AG141', 'AG138']\n"
     ]
    },
    {
     "name": "stderr",
     "output_type": "stream",
     "text": [
      "/var/folders/7w/cb7mhl253wdbc67t80fs_bmc0000gn/T/ipykernel_87452/526044833.py:64: DeprecationWarning: `np.int` is a deprecated alias for the builtin `int`. To silence this warning, use `int` by itself. Doing this will not modify any behavior and is safe. When replacing `np.int`, you may wish to use e.g. `np.int64` or `np.int32` to specify the precision. If you wish to review your current use, check the release note link for additional information.\n",
      "Deprecated in NumPy 1.20; for more details and guidance: https://numpy.org/devdocs/release/1.20.0-notes.html#deprecations\n",
      "  sample_rate = np.int(raw.info['sfreq'])\n",
      "/var/folders/7w/cb7mhl253wdbc67t80fs_bmc0000gn/T/ipykernel_87452/526044833.py:98: RuntimeWarning: Mean of empty slice\n",
      "  sholo_m = np.squeeze(np.nanmean(sholo_temp, axis = 0))\n"
     ]
    },
    {
     "name": "stdout",
     "output_type": "stream",
     "text": [
      "['AG140', 'AG062', 'AG141', 'AG143', 'AG139']\n"
     ]
    },
    {
     "name": "stderr",
     "output_type": "stream",
     "text": [
      "/var/folders/7w/cb7mhl253wdbc67t80fs_bmc0000gn/T/ipykernel_87452/526044833.py:64: DeprecationWarning: `np.int` is a deprecated alias for the builtin `int`. To silence this warning, use `int` by itself. Doing this will not modify any behavior and is safe. When replacing `np.int`, you may wish to use e.g. `np.int64` or `np.int32` to specify the precision. If you wish to review your current use, check the release note link for additional information.\n",
      "Deprecated in NumPy 1.20; for more details and guidance: https://numpy.org/devdocs/release/1.20.0-notes.html#deprecations\n",
      "  sample_rate = np.int(raw.info['sfreq'])\n",
      "/var/folders/7w/cb7mhl253wdbc67t80fs_bmc0000gn/T/ipykernel_87452/526044833.py:98: RuntimeWarning: Mean of empty slice\n",
      "  sholo_m = np.squeeze(np.nanmean(sholo_temp, axis = 0))\n"
     ]
    },
    {
     "name": "stdout",
     "output_type": "stream",
     "text": [
      "['AG154', 'AG152', 'AG155', 'AG145', 'AG157']\n"
     ]
    },
    {
     "name": "stderr",
     "output_type": "stream",
     "text": [
      "/var/folders/7w/cb7mhl253wdbc67t80fs_bmc0000gn/T/ipykernel_87452/526044833.py:64: DeprecationWarning: `np.int` is a deprecated alias for the builtin `int`. To silence this warning, use `int` by itself. Doing this will not modify any behavior and is safe. When replacing `np.int`, you may wish to use e.g. `np.int64` or `np.int32` to specify the precision. If you wish to review your current use, check the release note link for additional information.\n",
      "Deprecated in NumPy 1.20; for more details and guidance: https://numpy.org/devdocs/release/1.20.0-notes.html#deprecations\n",
      "  sample_rate = np.int(raw.info['sfreq'])\n",
      "/var/folders/7w/cb7mhl253wdbc67t80fs_bmc0000gn/T/ipykernel_87452/526044833.py:98: RuntimeWarning: Mean of empty slice\n",
      "  sholo_m = np.squeeze(np.nanmean(sholo_temp, axis = 0))\n"
     ]
    },
    {
     "name": "stdout",
     "output_type": "stream",
     "text": [
      "['AG056', 'AG140', 'AG062', 'AG129', 'AG061']\n"
     ]
    },
    {
     "name": "stderr",
     "output_type": "stream",
     "text": [
      "/var/folders/7w/cb7mhl253wdbc67t80fs_bmc0000gn/T/ipykernel_87452/526044833.py:64: DeprecationWarning: `np.int` is a deprecated alias for the builtin `int`. To silence this warning, use `int` by itself. Doing this will not modify any behavior and is safe. When replacing `np.int`, you may wish to use e.g. `np.int64` or `np.int32` to specify the precision. If you wish to review your current use, check the release note link for additional information.\n",
      "Deprecated in NumPy 1.20; for more details and guidance: https://numpy.org/devdocs/release/1.20.0-notes.html#deprecations\n",
      "  sample_rate = np.int(raw.info['sfreq'])\n",
      "/var/folders/7w/cb7mhl253wdbc67t80fs_bmc0000gn/T/ipykernel_87452/526044833.py:98: RuntimeWarning: Mean of empty slice\n",
      "  sholo_m = np.squeeze(np.nanmean(sholo_temp, axis = 0))\n"
     ]
    },
    {
     "name": "stdout",
     "output_type": "stream",
     "text": [
      "['AG152', 'AG136', 'AG138', 'AG155', 'AG158']\n"
     ]
    },
    {
     "name": "stderr",
     "output_type": "stream",
     "text": [
      "/var/folders/7w/cb7mhl253wdbc67t80fs_bmc0000gn/T/ipykernel_87452/526044833.py:64: DeprecationWarning: `np.int` is a deprecated alias for the builtin `int`. To silence this warning, use `int` by itself. Doing this will not modify any behavior and is safe. When replacing `np.int`, you may wish to use e.g. `np.int64` or `np.int32` to specify the precision. If you wish to review your current use, check the release note link for additional information.\n",
      "Deprecated in NumPy 1.20; for more details and guidance: https://numpy.org/devdocs/release/1.20.0-notes.html#deprecations\n",
      "  sample_rate = np.int(raw.info['sfreq'])\n",
      "/var/folders/7w/cb7mhl253wdbc67t80fs_bmc0000gn/T/ipykernel_87452/526044833.py:98: RuntimeWarning: Mean of empty slice\n",
      "  sholo_m = np.squeeze(np.nanmean(sholo_temp, axis = 0))\n"
     ]
    },
    {
     "name": "stdout",
     "output_type": "stream",
     "text": [
      "['AG138', 'AG140', 'AG136', 'AG139', 'AG129']\n"
     ]
    },
    {
     "name": "stderr",
     "output_type": "stream",
     "text": [
      "/var/folders/7w/cb7mhl253wdbc67t80fs_bmc0000gn/T/ipykernel_87452/526044833.py:64: DeprecationWarning: `np.int` is a deprecated alias for the builtin `int`. To silence this warning, use `int` by itself. Doing this will not modify any behavior and is safe. When replacing `np.int`, you may wish to use e.g. `np.int64` or `np.int32` to specify the precision. If you wish to review your current use, check the release note link for additional information.\n",
      "Deprecated in NumPy 1.20; for more details and guidance: https://numpy.org/devdocs/release/1.20.0-notes.html#deprecations\n",
      "  sample_rate = np.int(raw.info['sfreq'])\n",
      "/var/folders/7w/cb7mhl253wdbc67t80fs_bmc0000gn/T/ipykernel_87452/526044833.py:98: RuntimeWarning: Mean of empty slice\n",
      "  sholo_m = np.squeeze(np.nanmean(sholo_temp, axis = 0))\n"
     ]
    },
    {
     "name": "stdout",
     "output_type": "stream",
     "text": [
      "['AG140', 'AG142', 'AG143', 'AG137', 'AG145']\n"
     ]
    },
    {
     "name": "stderr",
     "output_type": "stream",
     "text": [
      "/var/folders/7w/cb7mhl253wdbc67t80fs_bmc0000gn/T/ipykernel_87452/526044833.py:64: DeprecationWarning: `np.int` is a deprecated alias for the builtin `int`. To silence this warning, use `int` by itself. Doing this will not modify any behavior and is safe. When replacing `np.int`, you may wish to use e.g. `np.int64` or `np.int32` to specify the precision. If you wish to review your current use, check the release note link for additional information.\n",
      "Deprecated in NumPy 1.20; for more details and guidance: https://numpy.org/devdocs/release/1.20.0-notes.html#deprecations\n",
      "  sample_rate = np.int(raw.info['sfreq'])\n",
      "/var/folders/7w/cb7mhl253wdbc67t80fs_bmc0000gn/T/ipykernel_87452/526044833.py:98: RuntimeWarning: Mean of empty slice\n",
      "  sholo_m = np.squeeze(np.nanmean(sholo_temp, axis = 0))\n"
     ]
    },
    {
     "name": "stdout",
     "output_type": "stream",
     "text": [
      "['AG140', 'AG142', 'AG143', 'AG141', 'AG084']\n"
     ]
    },
    {
     "name": "stderr",
     "output_type": "stream",
     "text": [
      "/var/folders/7w/cb7mhl253wdbc67t80fs_bmc0000gn/T/ipykernel_87452/526044833.py:64: DeprecationWarning: `np.int` is a deprecated alias for the builtin `int`. To silence this warning, use `int` by itself. Doing this will not modify any behavior and is safe. When replacing `np.int`, you may wish to use e.g. `np.int64` or `np.int32` to specify the precision. If you wish to review your current use, check the release note link for additional information.\n",
      "Deprecated in NumPy 1.20; for more details and guidance: https://numpy.org/devdocs/release/1.20.0-notes.html#deprecations\n",
      "  sample_rate = np.int(raw.info['sfreq'])\n",
      "/var/folders/7w/cb7mhl253wdbc67t80fs_bmc0000gn/T/ipykernel_87452/526044833.py:98: RuntimeWarning: Mean of empty slice\n",
      "  sholo_m = np.squeeze(np.nanmean(sholo_temp, axis = 0))\n"
     ]
    },
    {
     "name": "stdout",
     "output_type": "stream",
     "text": [
      "['AG120', 'AG145', 'AG149', 'AG150', 'AG154']\n"
     ]
    },
    {
     "name": "stderr",
     "output_type": "stream",
     "text": [
      "/var/folders/7w/cb7mhl253wdbc67t80fs_bmc0000gn/T/ipykernel_87452/526044833.py:64: DeprecationWarning: `np.int` is a deprecated alias for the builtin `int`. To silence this warning, use `int` by itself. Doing this will not modify any behavior and is safe. When replacing `np.int`, you may wish to use e.g. `np.int64` or `np.int32` to specify the precision. If you wish to review your current use, check the release note link for additional information.\n",
      "Deprecated in NumPy 1.20; for more details and guidance: https://numpy.org/devdocs/release/1.20.0-notes.html#deprecations\n",
      "  sample_rate = np.int(raw.info['sfreq'])\n",
      "/var/folders/7w/cb7mhl253wdbc67t80fs_bmc0000gn/T/ipykernel_87452/526044833.py:98: RuntimeWarning: Mean of empty slice\n",
      "  sholo_m = np.squeeze(np.nanmean(sholo_temp, axis = 0))\n"
     ]
    },
    {
     "name": "stdout",
     "output_type": "stream",
     "text": [
      "['AG020', 'AG144', 'AG156', 'AG141', 'AG022']\n"
     ]
    },
    {
     "name": "stderr",
     "output_type": "stream",
     "text": [
      "/var/folders/7w/cb7mhl253wdbc67t80fs_bmc0000gn/T/ipykernel_87452/526044833.py:64: DeprecationWarning: `np.int` is a deprecated alias for the builtin `int`. To silence this warning, use `int` by itself. Doing this will not modify any behavior and is safe. When replacing `np.int`, you may wish to use e.g. `np.int64` or `np.int32` to specify the precision. If you wish to review your current use, check the release note link for additional information.\n",
      "Deprecated in NumPy 1.20; for more details and guidance: https://numpy.org/devdocs/release/1.20.0-notes.html#deprecations\n",
      "  sample_rate = np.int(raw.info['sfreq'])\n",
      "/var/folders/7w/cb7mhl253wdbc67t80fs_bmc0000gn/T/ipykernel_87452/526044833.py:98: RuntimeWarning: Mean of empty slice\n",
      "  sholo_m = np.squeeze(np.nanmean(sholo_temp, axis = 0))\n"
     ]
    },
    {
     "name": "stdout",
     "output_type": "stream",
     "text": [
      "['AG021', 'AG020', 'AG025', 'AG145', 'AG142']\n"
     ]
    },
    {
     "name": "stderr",
     "output_type": "stream",
     "text": [
      "/var/folders/7w/cb7mhl253wdbc67t80fs_bmc0000gn/T/ipykernel_87452/526044833.py:64: DeprecationWarning: `np.int` is a deprecated alias for the builtin `int`. To silence this warning, use `int` by itself. Doing this will not modify any behavior and is safe. When replacing `np.int`, you may wish to use e.g. `np.int64` or `np.int32` to specify the precision. If you wish to review your current use, check the release note link for additional information.\n",
      "Deprecated in NumPy 1.20; for more details and guidance: https://numpy.org/devdocs/release/1.20.0-notes.html#deprecations\n",
      "  sample_rate = np.int(raw.info['sfreq'])\n",
      "/var/folders/7w/cb7mhl253wdbc67t80fs_bmc0000gn/T/ipykernel_87452/526044833.py:98: RuntimeWarning: Mean of empty slice\n",
      "  sholo_m = np.squeeze(np.nanmean(sholo_temp, axis = 0))\n"
     ]
    },
    {
     "name": "stdout",
     "output_type": "stream",
     "text": [
      "['AG050', 'AG082', 'AG053', 'AG054', 'AG055']\n"
     ]
    },
    {
     "name": "stderr",
     "output_type": "stream",
     "text": [
      "/var/folders/7w/cb7mhl253wdbc67t80fs_bmc0000gn/T/ipykernel_87452/526044833.py:64: DeprecationWarning: `np.int` is a deprecated alias for the builtin `int`. To silence this warning, use `int` by itself. Doing this will not modify any behavior and is safe. When replacing `np.int`, you may wish to use e.g. `np.int64` or `np.int32` to specify the precision. If you wish to review your current use, check the release note link for additional information.\n",
      "Deprecated in NumPy 1.20; for more details and guidance: https://numpy.org/devdocs/release/1.20.0-notes.html#deprecations\n",
      "  sample_rate = np.int(raw.info['sfreq'])\n",
      "/var/folders/7w/cb7mhl253wdbc67t80fs_bmc0000gn/T/ipykernel_87452/526044833.py:98: RuntimeWarning: Mean of empty slice\n",
      "  sholo_m = np.squeeze(np.nanmean(sholo_temp, axis = 0))\n"
     ]
    },
    {
     "name": "stdout",
     "output_type": "stream",
     "text": [
      "['AG145', 'AG154', 'AG156', 'AG138', 'AG140']\n"
     ]
    },
    {
     "name": "stderr",
     "output_type": "stream",
     "text": [
      "/var/folders/7w/cb7mhl253wdbc67t80fs_bmc0000gn/T/ipykernel_87452/526044833.py:64: DeprecationWarning: `np.int` is a deprecated alias for the builtin `int`. To silence this warning, use `int` by itself. Doing this will not modify any behavior and is safe. When replacing `np.int`, you may wish to use e.g. `np.int64` or `np.int32` to specify the precision. If you wish to review your current use, check the release note link for additional information.\n",
      "Deprecated in NumPy 1.20; for more details and guidance: https://numpy.org/devdocs/release/1.20.0-notes.html#deprecations\n",
      "  sample_rate = np.int(raw.info['sfreq'])\n",
      "/var/folders/7w/cb7mhl253wdbc67t80fs_bmc0000gn/T/ipykernel_87452/526044833.py:98: RuntimeWarning: Mean of empty slice\n",
      "  sholo_m = np.squeeze(np.nanmean(sholo_temp, axis = 0))\n"
     ]
    },
    {
     "name": "stdout",
     "output_type": "stream",
     "text": [
      "['AG154', 'AG152', 'AG145', 'AG135', 'AG155']\n"
     ]
    },
    {
     "name": "stderr",
     "output_type": "stream",
     "text": [
      "/var/folders/7w/cb7mhl253wdbc67t80fs_bmc0000gn/T/ipykernel_87452/526044833.py:64: DeprecationWarning: `np.int` is a deprecated alias for the builtin `int`. To silence this warning, use `int` by itself. Doing this will not modify any behavior and is safe. When replacing `np.int`, you may wish to use e.g. `np.int64` or `np.int32` to specify the precision. If you wish to review your current use, check the release note link for additional information.\n",
      "Deprecated in NumPy 1.20; for more details and guidance: https://numpy.org/devdocs/release/1.20.0-notes.html#deprecations\n",
      "  sample_rate = np.int(raw.info['sfreq'])\n",
      "/var/folders/7w/cb7mhl253wdbc67t80fs_bmc0000gn/T/ipykernel_87452/526044833.py:98: RuntimeWarning: Mean of empty slice\n",
      "  sholo_m = np.squeeze(np.nanmean(sholo_temp, axis = 0))\n"
     ]
    },
    {
     "name": "stdout",
     "output_type": "stream",
     "text": [
      "['AG152', 'AG122', 'AG058', 'AG048', 'AG090']\n"
     ]
    },
    {
     "name": "stderr",
     "output_type": "stream",
     "text": [
      "/var/folders/7w/cb7mhl253wdbc67t80fs_bmc0000gn/T/ipykernel_87452/526044833.py:64: DeprecationWarning: `np.int` is a deprecated alias for the builtin `int`. To silence this warning, use `int` by itself. Doing this will not modify any behavior and is safe. When replacing `np.int`, you may wish to use e.g. `np.int64` or `np.int32` to specify the precision. If you wish to review your current use, check the release note link for additional information.\n",
      "Deprecated in NumPy 1.20; for more details and guidance: https://numpy.org/devdocs/release/1.20.0-notes.html#deprecations\n",
      "  sample_rate = np.int(raw.info['sfreq'])\n",
      "/var/folders/7w/cb7mhl253wdbc67t80fs_bmc0000gn/T/ipykernel_87452/526044833.py:98: RuntimeWarning: Mean of empty slice\n",
      "  sholo_m = np.squeeze(np.nanmean(sholo_temp, axis = 0))\n"
     ]
    },
    {
     "name": "stdout",
     "output_type": "stream",
     "text": [
      "['AG124', 'AG086', 'AG128', 'AG122', 'AG090']\n"
     ]
    },
    {
     "name": "stderr",
     "output_type": "stream",
     "text": [
      "/var/folders/7w/cb7mhl253wdbc67t80fs_bmc0000gn/T/ipykernel_87452/526044833.py:64: DeprecationWarning: `np.int` is a deprecated alias for the builtin `int`. To silence this warning, use `int` by itself. Doing this will not modify any behavior and is safe. When replacing `np.int`, you may wish to use e.g. `np.int64` or `np.int32` to specify the precision. If you wish to review your current use, check the release note link for additional information.\n",
      "Deprecated in NumPy 1.20; for more details and guidance: https://numpy.org/devdocs/release/1.20.0-notes.html#deprecations\n",
      "  sample_rate = np.int(raw.info['sfreq'])\n",
      "/var/folders/7w/cb7mhl253wdbc67t80fs_bmc0000gn/T/ipykernel_87452/526044833.py:98: RuntimeWarning: Mean of empty slice\n",
      "  sholo_m = np.squeeze(np.nanmean(sholo_temp, axis = 0))\n"
     ]
    },
    {
     "name": "stdout",
     "output_type": "stream",
     "text": [
      "['AG055', 'AG050', 'AG053', 'AG129', 'AG056']\n"
     ]
    },
    {
     "name": "stderr",
     "output_type": "stream",
     "text": [
      "/var/folders/7w/cb7mhl253wdbc67t80fs_bmc0000gn/T/ipykernel_87452/526044833.py:64: DeprecationWarning: `np.int` is a deprecated alias for the builtin `int`. To silence this warning, use `int` by itself. Doing this will not modify any behavior and is safe. When replacing `np.int`, you may wish to use e.g. `np.int64` or `np.int32` to specify the precision. If you wish to review your current use, check the release note link for additional information.\n",
      "Deprecated in NumPy 1.20; for more details and guidance: https://numpy.org/devdocs/release/1.20.0-notes.html#deprecations\n",
      "  sample_rate = np.int(raw.info['sfreq'])\n",
      "/var/folders/7w/cb7mhl253wdbc67t80fs_bmc0000gn/T/ipykernel_87452/526044833.py:98: RuntimeWarning: Mean of empty slice\n",
      "  sholo_m = np.squeeze(np.nanmean(sholo_temp, axis = 0))\n"
     ]
    },
    {
     "name": "stdout",
     "output_type": "stream",
     "text": [
      "['AG156', 'AG126', 'AG139', 'AG141', 'AG140']\n"
     ]
    },
    {
     "name": "stderr",
     "output_type": "stream",
     "text": [
      "/var/folders/7w/cb7mhl253wdbc67t80fs_bmc0000gn/T/ipykernel_87452/526044833.py:64: DeprecationWarning: `np.int` is a deprecated alias for the builtin `int`. To silence this warning, use `int` by itself. Doing this will not modify any behavior and is safe. When replacing `np.int`, you may wish to use e.g. `np.int64` or `np.int32` to specify the precision. If you wish to review your current use, check the release note link for additional information.\n",
      "Deprecated in NumPy 1.20; for more details and guidance: https://numpy.org/devdocs/release/1.20.0-notes.html#deprecations\n",
      "  sample_rate = np.int(raw.info['sfreq'])\n",
      "/var/folders/7w/cb7mhl253wdbc67t80fs_bmc0000gn/T/ipykernel_87452/526044833.py:98: RuntimeWarning: Mean of empty slice\n",
      "  sholo_m = np.squeeze(np.nanmean(sholo_temp, axis = 0))\n"
     ]
    },
    {
     "name": "stdout",
     "output_type": "stream",
     "text": [
      "['AG121', 'AG119', 'AG129', 'AG138', 'AG062']\n"
     ]
    },
    {
     "name": "stderr",
     "output_type": "stream",
     "text": [
      "/var/folders/7w/cb7mhl253wdbc67t80fs_bmc0000gn/T/ipykernel_87452/526044833.py:64: DeprecationWarning: `np.int` is a deprecated alias for the builtin `int`. To silence this warning, use `int` by itself. Doing this will not modify any behavior and is safe. When replacing `np.int`, you may wish to use e.g. `np.int64` or `np.int32` to specify the precision. If you wish to review your current use, check the release note link for additional information.\n",
      "Deprecated in NumPy 1.20; for more details and guidance: https://numpy.org/devdocs/release/1.20.0-notes.html#deprecations\n",
      "  sample_rate = np.int(raw.info['sfreq'])\n",
      "/var/folders/7w/cb7mhl253wdbc67t80fs_bmc0000gn/T/ipykernel_87452/526044833.py:98: RuntimeWarning: Mean of empty slice\n",
      "  sholo_m = np.squeeze(np.nanmean(sholo_temp, axis = 0))\n"
     ]
    },
    {
     "name": "stdout",
     "output_type": "stream",
     "text": [
      "['AG136', 'AG138', 'AG139', 'AG041', 'AG129']\n"
     ]
    },
    {
     "name": "stderr",
     "output_type": "stream",
     "text": [
      "/var/folders/7w/cb7mhl253wdbc67t80fs_bmc0000gn/T/ipykernel_87452/526044833.py:64: DeprecationWarning: `np.int` is a deprecated alias for the builtin `int`. To silence this warning, use `int` by itself. Doing this will not modify any behavior and is safe. When replacing `np.int`, you may wish to use e.g. `np.int64` or `np.int32` to specify the precision. If you wish to review your current use, check the release note link for additional information.\n",
      "Deprecated in NumPy 1.20; for more details and guidance: https://numpy.org/devdocs/release/1.20.0-notes.html#deprecations\n",
      "  sample_rate = np.int(raw.info['sfreq'])\n",
      "/var/folders/7w/cb7mhl253wdbc67t80fs_bmc0000gn/T/ipykernel_87452/526044833.py:98: RuntimeWarning: Mean of empty slice\n",
      "  sholo_m = np.squeeze(np.nanmean(sholo_temp, axis = 0))\n"
     ]
    },
    {
     "name": "stdout",
     "output_type": "stream",
     "text": [
      "['AG136', 'AG138', 'AG122', 'AG129', 'AG135']\n"
     ]
    },
    {
     "name": "stderr",
     "output_type": "stream",
     "text": [
      "/var/folders/7w/cb7mhl253wdbc67t80fs_bmc0000gn/T/ipykernel_87452/526044833.py:64: DeprecationWarning: `np.int` is a deprecated alias for the builtin `int`. To silence this warning, use `int` by itself. Doing this will not modify any behavior and is safe. When replacing `np.int`, you may wish to use e.g. `np.int64` or `np.int32` to specify the precision. If you wish to review your current use, check the release note link for additional information.\n",
      "Deprecated in NumPy 1.20; for more details and guidance: https://numpy.org/devdocs/release/1.20.0-notes.html#deprecations\n",
      "  sample_rate = np.int(raw.info['sfreq'])\n",
      "/var/folders/7w/cb7mhl253wdbc67t80fs_bmc0000gn/T/ipykernel_87452/526044833.py:98: RuntimeWarning: Mean of empty slice\n",
      "  sholo_m = np.squeeze(np.nanmean(sholo_temp, axis = 0))\n"
     ]
    },
    {
     "name": "stdout",
     "output_type": "stream",
     "text": [
      "['AG046', 'AG057', 'AG156', 'AG037', 'AG027']\n"
     ]
    },
    {
     "name": "stderr",
     "output_type": "stream",
     "text": [
      "/var/folders/7w/cb7mhl253wdbc67t80fs_bmc0000gn/T/ipykernel_87452/526044833.py:64: DeprecationWarning: `np.int` is a deprecated alias for the builtin `int`. To silence this warning, use `int` by itself. Doing this will not modify any behavior and is safe. When replacing `np.int`, you may wish to use e.g. `np.int64` or `np.int32` to specify the precision. If you wish to review your current use, check the release note link for additional information.\n",
      "Deprecated in NumPy 1.20; for more details and guidance: https://numpy.org/devdocs/release/1.20.0-notes.html#deprecations\n",
      "  sample_rate = np.int(raw.info['sfreq'])\n",
      "/var/folders/7w/cb7mhl253wdbc67t80fs_bmc0000gn/T/ipykernel_87452/526044833.py:98: RuntimeWarning: Mean of empty slice\n",
      "  sholo_m = np.squeeze(np.nanmean(sholo_temp, axis = 0))\n"
     ]
    },
    {
     "name": "stdout",
     "output_type": "stream",
     "text": [
      "['AG118', 'AG114', 'AG125', 'AG152', 'AG117']\n"
     ]
    },
    {
     "name": "stderr",
     "output_type": "stream",
     "text": [
      "/var/folders/7w/cb7mhl253wdbc67t80fs_bmc0000gn/T/ipykernel_87452/526044833.py:64: DeprecationWarning: `np.int` is a deprecated alias for the builtin `int`. To silence this warning, use `int` by itself. Doing this will not modify any behavior and is safe. When replacing `np.int`, you may wish to use e.g. `np.int64` or `np.int32` to specify the precision. If you wish to review your current use, check the release note link for additional information.\n",
      "Deprecated in NumPy 1.20; for more details and guidance: https://numpy.org/devdocs/release/1.20.0-notes.html#deprecations\n",
      "  sample_rate = np.int(raw.info['sfreq'])\n",
      "/var/folders/7w/cb7mhl253wdbc67t80fs_bmc0000gn/T/ipykernel_87452/526044833.py:98: RuntimeWarning: Mean of empty slice\n",
      "  sholo_m = np.squeeze(np.nanmean(sholo_temp, axis = 0))\n"
     ]
    },
    {
     "name": "stdout",
     "output_type": "stream",
     "text": [
      "['AG120', 'AG154', 'AG156', 'AG148', 'AG126']\n"
     ]
    },
    {
     "name": "stderr",
     "output_type": "stream",
     "text": [
      "/var/folders/7w/cb7mhl253wdbc67t80fs_bmc0000gn/T/ipykernel_87452/526044833.py:64: DeprecationWarning: `np.int` is a deprecated alias for the builtin `int`. To silence this warning, use `int` by itself. Doing this will not modify any behavior and is safe. When replacing `np.int`, you may wish to use e.g. `np.int64` or `np.int32` to specify the precision. If you wish to review your current use, check the release note link for additional information.\n",
      "Deprecated in NumPy 1.20; for more details and guidance: https://numpy.org/devdocs/release/1.20.0-notes.html#deprecations\n",
      "  sample_rate = np.int(raw.info['sfreq'])\n",
      "/var/folders/7w/cb7mhl253wdbc67t80fs_bmc0000gn/T/ipykernel_87452/526044833.py:98: RuntimeWarning: Mean of empty slice\n",
      "  sholo_m = np.squeeze(np.nanmean(sholo_temp, axis = 0))\n"
     ]
    },
    {
     "name": "stdout",
     "output_type": "stream",
     "text": [
      "['AG154', 'AG157', 'AG160', 'AG156', 'AG155']\n"
     ]
    },
    {
     "name": "stderr",
     "output_type": "stream",
     "text": [
      "/var/folders/7w/cb7mhl253wdbc67t80fs_bmc0000gn/T/ipykernel_87452/526044833.py:64: DeprecationWarning: `np.int` is a deprecated alias for the builtin `int`. To silence this warning, use `int` by itself. Doing this will not modify any behavior and is safe. When replacing `np.int`, you may wish to use e.g. `np.int64` or `np.int32` to specify the precision. If you wish to review your current use, check the release note link for additional information.\n",
      "Deprecated in NumPy 1.20; for more details and guidance: https://numpy.org/devdocs/release/1.20.0-notes.html#deprecations\n",
      "  sample_rate = np.int(raw.info['sfreq'])\n",
      "/Users/kevinhsu/anaconda3/envs/mne/lib/python3.9/site-packages/numpy/lib/function_base.py:1540: RuntimeWarning: invalid value encountered in remainder\n",
      "  ddmod = mod(dd + pi, 2*pi) - pi\n",
      "/Users/kevinhsu/anaconda3/envs/mne/lib/python3.9/site-packages/emd/utils.py:297: RuntimeWarning: invalid value encountered in remainder\n",
      "  phases = (IP) % (ncycles * 2 * np.pi)\n"
     ]
    },
    {
     "name": "stdout",
     "output_type": "stream",
     "text": [
      "no id 49\n",
      "['AG135', 'AG136', 'AG019', 'AG064', 'AG061']\n"
     ]
    },
    {
     "name": "stderr",
     "output_type": "stream",
     "text": [
      "/var/folders/7w/cb7mhl253wdbc67t80fs_bmc0000gn/T/ipykernel_87452/526044833.py:64: DeprecationWarning: `np.int` is a deprecated alias for the builtin `int`. To silence this warning, use `int` by itself. Doing this will not modify any behavior and is safe. When replacing `np.int`, you may wish to use e.g. `np.int64` or `np.int32` to specify the precision. If you wish to review your current use, check the release note link for additional information.\n",
      "Deprecated in NumPy 1.20; for more details and guidance: https://numpy.org/devdocs/release/1.20.0-notes.html#deprecations\n",
      "  sample_rate = np.int(raw.info['sfreq'])\n",
      "/var/folders/7w/cb7mhl253wdbc67t80fs_bmc0000gn/T/ipykernel_87452/526044833.py:98: RuntimeWarning: Mean of empty slice\n",
      "  sholo_m = np.squeeze(np.nanmean(sholo_temp, axis = 0))\n"
     ]
    },
    {
     "name": "stdout",
     "output_type": "stream",
     "text": [
      "['AG135', 'AG136', 'AG139', 'AG129', 'AG138']\n"
     ]
    },
    {
     "name": "stderr",
     "output_type": "stream",
     "text": [
      "/var/folders/7w/cb7mhl253wdbc67t80fs_bmc0000gn/T/ipykernel_87452/526044833.py:64: DeprecationWarning: `np.int` is a deprecated alias for the builtin `int`. To silence this warning, use `int` by itself. Doing this will not modify any behavior and is safe. When replacing `np.int`, you may wish to use e.g. `np.int64` or `np.int32` to specify the precision. If you wish to review your current use, check the release note link for additional information.\n",
      "Deprecated in NumPy 1.20; for more details and guidance: https://numpy.org/devdocs/release/1.20.0-notes.html#deprecations\n",
      "  sample_rate = np.int(raw.info['sfreq'])\n",
      "/var/folders/7w/cb7mhl253wdbc67t80fs_bmc0000gn/T/ipykernel_87452/526044833.py:98: RuntimeWarning: Mean of empty slice\n",
      "  sholo_m = np.squeeze(np.nanmean(sholo_temp, axis = 0))\n"
     ]
    },
    {
     "name": "stdout",
     "output_type": "stream",
     "text": [
      "['AG145', 'AG120', 'AG154', 'AG152', 'AG122']\n"
     ]
    },
    {
     "name": "stderr",
     "output_type": "stream",
     "text": [
      "/var/folders/7w/cb7mhl253wdbc67t80fs_bmc0000gn/T/ipykernel_87452/526044833.py:64: DeprecationWarning: `np.int` is a deprecated alias for the builtin `int`. To silence this warning, use `int` by itself. Doing this will not modify any behavior and is safe. When replacing `np.int`, you may wish to use e.g. `np.int64` or `np.int32` to specify the precision. If you wish to review your current use, check the release note link for additional information.\n",
      "Deprecated in NumPy 1.20; for more details and guidance: https://numpy.org/devdocs/release/1.20.0-notes.html#deprecations\n",
      "  sample_rate = np.int(raw.info['sfreq'])\n",
      "/var/folders/7w/cb7mhl253wdbc67t80fs_bmc0000gn/T/ipykernel_87452/526044833.py:98: RuntimeWarning: Mean of empty slice\n",
      "  sholo_m = np.squeeze(np.nanmean(sholo_temp, axis = 0))\n"
     ]
    },
    {
     "name": "stdout",
     "output_type": "stream",
     "text": [
      "['AG122', 'AG119', 'AG121', 'AG120', 'AG139']\n"
     ]
    },
    {
     "name": "stderr",
     "output_type": "stream",
     "text": [
      "/var/folders/7w/cb7mhl253wdbc67t80fs_bmc0000gn/T/ipykernel_87452/526044833.py:64: DeprecationWarning: `np.int` is a deprecated alias for the builtin `int`. To silence this warning, use `int` by itself. Doing this will not modify any behavior and is safe. When replacing `np.int`, you may wish to use e.g. `np.int64` or `np.int32` to specify the precision. If you wish to review your current use, check the release note link for additional information.\n",
      "Deprecated in NumPy 1.20; for more details and guidance: https://numpy.org/devdocs/release/1.20.0-notes.html#deprecations\n",
      "  sample_rate = np.int(raw.info['sfreq'])\n",
      "/var/folders/7w/cb7mhl253wdbc67t80fs_bmc0000gn/T/ipykernel_87452/526044833.py:98: RuntimeWarning: Mean of empty slice\n",
      "  sholo_m = np.squeeze(np.nanmean(sholo_temp, axis = 0))\n"
     ]
    },
    {
     "name": "stdout",
     "output_type": "stream",
     "text": [
      "['AG046', 'AG026', 'AG129', 'AG025', 'AG051']\n"
     ]
    },
    {
     "name": "stderr",
     "output_type": "stream",
     "text": [
      "/var/folders/7w/cb7mhl253wdbc67t80fs_bmc0000gn/T/ipykernel_87452/526044833.py:64: DeprecationWarning: `np.int` is a deprecated alias for the builtin `int`. To silence this warning, use `int` by itself. Doing this will not modify any behavior and is safe. When replacing `np.int`, you may wish to use e.g. `np.int64` or `np.int32` to specify the precision. If you wish to review your current use, check the release note link for additional information.\n",
      "Deprecated in NumPy 1.20; for more details and guidance: https://numpy.org/devdocs/release/1.20.0-notes.html#deprecations\n",
      "  sample_rate = np.int(raw.info['sfreq'])\n",
      "/var/folders/7w/cb7mhl253wdbc67t80fs_bmc0000gn/T/ipykernel_87452/526044833.py:98: RuntimeWarning: Mean of empty slice\n",
      "  sholo_m = np.squeeze(np.nanmean(sholo_temp, axis = 0))\n"
     ]
    },
    {
     "name": "stdout",
     "output_type": "stream",
     "text": [
      "no id 55\n",
      "['AG152', 'AG082', 'AG086', 'AG121', 'AG018']\n"
     ]
    },
    {
     "name": "stderr",
     "output_type": "stream",
     "text": [
      "/var/folders/7w/cb7mhl253wdbc67t80fs_bmc0000gn/T/ipykernel_87452/526044833.py:64: DeprecationWarning: `np.int` is a deprecated alias for the builtin `int`. To silence this warning, use `int` by itself. Doing this will not modify any behavior and is safe. When replacing `np.int`, you may wish to use e.g. `np.int64` or `np.int32` to specify the precision. If you wish to review your current use, check the release note link for additional information.\n",
      "Deprecated in NumPy 1.20; for more details and guidance: https://numpy.org/devdocs/release/1.20.0-notes.html#deprecations\n",
      "  sample_rate = np.int(raw.info['sfreq'])\n",
      "/var/folders/7w/cb7mhl253wdbc67t80fs_bmc0000gn/T/ipykernel_87452/526044833.py:98: RuntimeWarning: Mean of empty slice\n",
      "  sholo_m = np.squeeze(np.nanmean(sholo_temp, axis = 0))\n"
     ]
    },
    {
     "name": "stdout",
     "output_type": "stream",
     "text": [
      "['AG141', 'AG139', 'AG142', 'AG064', 'AG140']\n"
     ]
    },
    {
     "name": "stderr",
     "output_type": "stream",
     "text": [
      "/var/folders/7w/cb7mhl253wdbc67t80fs_bmc0000gn/T/ipykernel_87452/526044833.py:64: DeprecationWarning: `np.int` is a deprecated alias for the builtin `int`. To silence this warning, use `int` by itself. Doing this will not modify any behavior and is safe. When replacing `np.int`, you may wish to use e.g. `np.int64` or `np.int32` to specify the precision. If you wish to review your current use, check the release note link for additional information.\n",
      "Deprecated in NumPy 1.20; for more details and guidance: https://numpy.org/devdocs/release/1.20.0-notes.html#deprecations\n",
      "  sample_rate = np.int(raw.info['sfreq'])\n",
      "/var/folders/7w/cb7mhl253wdbc67t80fs_bmc0000gn/T/ipykernel_87452/526044833.py:98: RuntimeWarning: Mean of empty slice\n",
      "  sholo_m = np.squeeze(np.nanmean(sholo_temp, axis = 0))\n"
     ]
    },
    {
     "name": "stdout",
     "output_type": "stream",
     "text": [
      "['AG141', 'AG140', 'AG139', 'AG020', 'AG151']\n"
     ]
    },
    {
     "name": "stderr",
     "output_type": "stream",
     "text": [
      "/var/folders/7w/cb7mhl253wdbc67t80fs_bmc0000gn/T/ipykernel_87452/526044833.py:64: DeprecationWarning: `np.int` is a deprecated alias for the builtin `int`. To silence this warning, use `int` by itself. Doing this will not modify any behavior and is safe. When replacing `np.int`, you may wish to use e.g. `np.int64` or `np.int32` to specify the precision. If you wish to review your current use, check the release note link for additional information.\n",
      "Deprecated in NumPy 1.20; for more details and guidance: https://numpy.org/devdocs/release/1.20.0-notes.html#deprecations\n",
      "  sample_rate = np.int(raw.info['sfreq'])\n",
      "/var/folders/7w/cb7mhl253wdbc67t80fs_bmc0000gn/T/ipykernel_87452/526044833.py:98: RuntimeWarning: Mean of empty slice\n",
      "  sholo_m = np.squeeze(np.nanmean(sholo_temp, axis = 0))\n"
     ]
    },
    {
     "name": "stdout",
     "output_type": "stream",
     "text": [
      "['AG154', 'AG145', 'AG152', 'AG148', 'AG150']\n"
     ]
    },
    {
     "name": "stderr",
     "output_type": "stream",
     "text": [
      "/var/folders/7w/cb7mhl253wdbc67t80fs_bmc0000gn/T/ipykernel_87452/526044833.py:64: DeprecationWarning: `np.int` is a deprecated alias for the builtin `int`. To silence this warning, use `int` by itself. Doing this will not modify any behavior and is safe. When replacing `np.int`, you may wish to use e.g. `np.int64` or `np.int32` to specify the precision. If you wish to review your current use, check the release note link for additional information.\n",
      "Deprecated in NumPy 1.20; for more details and guidance: https://numpy.org/devdocs/release/1.20.0-notes.html#deprecations\n",
      "  sample_rate = np.int(raw.info['sfreq'])\n",
      "/var/folders/7w/cb7mhl253wdbc67t80fs_bmc0000gn/T/ipykernel_87452/526044833.py:98: RuntimeWarning: Mean of empty slice\n",
      "  sholo_m = np.squeeze(np.nanmean(sholo_temp, axis = 0))\n"
     ]
    },
    {
     "name": "stdout",
     "output_type": "stream",
     "text": [
      "no id 60\n",
      "['AG155', 'AG157', 'AG145', 'AG152', 'AG156']\n"
     ]
    },
    {
     "name": "stderr",
     "output_type": "stream",
     "text": [
      "/var/folders/7w/cb7mhl253wdbc67t80fs_bmc0000gn/T/ipykernel_87452/526044833.py:64: DeprecationWarning: `np.int` is a deprecated alias for the builtin `int`. To silence this warning, use `int` by itself. Doing this will not modify any behavior and is safe. When replacing `np.int`, you may wish to use e.g. `np.int64` or `np.int32` to specify the precision. If you wish to review your current use, check the release note link for additional information.\n",
      "Deprecated in NumPy 1.20; for more details and guidance: https://numpy.org/devdocs/release/1.20.0-notes.html#deprecations\n",
      "  sample_rate = np.int(raw.info['sfreq'])\n",
      "/var/folders/7w/cb7mhl253wdbc67t80fs_bmc0000gn/T/ipykernel_87452/526044833.py:98: RuntimeWarning: Mean of empty slice\n",
      "  sholo_m = np.squeeze(np.nanmean(sholo_temp, axis = 0))\n"
     ]
    },
    {
     "name": "stdout",
     "output_type": "stream",
     "text": [
      "['AG138', 'AG129', 'AG136', 'AG056', 'AG134']\n"
     ]
    },
    {
     "name": "stderr",
     "output_type": "stream",
     "text": [
      "/var/folders/7w/cb7mhl253wdbc67t80fs_bmc0000gn/T/ipykernel_87452/526044833.py:64: DeprecationWarning: `np.int` is a deprecated alias for the builtin `int`. To silence this warning, use `int` by itself. Doing this will not modify any behavior and is safe. When replacing `np.int`, you may wish to use e.g. `np.int64` or `np.int32` to specify the precision. If you wish to review your current use, check the release note link for additional information.\n",
      "Deprecated in NumPy 1.20; for more details and guidance: https://numpy.org/devdocs/release/1.20.0-notes.html#deprecations\n",
      "  sample_rate = np.int(raw.info['sfreq'])\n",
      "/var/folders/7w/cb7mhl253wdbc67t80fs_bmc0000gn/T/ipykernel_87452/526044833.py:98: RuntimeWarning: Mean of empty slice\n",
      "  sholo_m = np.squeeze(np.nanmean(sholo_temp, axis = 0))\n"
     ]
    },
    {
     "name": "stdout",
     "output_type": "stream",
     "text": [
      "['AG155', 'AG138', 'AG151', 'AG152', 'AG139']\n"
     ]
    },
    {
     "name": "stderr",
     "output_type": "stream",
     "text": [
      "/var/folders/7w/cb7mhl253wdbc67t80fs_bmc0000gn/T/ipykernel_87452/526044833.py:64: DeprecationWarning: `np.int` is a deprecated alias for the builtin `int`. To silence this warning, use `int` by itself. Doing this will not modify any behavior and is safe. When replacing `np.int`, you may wish to use e.g. `np.int64` or `np.int32` to specify the precision. If you wish to review your current use, check the release note link for additional information.\n",
      "Deprecated in NumPy 1.20; for more details and guidance: https://numpy.org/devdocs/release/1.20.0-notes.html#deprecations\n",
      "  sample_rate = np.int(raw.info['sfreq'])\n",
      "/var/folders/7w/cb7mhl253wdbc67t80fs_bmc0000gn/T/ipykernel_87452/526044833.py:98: RuntimeWarning: Mean of empty slice\n",
      "  sholo_m = np.squeeze(np.nanmean(sholo_temp, axis = 0))\n"
     ]
    },
    {
     "name": "stdout",
     "output_type": "stream",
     "text": [
      "['AG140', 'AG138', 'AG141', 'AG129', 'AG149']\n"
     ]
    },
    {
     "name": "stderr",
     "output_type": "stream",
     "text": [
      "/var/folders/7w/cb7mhl253wdbc67t80fs_bmc0000gn/T/ipykernel_87452/526044833.py:64: DeprecationWarning: `np.int` is a deprecated alias for the builtin `int`. To silence this warning, use `int` by itself. Doing this will not modify any behavior and is safe. When replacing `np.int`, you may wish to use e.g. `np.int64` or `np.int32` to specify the precision. If you wish to review your current use, check the release note link for additional information.\n",
      "Deprecated in NumPy 1.20; for more details and guidance: https://numpy.org/devdocs/release/1.20.0-notes.html#deprecations\n",
      "  sample_rate = np.int(raw.info['sfreq'])\n",
      "/var/folders/7w/cb7mhl253wdbc67t80fs_bmc0000gn/T/ipykernel_87452/526044833.py:98: RuntimeWarning: Mean of empty slice\n",
      "  sholo_m = np.squeeze(np.nanmean(sholo_temp, axis = 0))\n"
     ]
    },
    {
     "name": "stdout",
     "output_type": "stream",
     "text": [
      "['AG140', 'AG141', 'AG143', 'AG062', 'AG156']\n"
     ]
    },
    {
     "name": "stderr",
     "output_type": "stream",
     "text": [
      "/var/folders/7w/cb7mhl253wdbc67t80fs_bmc0000gn/T/ipykernel_87452/526044833.py:64: DeprecationWarning: `np.int` is a deprecated alias for the builtin `int`. To silence this warning, use `int` by itself. Doing this will not modify any behavior and is safe. When replacing `np.int`, you may wish to use e.g. `np.int64` or `np.int32` to specify the precision. If you wish to review your current use, check the release note link for additional information.\n",
      "Deprecated in NumPy 1.20; for more details and guidance: https://numpy.org/devdocs/release/1.20.0-notes.html#deprecations\n",
      "  sample_rate = np.int(raw.info['sfreq'])\n",
      "/var/folders/7w/cb7mhl253wdbc67t80fs_bmc0000gn/T/ipykernel_87452/526044833.py:98: RuntimeWarning: Mean of empty slice\n",
      "  sholo_m = np.squeeze(np.nanmean(sholo_temp, axis = 0))\n"
     ]
    },
    {
     "name": "stdout",
     "output_type": "stream",
     "text": [
      "['AG139', 'AG151', 'AG060', 'AG059', 'AG135']\n"
     ]
    },
    {
     "name": "stderr",
     "output_type": "stream",
     "text": [
      "/var/folders/7w/cb7mhl253wdbc67t80fs_bmc0000gn/T/ipykernel_87452/526044833.py:64: DeprecationWarning: `np.int` is a deprecated alias for the builtin `int`. To silence this warning, use `int` by itself. Doing this will not modify any behavior and is safe. When replacing `np.int`, you may wish to use e.g. `np.int64` or `np.int32` to specify the precision. If you wish to review your current use, check the release note link for additional information.\n",
      "Deprecated in NumPy 1.20; for more details and guidance: https://numpy.org/devdocs/release/1.20.0-notes.html#deprecations\n",
      "  sample_rate = np.int(raw.info['sfreq'])\n",
      "/var/folders/7w/cb7mhl253wdbc67t80fs_bmc0000gn/T/ipykernel_87452/526044833.py:98: RuntimeWarning: Mean of empty slice\n",
      "  sholo_m = np.squeeze(np.nanmean(sholo_temp, axis = 0))\n"
     ]
    },
    {
     "name": "stdout",
     "output_type": "stream",
     "text": [
      "['AG086', 'AG081', 'AG090', 'AG021', 'AG082']\n"
     ]
    },
    {
     "name": "stderr",
     "output_type": "stream",
     "text": [
      "/var/folders/7w/cb7mhl253wdbc67t80fs_bmc0000gn/T/ipykernel_87452/526044833.py:64: DeprecationWarning: `np.int` is a deprecated alias for the builtin `int`. To silence this warning, use `int` by itself. Doing this will not modify any behavior and is safe. When replacing `np.int`, you may wish to use e.g. `np.int64` or `np.int32` to specify the precision. If you wish to review your current use, check the release note link for additional information.\n",
      "Deprecated in NumPy 1.20; for more details and guidance: https://numpy.org/devdocs/release/1.20.0-notes.html#deprecations\n",
      "  sample_rate = np.int(raw.info['sfreq'])\n",
      "/var/folders/7w/cb7mhl253wdbc67t80fs_bmc0000gn/T/ipykernel_87452/526044833.py:98: RuntimeWarning: Mean of empty slice\n",
      "  sholo_m = np.squeeze(np.nanmean(sholo_temp, axis = 0))\n"
     ]
    },
    {
     "name": "stdout",
     "output_type": "stream",
     "text": [
      "no id 68\n",
      "['AG055', 'AG057', 'AG059', 'AG054', 'AG121']\n"
     ]
    },
    {
     "name": "stderr",
     "output_type": "stream",
     "text": [
      "/var/folders/7w/cb7mhl253wdbc67t80fs_bmc0000gn/T/ipykernel_87452/526044833.py:64: DeprecationWarning: `np.int` is a deprecated alias for the builtin `int`. To silence this warning, use `int` by itself. Doing this will not modify any behavior and is safe. When replacing `np.int`, you may wish to use e.g. `np.int64` or `np.int32` to specify the precision. If you wish to review your current use, check the release note link for additional information.\n",
      "Deprecated in NumPy 1.20; for more details and guidance: https://numpy.org/devdocs/release/1.20.0-notes.html#deprecations\n",
      "  sample_rate = np.int(raw.info['sfreq'])\n",
      "/var/folders/7w/cb7mhl253wdbc67t80fs_bmc0000gn/T/ipykernel_87452/526044833.py:98: RuntimeWarning: Mean of empty slice\n",
      "  sholo_m = np.squeeze(np.nanmean(sholo_temp, axis = 0))\n"
     ]
    },
    {
     "name": "stdout",
     "output_type": "stream",
     "text": [
      "['AG058', 'AG019', 'AG060', 'AG057', 'AG061']\n"
     ]
    },
    {
     "name": "stderr",
     "output_type": "stream",
     "text": [
      "/var/folders/7w/cb7mhl253wdbc67t80fs_bmc0000gn/T/ipykernel_87452/526044833.py:64: DeprecationWarning: `np.int` is a deprecated alias for the builtin `int`. To silence this warning, use `int` by itself. Doing this will not modify any behavior and is safe. When replacing `np.int`, you may wish to use e.g. `np.int64` or `np.int32` to specify the precision. If you wish to review your current use, check the release note link for additional information.\n",
      "Deprecated in NumPy 1.20; for more details and guidance: https://numpy.org/devdocs/release/1.20.0-notes.html#deprecations\n",
      "  sample_rate = np.int(raw.info['sfreq'])\n",
      "/var/folders/7w/cb7mhl253wdbc67t80fs_bmc0000gn/T/ipykernel_87452/526044833.py:98: RuntimeWarning: Mean of empty slice\n",
      "  sholo_m = np.squeeze(np.nanmean(sholo_temp, axis = 0))\n"
     ]
    },
    {
     "name": "stdout",
     "output_type": "stream",
     "text": [
      "['AG157', 'AG156', 'AG135', 'AG154', 'AG136']\n"
     ]
    },
    {
     "name": "stderr",
     "output_type": "stream",
     "text": [
      "/var/folders/7w/cb7mhl253wdbc67t80fs_bmc0000gn/T/ipykernel_87452/526044833.py:64: DeprecationWarning: `np.int` is a deprecated alias for the builtin `int`. To silence this warning, use `int` by itself. Doing this will not modify any behavior and is safe. When replacing `np.int`, you may wish to use e.g. `np.int64` or `np.int32` to specify the precision. If you wish to review your current use, check the release note link for additional information.\n",
      "Deprecated in NumPy 1.20; for more details and guidance: https://numpy.org/devdocs/release/1.20.0-notes.html#deprecations\n",
      "  sample_rate = np.int(raw.info['sfreq'])\n",
      "/var/folders/7w/cb7mhl253wdbc67t80fs_bmc0000gn/T/ipykernel_87452/526044833.py:98: RuntimeWarning: Mean of empty slice\n",
      "  sholo_m = np.squeeze(np.nanmean(sholo_temp, axis = 0))\n"
     ]
    },
    {
     "name": "stdout",
     "output_type": "stream",
     "text": [
      "['AG057', 'AG059', 'AG060', 'AG119', 'AG021']\n"
     ]
    },
    {
     "name": "stderr",
     "output_type": "stream",
     "text": [
      "/var/folders/7w/cb7mhl253wdbc67t80fs_bmc0000gn/T/ipykernel_87452/526044833.py:64: DeprecationWarning: `np.int` is a deprecated alias for the builtin `int`. To silence this warning, use `int` by itself. Doing this will not modify any behavior and is safe. When replacing `np.int`, you may wish to use e.g. `np.int64` or `np.int32` to specify the precision. If you wish to review your current use, check the release note link for additional information.\n",
      "Deprecated in NumPy 1.20; for more details and guidance: https://numpy.org/devdocs/release/1.20.0-notes.html#deprecations\n",
      "  sample_rate = np.int(raw.info['sfreq'])\n",
      "/var/folders/7w/cb7mhl253wdbc67t80fs_bmc0000gn/T/ipykernel_87452/526044833.py:98: RuntimeWarning: Mean of empty slice\n",
      "  sholo_m = np.squeeze(np.nanmean(sholo_temp, axis = 0))\n"
     ]
    },
    {
     "name": "stdout",
     "output_type": "stream",
     "text": [
      "['AG138', 'AG129', 'AG140', 'AG019', 'AG041']\n"
     ]
    },
    {
     "name": "stderr",
     "output_type": "stream",
     "text": [
      "/var/folders/7w/cb7mhl253wdbc67t80fs_bmc0000gn/T/ipykernel_87452/526044833.py:64: DeprecationWarning: `np.int` is a deprecated alias for the builtin `int`. To silence this warning, use `int` by itself. Doing this will not modify any behavior and is safe. When replacing `np.int`, you may wish to use e.g. `np.int64` or `np.int32` to specify the precision. If you wish to review your current use, check the release note link for additional information.\n",
      "Deprecated in NumPy 1.20; for more details and guidance: https://numpy.org/devdocs/release/1.20.0-notes.html#deprecations\n",
      "  sample_rate = np.int(raw.info['sfreq'])\n",
      "/var/folders/7w/cb7mhl253wdbc67t80fs_bmc0000gn/T/ipykernel_87452/526044833.py:98: RuntimeWarning: Mean of empty slice\n",
      "  sholo_m = np.squeeze(np.nanmean(sholo_temp, axis = 0))\n"
     ]
    },
    {
     "name": "stdout",
     "output_type": "stream",
     "text": [
      "['AG122', 'AG120', 'AG125', 'AG121', 'AG086']\n"
     ]
    },
    {
     "name": "stderr",
     "output_type": "stream",
     "text": [
      "/var/folders/7w/cb7mhl253wdbc67t80fs_bmc0000gn/T/ipykernel_87452/526044833.py:64: DeprecationWarning: `np.int` is a deprecated alias for the builtin `int`. To silence this warning, use `int` by itself. Doing this will not modify any behavior and is safe. When replacing `np.int`, you may wish to use e.g. `np.int64` or `np.int32` to specify the precision. If you wish to review your current use, check the release note link for additional information.\n",
      "Deprecated in NumPy 1.20; for more details and guidance: https://numpy.org/devdocs/release/1.20.0-notes.html#deprecations\n",
      "  sample_rate = np.int(raw.info['sfreq'])\n"
     ]
    },
    {
     "name": "stdout",
     "output_type": "stream",
     "text": [
      "['AG135', 'AG157', 'AG142', 'AG151', 'AG160']\n"
     ]
    },
    {
     "name": "stderr",
     "output_type": "stream",
     "text": [
      "/var/folders/7w/cb7mhl253wdbc67t80fs_bmc0000gn/T/ipykernel_87452/526044833.py:64: DeprecationWarning: `np.int` is a deprecated alias for the builtin `int`. To silence this warning, use `int` by itself. Doing this will not modify any behavior and is safe. When replacing `np.int`, you may wish to use e.g. `np.int64` or `np.int32` to specify the precision. If you wish to review your current use, check the release note link for additional information.\n",
      "Deprecated in NumPy 1.20; for more details and guidance: https://numpy.org/devdocs/release/1.20.0-notes.html#deprecations\n",
      "  sample_rate = np.int(raw.info['sfreq'])\n",
      "/var/folders/7w/cb7mhl253wdbc67t80fs_bmc0000gn/T/ipykernel_87452/526044833.py:98: RuntimeWarning: Mean of empty slice\n",
      "  sholo_m = np.squeeze(np.nanmean(sholo_temp, axis = 0))\n"
     ]
    },
    {
     "name": "stdout",
     "output_type": "stream",
     "text": [
      "['AG097', 'AG049', 'AG035', 'AG036', 'AG122']\n"
     ]
    },
    {
     "name": "stderr",
     "output_type": "stream",
     "text": [
      "/var/folders/7w/cb7mhl253wdbc67t80fs_bmc0000gn/T/ipykernel_87452/526044833.py:64: DeprecationWarning: `np.int` is a deprecated alias for the builtin `int`. To silence this warning, use `int` by itself. Doing this will not modify any behavior and is safe. When replacing `np.int`, you may wish to use e.g. `np.int64` or `np.int32` to specify the precision. If you wish to review your current use, check the release note link for additional information.\n",
      "Deprecated in NumPy 1.20; for more details and guidance: https://numpy.org/devdocs/release/1.20.0-notes.html#deprecations\n",
      "  sample_rate = np.int(raw.info['sfreq'])\n",
      "/var/folders/7w/cb7mhl253wdbc67t80fs_bmc0000gn/T/ipykernel_87452/526044833.py:98: RuntimeWarning: Mean of empty slice\n",
      "  sholo_m = np.squeeze(np.nanmean(sholo_temp, axis = 0))\n"
     ]
    },
    {
     "name": "stdout",
     "output_type": "stream",
     "text": [
      "['AG082', 'AG156', 'AG143', 'AG100', 'AG127']\n"
     ]
    },
    {
     "name": "stderr",
     "output_type": "stream",
     "text": [
      "/var/folders/7w/cb7mhl253wdbc67t80fs_bmc0000gn/T/ipykernel_87452/526044833.py:64: DeprecationWarning: `np.int` is a deprecated alias for the builtin `int`. To silence this warning, use `int` by itself. Doing this will not modify any behavior and is safe. When replacing `np.int`, you may wish to use e.g. `np.int64` or `np.int32` to specify the precision. If you wish to review your current use, check the release note link for additional information.\n",
      "Deprecated in NumPy 1.20; for more details and guidance: https://numpy.org/devdocs/release/1.20.0-notes.html#deprecations\n",
      "  sample_rate = np.int(raw.info['sfreq'])\n",
      "/var/folders/7w/cb7mhl253wdbc67t80fs_bmc0000gn/T/ipykernel_87452/526044833.py:98: RuntimeWarning: Mean of empty slice\n",
      "  sholo_m = np.squeeze(np.nanmean(sholo_temp, axis = 0))\n"
     ]
    },
    {
     "name": "stdout",
     "output_type": "stream",
     "text": [
      "['AG088', 'AG123', 'AG128', 'AG127', 'AG124']\n"
     ]
    },
    {
     "name": "stderr",
     "output_type": "stream",
     "text": [
      "/var/folders/7w/cb7mhl253wdbc67t80fs_bmc0000gn/T/ipykernel_87452/526044833.py:64: DeprecationWarning: `np.int` is a deprecated alias for the builtin `int`. To silence this warning, use `int` by itself. Doing this will not modify any behavior and is safe. When replacing `np.int`, you may wish to use e.g. `np.int64` or `np.int32` to specify the precision. If you wish to review your current use, check the release note link for additional information.\n",
      "Deprecated in NumPy 1.20; for more details and guidance: https://numpy.org/devdocs/release/1.20.0-notes.html#deprecations\n",
      "  sample_rate = np.int(raw.info['sfreq'])\n",
      "/var/folders/7w/cb7mhl253wdbc67t80fs_bmc0000gn/T/ipykernel_87452/526044833.py:98: RuntimeWarning: Mean of empty slice\n",
      "  sholo_m = np.squeeze(np.nanmean(sholo_temp, axis = 0))\n"
     ]
    },
    {
     "name": "stdout",
     "output_type": "stream",
     "text": [
      "['AG101', 'AG100', 'AG099', 'AG105', 'AG037']\n"
     ]
    },
    {
     "name": "stderr",
     "output_type": "stream",
     "text": [
      "/var/folders/7w/cb7mhl253wdbc67t80fs_bmc0000gn/T/ipykernel_87452/526044833.py:64: DeprecationWarning: `np.int` is a deprecated alias for the builtin `int`. To silence this warning, use `int` by itself. Doing this will not modify any behavior and is safe. When replacing `np.int`, you may wish to use e.g. `np.int64` or `np.int32` to specify the precision. If you wish to review your current use, check the release note link for additional information.\n",
      "Deprecated in NumPy 1.20; for more details and guidance: https://numpy.org/devdocs/release/1.20.0-notes.html#deprecations\n",
      "  sample_rate = np.int(raw.info['sfreq'])\n",
      "/var/folders/7w/cb7mhl253wdbc67t80fs_bmc0000gn/T/ipykernel_87452/526044833.py:98: RuntimeWarning: Mean of empty slice\n",
      "  sholo_m = np.squeeze(np.nanmean(sholo_temp, axis = 0))\n"
     ]
    },
    {
     "name": "stdout",
     "output_type": "stream",
     "text": [
      "['AG086', 'AG083', 'AG081', 'AG021', 'AG082']\n"
     ]
    },
    {
     "name": "stderr",
     "output_type": "stream",
     "text": [
      "/var/folders/7w/cb7mhl253wdbc67t80fs_bmc0000gn/T/ipykernel_87452/526044833.py:64: DeprecationWarning: `np.int` is a deprecated alias for the builtin `int`. To silence this warning, use `int` by itself. Doing this will not modify any behavior and is safe. When replacing `np.int`, you may wish to use e.g. `np.int64` or `np.int32` to specify the precision. If you wish to review your current use, check the release note link for additional information.\n",
      "Deprecated in NumPy 1.20; for more details and guidance: https://numpy.org/devdocs/release/1.20.0-notes.html#deprecations\n",
      "  sample_rate = np.int(raw.info['sfreq'])\n",
      "/var/folders/7w/cb7mhl253wdbc67t80fs_bmc0000gn/T/ipykernel_87452/526044833.py:98: RuntimeWarning: Mean of empty slice\n",
      "  sholo_m = np.squeeze(np.nanmean(sholo_temp, axis = 0))\n"
     ]
    },
    {
     "name": "stdout",
     "output_type": "stream",
     "text": [
      "['AG090', 'AG089', 'AG086', 'AG020', 'AG091']\n"
     ]
    },
    {
     "name": "stderr",
     "output_type": "stream",
     "text": [
      "/var/folders/7w/cb7mhl253wdbc67t80fs_bmc0000gn/T/ipykernel_87452/526044833.py:64: DeprecationWarning: `np.int` is a deprecated alias for the builtin `int`. To silence this warning, use `int` by itself. Doing this will not modify any behavior and is safe. When replacing `np.int`, you may wish to use e.g. `np.int64` or `np.int32` to specify the precision. If you wish to review your current use, check the release note link for additional information.\n",
      "Deprecated in NumPy 1.20; for more details and guidance: https://numpy.org/devdocs/release/1.20.0-notes.html#deprecations\n",
      "  sample_rate = np.int(raw.info['sfreq'])\n",
      "/var/folders/7w/cb7mhl253wdbc67t80fs_bmc0000gn/T/ipykernel_87452/526044833.py:98: RuntimeWarning: Mean of empty slice\n",
      "  sholo_m = np.squeeze(np.nanmean(sholo_temp, axis = 0))\n"
     ]
    },
    {
     "name": "stdout",
     "output_type": "stream",
     "text": [
      "['AG046', 'AG127', 'AG125', 'AG140', 'AG122']\n"
     ]
    },
    {
     "name": "stderr",
     "output_type": "stream",
     "text": [
      "/var/folders/7w/cb7mhl253wdbc67t80fs_bmc0000gn/T/ipykernel_87452/526044833.py:64: DeprecationWarning: `np.int` is a deprecated alias for the builtin `int`. To silence this warning, use `int` by itself. Doing this will not modify any behavior and is safe. When replacing `np.int`, you may wish to use e.g. `np.int64` or `np.int32` to specify the precision. If you wish to review your current use, check the release note link for additional information.\n",
      "Deprecated in NumPy 1.20; for more details and guidance: https://numpy.org/devdocs/release/1.20.0-notes.html#deprecations\n",
      "  sample_rate = np.int(raw.info['sfreq'])\n",
      "/var/folders/7w/cb7mhl253wdbc67t80fs_bmc0000gn/T/ipykernel_87452/526044833.py:98: RuntimeWarning: Mean of empty slice\n",
      "  sholo_m = np.squeeze(np.nanmean(sholo_temp, axis = 0))\n"
     ]
    },
    {
     "name": "stdout",
     "output_type": "stream",
     "text": [
      "['AG059', 'AG127', 'AG086', 'AG041', 'AG063']\n"
     ]
    },
    {
     "name": "stderr",
     "output_type": "stream",
     "text": [
      "/var/folders/7w/cb7mhl253wdbc67t80fs_bmc0000gn/T/ipykernel_87452/526044833.py:64: DeprecationWarning: `np.int` is a deprecated alias for the builtin `int`. To silence this warning, use `int` by itself. Doing this will not modify any behavior and is safe. When replacing `np.int`, you may wish to use e.g. `np.int64` or `np.int32` to specify the precision. If you wish to review your current use, check the release note link for additional information.\n",
      "Deprecated in NumPy 1.20; for more details and guidance: https://numpy.org/devdocs/release/1.20.0-notes.html#deprecations\n",
      "  sample_rate = np.int(raw.info['sfreq'])\n",
      "/var/folders/7w/cb7mhl253wdbc67t80fs_bmc0000gn/T/ipykernel_87452/526044833.py:98: RuntimeWarning: Mean of empty slice\n",
      "  sholo_m = np.squeeze(np.nanmean(sholo_temp, axis = 0))\n"
     ]
    },
    {
     "name": "stdout",
     "output_type": "stream",
     "text": [
      "['AG149', 'AG150', 'AG118', 'AG058', 'AG153']\n"
     ]
    },
    {
     "name": "stderr",
     "output_type": "stream",
     "text": [
      "/var/folders/7w/cb7mhl253wdbc67t80fs_bmc0000gn/T/ipykernel_87452/526044833.py:64: DeprecationWarning: `np.int` is a deprecated alias for the builtin `int`. To silence this warning, use `int` by itself. Doing this will not modify any behavior and is safe. When replacing `np.int`, you may wish to use e.g. `np.int64` or `np.int32` to specify the precision. If you wish to review your current use, check the release note link for additional information.\n",
      "Deprecated in NumPy 1.20; for more details and guidance: https://numpy.org/devdocs/release/1.20.0-notes.html#deprecations\n",
      "  sample_rate = np.int(raw.info['sfreq'])\n",
      "/var/folders/7w/cb7mhl253wdbc67t80fs_bmc0000gn/T/ipykernel_87452/526044833.py:98: RuntimeWarning: Mean of empty slice\n",
      "  sholo_m = np.squeeze(np.nanmean(sholo_temp, axis = 0))\n"
     ]
    },
    {
     "name": "stdout",
     "output_type": "stream",
     "text": [
      "['AG140', 'AG062', 'AG125', 'AG143', 'AG083']\n"
     ]
    },
    {
     "name": "stderr",
     "output_type": "stream",
     "text": [
      "/var/folders/7w/cb7mhl253wdbc67t80fs_bmc0000gn/T/ipykernel_87452/526044833.py:64: DeprecationWarning: `np.int` is a deprecated alias for the builtin `int`. To silence this warning, use `int` by itself. Doing this will not modify any behavior and is safe. When replacing `np.int`, you may wish to use e.g. `np.int64` or `np.int32` to specify the precision. If you wish to review your current use, check the release note link for additional information.\n",
      "Deprecated in NumPy 1.20; for more details and guidance: https://numpy.org/devdocs/release/1.20.0-notes.html#deprecations\n",
      "  sample_rate = np.int(raw.info['sfreq'])\n",
      "/var/folders/7w/cb7mhl253wdbc67t80fs_bmc0000gn/T/ipykernel_87452/526044833.py:98: RuntimeWarning: Mean of empty slice\n",
      "  sholo_m = np.squeeze(np.nanmean(sholo_temp, axis = 0))\n"
     ]
    },
    {
     "name": "stdout",
     "output_type": "stream",
     "text": [
      "['AG156', 'AG105', 'AG083', 'AG157', 'AG158']\n"
     ]
    },
    {
     "name": "stderr",
     "output_type": "stream",
     "text": [
      "/var/folders/7w/cb7mhl253wdbc67t80fs_bmc0000gn/T/ipykernel_87452/526044833.py:64: DeprecationWarning: `np.int` is a deprecated alias for the builtin `int`. To silence this warning, use `int` by itself. Doing this will not modify any behavior and is safe. When replacing `np.int`, you may wish to use e.g. `np.int64` or `np.int32` to specify the precision. If you wish to review your current use, check the release note link for additional information.\n",
      "Deprecated in NumPy 1.20; for more details and guidance: https://numpy.org/devdocs/release/1.20.0-notes.html#deprecations\n",
      "  sample_rate = np.int(raw.info['sfreq'])\n",
      "/var/folders/7w/cb7mhl253wdbc67t80fs_bmc0000gn/T/ipykernel_87452/526044833.py:98: RuntimeWarning: Mean of empty slice\n",
      "  sholo_m = np.squeeze(np.nanmean(sholo_temp, axis = 0))\n"
     ]
    },
    {
     "name": "stdout",
     "output_type": "stream",
     "text": [
      "['AG140', 'AG019', 'AG061', 'AG062', 'AG143']\n"
     ]
    },
    {
     "name": "stderr",
     "output_type": "stream",
     "text": [
      "/var/folders/7w/cb7mhl253wdbc67t80fs_bmc0000gn/T/ipykernel_87452/526044833.py:64: DeprecationWarning: `np.int` is a deprecated alias for the builtin `int`. To silence this warning, use `int` by itself. Doing this will not modify any behavior and is safe. When replacing `np.int`, you may wish to use e.g. `np.int64` or `np.int32` to specify the precision. If you wish to review your current use, check the release note link for additional information.\n",
      "Deprecated in NumPy 1.20; for more details and guidance: https://numpy.org/devdocs/release/1.20.0-notes.html#deprecations\n",
      "  sample_rate = np.int(raw.info['sfreq'])\n",
      "/var/folders/7w/cb7mhl253wdbc67t80fs_bmc0000gn/T/ipykernel_87452/526044833.py:98: RuntimeWarning: Mean of empty slice\n",
      "  sholo_m = np.squeeze(np.nanmean(sholo_temp, axis = 0))\n"
     ]
    },
    {
     "name": "stdout",
     "output_type": "stream",
     "text": [
      "['AG156', 'AG154', 'AG123', 'AG143', 'AG151']\n"
     ]
    },
    {
     "name": "stderr",
     "output_type": "stream",
     "text": [
      "/var/folders/7w/cb7mhl253wdbc67t80fs_bmc0000gn/T/ipykernel_87452/526044833.py:64: DeprecationWarning: `np.int` is a deprecated alias for the builtin `int`. To silence this warning, use `int` by itself. Doing this will not modify any behavior and is safe. When replacing `np.int`, you may wish to use e.g. `np.int64` or `np.int32` to specify the precision. If you wish to review your current use, check the release note link for additional information.\n",
      "Deprecated in NumPy 1.20; for more details and guidance: https://numpy.org/devdocs/release/1.20.0-notes.html#deprecations\n",
      "  sample_rate = np.int(raw.info['sfreq'])\n",
      "/var/folders/7w/cb7mhl253wdbc67t80fs_bmc0000gn/T/ipykernel_87452/526044833.py:98: RuntimeWarning: Mean of empty slice\n",
      "  sholo_m = np.squeeze(np.nanmean(sholo_temp, axis = 0))\n"
     ]
    },
    {
     "name": "stdout",
     "output_type": "stream",
     "text": [
      "['AG053', 'AG055', 'AG050', 'AG019', 'AG058']\n"
     ]
    },
    {
     "name": "stderr",
     "output_type": "stream",
     "text": [
      "/var/folders/7w/cb7mhl253wdbc67t80fs_bmc0000gn/T/ipykernel_87452/526044833.py:64: DeprecationWarning: `np.int` is a deprecated alias for the builtin `int`. To silence this warning, use `int` by itself. Doing this will not modify any behavior and is safe. When replacing `np.int`, you may wish to use e.g. `np.int64` or `np.int32` to specify the precision. If you wish to review your current use, check the release note link for additional information.\n",
      "Deprecated in NumPy 1.20; for more details and guidance: https://numpy.org/devdocs/release/1.20.0-notes.html#deprecations\n",
      "  sample_rate = np.int(raw.info['sfreq'])\n",
      "/var/folders/7w/cb7mhl253wdbc67t80fs_bmc0000gn/T/ipykernel_87452/526044833.py:98: RuntimeWarning: Mean of empty slice\n",
      "  sholo_m = np.squeeze(np.nanmean(sholo_temp, axis = 0))\n"
     ]
    },
    {
     "name": "stdout",
     "output_type": "stream",
     "text": [
      "no id 90\n",
      "['AG110', 'AG127', 'AG156', 'AG036', 'AG135']\n"
     ]
    },
    {
     "name": "stderr",
     "output_type": "stream",
     "text": [
      "/var/folders/7w/cb7mhl253wdbc67t80fs_bmc0000gn/T/ipykernel_87452/526044833.py:64: DeprecationWarning: `np.int` is a deprecated alias for the builtin `int`. To silence this warning, use `int` by itself. Doing this will not modify any behavior and is safe. When replacing `np.int`, you may wish to use e.g. `np.int64` or `np.int32` to specify the precision. If you wish to review your current use, check the release note link for additional information.\n",
      "Deprecated in NumPy 1.20; for more details and guidance: https://numpy.org/devdocs/release/1.20.0-notes.html#deprecations\n",
      "  sample_rate = np.int(raw.info['sfreq'])\n",
      "/var/folders/7w/cb7mhl253wdbc67t80fs_bmc0000gn/T/ipykernel_87452/526044833.py:98: RuntimeWarning: Mean of empty slice\n",
      "  sholo_m = np.squeeze(np.nanmean(sholo_temp, axis = 0))\n"
     ]
    },
    {
     "name": "stdout",
     "output_type": "stream",
     "text": [
      "['AG059', 'AG057', 'AG060', 'AG135', 'AG058']\n"
     ]
    },
    {
     "name": "stderr",
     "output_type": "stream",
     "text": [
      "/var/folders/7w/cb7mhl253wdbc67t80fs_bmc0000gn/T/ipykernel_87452/526044833.py:64: DeprecationWarning: `np.int` is a deprecated alias for the builtin `int`. To silence this warning, use `int` by itself. Doing this will not modify any behavior and is safe. When replacing `np.int`, you may wish to use e.g. `np.int64` or `np.int32` to specify the precision. If you wish to review your current use, check the release note link for additional information.\n",
      "Deprecated in NumPy 1.20; for more details and guidance: https://numpy.org/devdocs/release/1.20.0-notes.html#deprecations\n",
      "  sample_rate = np.int(raw.info['sfreq'])\n",
      "/var/folders/7w/cb7mhl253wdbc67t80fs_bmc0000gn/T/ipykernel_87452/526044833.py:98: RuntimeWarning: Mean of empty slice\n",
      "  sholo_m = np.squeeze(np.nanmean(sholo_temp, axis = 0))\n"
     ]
    },
    {
     "name": "stdout",
     "output_type": "stream",
     "text": [
      "['AG037', 'AG034', 'AG033', 'AG141', 'AG139']\n"
     ]
    },
    {
     "name": "stderr",
     "output_type": "stream",
     "text": [
      "/var/folders/7w/cb7mhl253wdbc67t80fs_bmc0000gn/T/ipykernel_87452/526044833.py:64: DeprecationWarning: `np.int` is a deprecated alias for the builtin `int`. To silence this warning, use `int` by itself. Doing this will not modify any behavior and is safe. When replacing `np.int`, you may wish to use e.g. `np.int64` or `np.int32` to specify the precision. If you wish to review your current use, check the release note link for additional information.\n",
      "Deprecated in NumPy 1.20; for more details and guidance: https://numpy.org/devdocs/release/1.20.0-notes.html#deprecations\n",
      "  sample_rate = np.int(raw.info['sfreq'])\n",
      "/var/folders/7w/cb7mhl253wdbc67t80fs_bmc0000gn/T/ipykernel_87452/526044833.py:98: RuntimeWarning: Mean of empty slice\n",
      "  sholo_m = np.squeeze(np.nanmean(sholo_temp, axis = 0))\n"
     ]
    },
    {
     "name": "stdout",
     "output_type": "stream",
     "text": [
      "no id 94\n",
      "['AG160', 'AG083', 'AG125', 'AG157', 'AG126']\n"
     ]
    },
    {
     "name": "stderr",
     "output_type": "stream",
     "text": [
      "/var/folders/7w/cb7mhl253wdbc67t80fs_bmc0000gn/T/ipykernel_87452/526044833.py:64: DeprecationWarning: `np.int` is a deprecated alias for the builtin `int`. To silence this warning, use `int` by itself. Doing this will not modify any behavior and is safe. When replacing `np.int`, you may wish to use e.g. `np.int64` or `np.int32` to specify the precision. If you wish to review your current use, check the release note link for additional information.\n",
      "Deprecated in NumPy 1.20; for more details and guidance: https://numpy.org/devdocs/release/1.20.0-notes.html#deprecations\n",
      "  sample_rate = np.int(raw.info['sfreq'])\n",
      "/var/folders/7w/cb7mhl253wdbc67t80fs_bmc0000gn/T/ipykernel_87452/526044833.py:98: RuntimeWarning: Mean of empty slice\n",
      "  sholo_m = np.squeeze(np.nanmean(sholo_temp, axis = 0))\n"
     ]
    },
    {
     "name": "stdout",
     "output_type": "stream",
     "text": [
      "['AG027', 'AG023', 'AG028', 'AG061', 'AG030']\n"
     ]
    },
    {
     "name": "stderr",
     "output_type": "stream",
     "text": [
      "/var/folders/7w/cb7mhl253wdbc67t80fs_bmc0000gn/T/ipykernel_87452/526044833.py:64: DeprecationWarning: `np.int` is a deprecated alias for the builtin `int`. To silence this warning, use `int` by itself. Doing this will not modify any behavior and is safe. When replacing `np.int`, you may wish to use e.g. `np.int64` or `np.int32` to specify the precision. If you wish to review your current use, check the release note link for additional information.\n",
      "Deprecated in NumPy 1.20; for more details and guidance: https://numpy.org/devdocs/release/1.20.0-notes.html#deprecations\n",
      "  sample_rate = np.int(raw.info['sfreq'])\n",
      "/var/folders/7w/cb7mhl253wdbc67t80fs_bmc0000gn/T/ipykernel_87452/526044833.py:98: RuntimeWarning: Mean of empty slice\n",
      "  sholo_m = np.squeeze(np.nanmean(sholo_temp, axis = 0))\n"
     ]
    },
    {
     "name": "stdout",
     "output_type": "stream",
     "text": [
      "no id 97\n",
      "['AG024', 'AG156', 'AG152', 'AG154', 'AG020']\n"
     ]
    },
    {
     "name": "stderr",
     "output_type": "stream",
     "text": [
      "/var/folders/7w/cb7mhl253wdbc67t80fs_bmc0000gn/T/ipykernel_87452/526044833.py:64: DeprecationWarning: `np.int` is a deprecated alias for the builtin `int`. To silence this warning, use `int` by itself. Doing this will not modify any behavior and is safe. When replacing `np.int`, you may wish to use e.g. `np.int64` or `np.int32` to specify the precision. If you wish to review your current use, check the release note link for additional information.\n",
      "Deprecated in NumPy 1.20; for more details and guidance: https://numpy.org/devdocs/release/1.20.0-notes.html#deprecations\n",
      "  sample_rate = np.int(raw.info['sfreq'])\n",
      "/var/folders/7w/cb7mhl253wdbc67t80fs_bmc0000gn/T/ipykernel_87452/526044833.py:98: RuntimeWarning: Mean of empty slice\n",
      "  sholo_m = np.squeeze(np.nanmean(sholo_temp, axis = 0))\n"
     ]
    },
    {
     "name": "stdout",
     "output_type": "stream",
     "text": [
      "['AG140', 'AG142', 'AG141', 'AG138', 'AG139']\n"
     ]
    },
    {
     "name": "stderr",
     "output_type": "stream",
     "text": [
      "/var/folders/7w/cb7mhl253wdbc67t80fs_bmc0000gn/T/ipykernel_87452/526044833.py:64: DeprecationWarning: `np.int` is a deprecated alias for the builtin `int`. To silence this warning, use `int` by itself. Doing this will not modify any behavior and is safe. When replacing `np.int`, you may wish to use e.g. `np.int64` or `np.int32` to specify the precision. If you wish to review your current use, check the release note link for additional information.\n",
      "Deprecated in NumPy 1.20; for more details and guidance: https://numpy.org/devdocs/release/1.20.0-notes.html#deprecations\n",
      "  sample_rate = np.int(raw.info['sfreq'])\n",
      "/var/folders/7w/cb7mhl253wdbc67t80fs_bmc0000gn/T/ipykernel_87452/526044833.py:98: RuntimeWarning: Mean of empty slice\n",
      "  sholo_m = np.squeeze(np.nanmean(sholo_temp, axis = 0))\n"
     ]
    },
    {
     "name": "stdout",
     "output_type": "stream",
     "text": [
      "['AG156', 'AG157', 'AG141', 'AG142', 'AG125']\n"
     ]
    },
    {
     "name": "stderr",
     "output_type": "stream",
     "text": [
      "/var/folders/7w/cb7mhl253wdbc67t80fs_bmc0000gn/T/ipykernel_87452/526044833.py:64: DeprecationWarning: `np.int` is a deprecated alias for the builtin `int`. To silence this warning, use `int` by itself. Doing this will not modify any behavior and is safe. When replacing `np.int`, you may wish to use e.g. `np.int64` or `np.int32` to specify the precision. If you wish to review your current use, check the release note link for additional information.\n",
      "Deprecated in NumPy 1.20; for more details and guidance: https://numpy.org/devdocs/release/1.20.0-notes.html#deprecations\n",
      "  sample_rate = np.int(raw.info['sfreq'])\n",
      "/var/folders/7w/cb7mhl253wdbc67t80fs_bmc0000gn/T/ipykernel_87452/526044833.py:98: RuntimeWarning: Mean of empty slice\n",
      "  sholo_m = np.squeeze(np.nanmean(sholo_temp, axis = 0))\n"
     ]
    }
   ],
   "source": [
    "group = 'control'\n",
    "\n",
    "\n",
    "sys_types = ['A','B','A','A','A','A','A','B','B','B','A',\n",
    "             'A','A','B','A','A','B','B','B','B','A','A','B','A','A','A','A',\n",
    "             'A','A','A','B','B','A','A','B','A','A','A','A','B','A','A','A',\n",
    "             'A','A','A','A','A','B','A','A','A','A','A','A','A','B','A','A',\n",
    "             'A','A','A','A','A','A','A','A','A','A','A','A','A','A','A','A',\n",
    "             'A','B','B','B','A','A','A','A','A','A','A','A','B','A','B','A',\n",
    "             'A','A','B','B','B','B','A','B','B']\n",
    "\n",
    "excluded_control = []\n",
    "\n",
    "holo_c = []\n",
    "for i in range(100):\n",
    "    s = i + 1\n",
    "    sys_type = sys_types[i]\n",
    "    try:\n",
    "        filename = 'de_hokuto_%s%d-raw.fif'%(group, s)\n",
    "        sholo_m, fam, fcarrier = get_holo_trl(filename, sys_type)\n",
    "        im_array = holo_gray_images(sholo_m, fam, fcarrier)\n",
    "        holo_c.append(im_array)\n",
    "    except:\n",
    "        print('no id %d'%s)\n",
    "        excluded_control.append(s)\n",
    "    pass\n",
    "    \n"
   ]
  },
  {
   "cell_type": "code",
   "execution_count": 88,
   "id": "40cd29af",
   "metadata": {},
   "outputs": [
    {
     "name": "stdout",
     "output_type": "stream",
     "text": [
      "['AG154', 'AG152', 'AG145', 'AG138', 'AG150']\n"
     ]
    },
    {
     "name": "stderr",
     "output_type": "stream",
     "text": [
      "/var/folders/7w/cb7mhl253wdbc67t80fs_bmc0000gn/T/ipykernel_87452/526044833.py:64: DeprecationWarning: `np.int` is a deprecated alias for the builtin `int`. To silence this warning, use `int` by itself. Doing this will not modify any behavior and is safe. When replacing `np.int`, you may wish to use e.g. `np.int64` or `np.int32` to specify the precision. If you wish to review your current use, check the release note link for additional information.\n",
      "Deprecated in NumPy 1.20; for more details and guidance: https://numpy.org/devdocs/release/1.20.0-notes.html#deprecations\n",
      "  sample_rate = np.int(raw.info['sfreq'])\n",
      "/var/folders/7w/cb7mhl253wdbc67t80fs_bmc0000gn/T/ipykernel_87452/526044833.py:98: RuntimeWarning: Mean of empty slice\n",
      "  sholo_m = np.squeeze(np.nanmean(sholo_temp, axis = 0))\n"
     ]
    },
    {
     "name": "stdout",
     "output_type": "stream",
     "text": [
      "['AG083', 'AG160', 'AG157', 'AG082', 'AG156']\n"
     ]
    },
    {
     "name": "stderr",
     "output_type": "stream",
     "text": [
      "/var/folders/7w/cb7mhl253wdbc67t80fs_bmc0000gn/T/ipykernel_87452/526044833.py:64: DeprecationWarning: `np.int` is a deprecated alias for the builtin `int`. To silence this warning, use `int` by itself. Doing this will not modify any behavior and is safe. When replacing `np.int`, you may wish to use e.g. `np.int64` or `np.int32` to specify the precision. If you wish to review your current use, check the release note link for additional information.\n",
      "Deprecated in NumPy 1.20; for more details and guidance: https://numpy.org/devdocs/release/1.20.0-notes.html#deprecations\n",
      "  sample_rate = np.int(raw.info['sfreq'])\n",
      "/var/folders/7w/cb7mhl253wdbc67t80fs_bmc0000gn/T/ipykernel_87452/526044833.py:98: RuntimeWarning: Mean of empty slice\n",
      "  sholo_m = np.squeeze(np.nanmean(sholo_temp, axis = 0))\n"
     ]
    },
    {
     "name": "stdout",
     "output_type": "stream",
     "text": [
      "['AG021', 'AG025', 'AG013', 'AG017', 'AG019']\n"
     ]
    },
    {
     "name": "stderr",
     "output_type": "stream",
     "text": [
      "/var/folders/7w/cb7mhl253wdbc67t80fs_bmc0000gn/T/ipykernel_87452/526044833.py:64: DeprecationWarning: `np.int` is a deprecated alias for the builtin `int`. To silence this warning, use `int` by itself. Doing this will not modify any behavior and is safe. When replacing `np.int`, you may wish to use e.g. `np.int64` or `np.int32` to specify the precision. If you wish to review your current use, check the release note link for additional information.\n",
      "Deprecated in NumPy 1.20; for more details and guidance: https://numpy.org/devdocs/release/1.20.0-notes.html#deprecations\n",
      "  sample_rate = np.int(raw.info['sfreq'])\n",
      "/var/folders/7w/cb7mhl253wdbc67t80fs_bmc0000gn/T/ipykernel_87452/526044833.py:98: RuntimeWarning: Mean of empty slice\n",
      "  sholo_m = np.squeeze(np.nanmean(sholo_temp, axis = 0))\n"
     ]
    },
    {
     "name": "stdout",
     "output_type": "stream",
     "text": [
      "['AG136', 'AG154', 'AG058', 'AG062', 'AG152']\n"
     ]
    },
    {
     "name": "stderr",
     "output_type": "stream",
     "text": [
      "/var/folders/7w/cb7mhl253wdbc67t80fs_bmc0000gn/T/ipykernel_87452/526044833.py:64: DeprecationWarning: `np.int` is a deprecated alias for the builtin `int`. To silence this warning, use `int` by itself. Doing this will not modify any behavior and is safe. When replacing `np.int`, you may wish to use e.g. `np.int64` or `np.int32` to specify the precision. If you wish to review your current use, check the release note link for additional information.\n",
      "Deprecated in NumPy 1.20; for more details and guidance: https://numpy.org/devdocs/release/1.20.0-notes.html#deprecations\n",
      "  sample_rate = np.int(raw.info['sfreq'])\n",
      "/var/folders/7w/cb7mhl253wdbc67t80fs_bmc0000gn/T/ipykernel_87452/526044833.py:98: RuntimeWarning: Mean of empty slice\n",
      "  sholo_m = np.squeeze(np.nanmean(sholo_temp, axis = 0))\n"
     ]
    },
    {
     "name": "stdout",
     "output_type": "stream",
     "text": [
      "['AG121', 'AG124', 'AG122', 'AG087', 'AG083']\n"
     ]
    },
    {
     "name": "stderr",
     "output_type": "stream",
     "text": [
      "/var/folders/7w/cb7mhl253wdbc67t80fs_bmc0000gn/T/ipykernel_87452/526044833.py:64: DeprecationWarning: `np.int` is a deprecated alias for the builtin `int`. To silence this warning, use `int` by itself. Doing this will not modify any behavior and is safe. When replacing `np.int`, you may wish to use e.g. `np.int64` or `np.int32` to specify the precision. If you wish to review your current use, check the release note link for additional information.\n",
      "Deprecated in NumPy 1.20; for more details and guidance: https://numpy.org/devdocs/release/1.20.0-notes.html#deprecations\n",
      "  sample_rate = np.int(raw.info['sfreq'])\n",
      "/var/folders/7w/cb7mhl253wdbc67t80fs_bmc0000gn/T/ipykernel_87452/526044833.py:98: RuntimeWarning: Mean of empty slice\n",
      "  sholo_m = np.squeeze(np.nanmean(sholo_temp, axis = 0))\n"
     ]
    },
    {
     "name": "stdout",
     "output_type": "stream",
     "text": [
      "no id 6\n",
      "['AG149', 'AG151', 'AG146', 'AG147', 'AG148']\n"
     ]
    },
    {
     "name": "stderr",
     "output_type": "stream",
     "text": [
      "/var/folders/7w/cb7mhl253wdbc67t80fs_bmc0000gn/T/ipykernel_87452/526044833.py:64: DeprecationWarning: `np.int` is a deprecated alias for the builtin `int`. To silence this warning, use `int` by itself. Doing this will not modify any behavior and is safe. When replacing `np.int`, you may wish to use e.g. `np.int64` or `np.int32` to specify the precision. If you wish to review your current use, check the release note link for additional information.\n",
      "Deprecated in NumPy 1.20; for more details and guidance: https://numpy.org/devdocs/release/1.20.0-notes.html#deprecations\n",
      "  sample_rate = np.int(raw.info['sfreq'])\n",
      "/var/folders/7w/cb7mhl253wdbc67t80fs_bmc0000gn/T/ipykernel_87452/526044833.py:98: RuntimeWarning: Mean of empty slice\n",
      "  sholo_m = np.squeeze(np.nanmean(sholo_temp, axis = 0))\n"
     ]
    },
    {
     "name": "stdout",
     "output_type": "stream",
     "text": [
      "['AG118', 'AG119', 'AG150', 'AG120', 'AG055']\n",
      "no id 8\n"
     ]
    },
    {
     "name": "stderr",
     "output_type": "stream",
     "text": [
      "/var/folders/7w/cb7mhl253wdbc67t80fs_bmc0000gn/T/ipykernel_87452/526044833.py:64: DeprecationWarning: `np.int` is a deprecated alias for the builtin `int`. To silence this warning, use `int` by itself. Doing this will not modify any behavior and is safe. When replacing `np.int`, you may wish to use e.g. `np.int64` or `np.int32` to specify the precision. If you wish to review your current use, check the release note link for additional information.\n",
      "Deprecated in NumPy 1.20; for more details and guidance: https://numpy.org/devdocs/release/1.20.0-notes.html#deprecations\n",
      "  sample_rate = np.int(raw.info['sfreq'])\n"
     ]
    },
    {
     "name": "stdout",
     "output_type": "stream",
     "text": [
      "['AG130', 'AG101', 'AG100', 'AG114', 'AG111']\n"
     ]
    },
    {
     "name": "stderr",
     "output_type": "stream",
     "text": [
      "/var/folders/7w/cb7mhl253wdbc67t80fs_bmc0000gn/T/ipykernel_87452/526044833.py:64: DeprecationWarning: `np.int` is a deprecated alias for the builtin `int`. To silence this warning, use `int` by itself. Doing this will not modify any behavior and is safe. When replacing `np.int`, you may wish to use e.g. `np.int64` or `np.int32` to specify the precision. If you wish to review your current use, check the release note link for additional information.\n",
      "Deprecated in NumPy 1.20; for more details and guidance: https://numpy.org/devdocs/release/1.20.0-notes.html#deprecations\n",
      "  sample_rate = np.int(raw.info['sfreq'])\n",
      "/var/folders/7w/cb7mhl253wdbc67t80fs_bmc0000gn/T/ipykernel_87452/526044833.py:98: RuntimeWarning: Mean of empty slice\n",
      "  sholo_m = np.squeeze(np.nanmean(sholo_temp, axis = 0))\n"
     ]
    },
    {
     "name": "stdout",
     "output_type": "stream",
     "text": [
      "['AG160', 'AG142', 'AG151', 'AG085', 'AG155']\n"
     ]
    },
    {
     "name": "stderr",
     "output_type": "stream",
     "text": [
      "/var/folders/7w/cb7mhl253wdbc67t80fs_bmc0000gn/T/ipykernel_87452/526044833.py:64: DeprecationWarning: `np.int` is a deprecated alias for the builtin `int`. To silence this warning, use `int` by itself. Doing this will not modify any behavior and is safe. When replacing `np.int`, you may wish to use e.g. `np.int64` or `np.int32` to specify the precision. If you wish to review your current use, check the release note link for additional information.\n",
      "Deprecated in NumPy 1.20; for more details and guidance: https://numpy.org/devdocs/release/1.20.0-notes.html#deprecations\n",
      "  sample_rate = np.int(raw.info['sfreq'])\n",
      "/var/folders/7w/cb7mhl253wdbc67t80fs_bmc0000gn/T/ipykernel_87452/526044833.py:98: RuntimeWarning: Mean of empty slice\n",
      "  sholo_m = np.squeeze(np.nanmean(sholo_temp, axis = 0))\n"
     ]
    },
    {
     "name": "stdout",
     "output_type": "stream",
     "text": [
      "['AG121', 'AG153', 'AG155', 'AG125', 'AG144']\n"
     ]
    },
    {
     "name": "stderr",
     "output_type": "stream",
     "text": [
      "/var/folders/7w/cb7mhl253wdbc67t80fs_bmc0000gn/T/ipykernel_87452/526044833.py:64: DeprecationWarning: `np.int` is a deprecated alias for the builtin `int`. To silence this warning, use `int` by itself. Doing this will not modify any behavior and is safe. When replacing `np.int`, you may wish to use e.g. `np.int64` or `np.int32` to specify the precision. If you wish to review your current use, check the release note link for additional information.\n",
      "Deprecated in NumPy 1.20; for more details and guidance: https://numpy.org/devdocs/release/1.20.0-notes.html#deprecations\n",
      "  sample_rate = np.int(raw.info['sfreq'])\n",
      "/var/folders/7w/cb7mhl253wdbc67t80fs_bmc0000gn/T/ipykernel_87452/526044833.py:98: RuntimeWarning: Mean of empty slice\n",
      "  sholo_m = np.squeeze(np.nanmean(sholo_temp, axis = 0))\n"
     ]
    },
    {
     "name": "stdout",
     "output_type": "stream",
     "text": [
      "no id 12\n",
      "['AG100', 'AG099', 'AG152', 'AG056', 'AG058']\n"
     ]
    },
    {
     "name": "stderr",
     "output_type": "stream",
     "text": [
      "/var/folders/7w/cb7mhl253wdbc67t80fs_bmc0000gn/T/ipykernel_87452/526044833.py:64: DeprecationWarning: `np.int` is a deprecated alias for the builtin `int`. To silence this warning, use `int` by itself. Doing this will not modify any behavior and is safe. When replacing `np.int`, you may wish to use e.g. `np.int64` or `np.int32` to specify the precision. If you wish to review your current use, check the release note link for additional information.\n",
      "Deprecated in NumPy 1.20; for more details and guidance: https://numpy.org/devdocs/release/1.20.0-notes.html#deprecations\n",
      "  sample_rate = np.int(raw.info['sfreq'])\n",
      "/var/folders/7w/cb7mhl253wdbc67t80fs_bmc0000gn/T/ipykernel_87452/526044833.py:98: RuntimeWarning: Mean of empty slice\n",
      "  sholo_m = np.squeeze(np.nanmean(sholo_temp, axis = 0))\n"
     ]
    },
    {
     "name": "stdout",
     "output_type": "stream",
     "text": [
      "['AG097', 'AG100', 'AG157', 'AG046', 'AG048']\n"
     ]
    },
    {
     "name": "stderr",
     "output_type": "stream",
     "text": [
      "/var/folders/7w/cb7mhl253wdbc67t80fs_bmc0000gn/T/ipykernel_87452/526044833.py:64: DeprecationWarning: `np.int` is a deprecated alias for the builtin `int`. To silence this warning, use `int` by itself. Doing this will not modify any behavior and is safe. When replacing `np.int`, you may wish to use e.g. `np.int64` or `np.int32` to specify the precision. If you wish to review your current use, check the release note link for additional information.\n",
      "Deprecated in NumPy 1.20; for more details and guidance: https://numpy.org/devdocs/release/1.20.0-notes.html#deprecations\n",
      "  sample_rate = np.int(raw.info['sfreq'])\n",
      "/var/folders/7w/cb7mhl253wdbc67t80fs_bmc0000gn/T/ipykernel_87452/526044833.py:98: RuntimeWarning: Mean of empty slice\n",
      "  sholo_m = np.squeeze(np.nanmean(sholo_temp, axis = 0))\n"
     ]
    },
    {
     "name": "stdout",
     "output_type": "stream",
     "text": [
      "['AG123', 'AG154', 'AG127', 'AG018', 'AG110']\n"
     ]
    },
    {
     "name": "stderr",
     "output_type": "stream",
     "text": [
      "/var/folders/7w/cb7mhl253wdbc67t80fs_bmc0000gn/T/ipykernel_87452/526044833.py:64: DeprecationWarning: `np.int` is a deprecated alias for the builtin `int`. To silence this warning, use `int` by itself. Doing this will not modify any behavior and is safe. When replacing `np.int`, you may wish to use e.g. `np.int64` or `np.int32` to specify the precision. If you wish to review your current use, check the release note link for additional information.\n",
      "Deprecated in NumPy 1.20; for more details and guidance: https://numpy.org/devdocs/release/1.20.0-notes.html#deprecations\n",
      "  sample_rate = np.int(raw.info['sfreq'])\n",
      "/var/folders/7w/cb7mhl253wdbc67t80fs_bmc0000gn/T/ipykernel_87452/526044833.py:98: RuntimeWarning: Mean of empty slice\n",
      "  sholo_m = np.squeeze(np.nanmean(sholo_temp, axis = 0))\n"
     ]
    },
    {
     "name": "stdout",
     "output_type": "stream",
     "text": [
      "['AG154', 'AG156', 'AG126', 'AG125', 'AG145']\n"
     ]
    },
    {
     "name": "stderr",
     "output_type": "stream",
     "text": [
      "/var/folders/7w/cb7mhl253wdbc67t80fs_bmc0000gn/T/ipykernel_87452/526044833.py:64: DeprecationWarning: `np.int` is a deprecated alias for the builtin `int`. To silence this warning, use `int` by itself. Doing this will not modify any behavior and is safe. When replacing `np.int`, you may wish to use e.g. `np.int64` or `np.int32` to specify the precision. If you wish to review your current use, check the release note link for additional information.\n",
      "Deprecated in NumPy 1.20; for more details and guidance: https://numpy.org/devdocs/release/1.20.0-notes.html#deprecations\n",
      "  sample_rate = np.int(raw.info['sfreq'])\n",
      "/var/folders/7w/cb7mhl253wdbc67t80fs_bmc0000gn/T/ipykernel_87452/526044833.py:98: RuntimeWarning: Mean of empty slice\n",
      "  sholo_m = np.squeeze(np.nanmean(sholo_temp, axis = 0))\n"
     ]
    },
    {
     "name": "stdout",
     "output_type": "stream",
     "text": [
      "['AG124', 'AG046', 'AG123', 'AG125', 'AG121']\n"
     ]
    },
    {
     "name": "stderr",
     "output_type": "stream",
     "text": [
      "/var/folders/7w/cb7mhl253wdbc67t80fs_bmc0000gn/T/ipykernel_87452/526044833.py:64: DeprecationWarning: `np.int` is a deprecated alias for the builtin `int`. To silence this warning, use `int` by itself. Doing this will not modify any behavior and is safe. When replacing `np.int`, you may wish to use e.g. `np.int64` or `np.int32` to specify the precision. If you wish to review your current use, check the release note link for additional information.\n",
      "Deprecated in NumPy 1.20; for more details and guidance: https://numpy.org/devdocs/release/1.20.0-notes.html#deprecations\n",
      "  sample_rate = np.int(raw.info['sfreq'])\n",
      "/var/folders/7w/cb7mhl253wdbc67t80fs_bmc0000gn/T/ipykernel_87452/526044833.py:98: RuntimeWarning: Mean of empty slice\n",
      "  sholo_m = np.squeeze(np.nanmean(sholo_temp, axis = 0))\n"
     ]
    },
    {
     "name": "stdout",
     "output_type": "stream",
     "text": [
      "no id 18\n",
      "['AG120', 'AG119', 'AG114', 'AG117', 'AG145']\n"
     ]
    },
    {
     "name": "stderr",
     "output_type": "stream",
     "text": [
      "/var/folders/7w/cb7mhl253wdbc67t80fs_bmc0000gn/T/ipykernel_87452/526044833.py:64: DeprecationWarning: `np.int` is a deprecated alias for the builtin `int`. To silence this warning, use `int` by itself. Doing this will not modify any behavior and is safe. When replacing `np.int`, you may wish to use e.g. `np.int64` or `np.int32` to specify the precision. If you wish to review your current use, check the release note link for additional information.\n",
      "Deprecated in NumPy 1.20; for more details and guidance: https://numpy.org/devdocs/release/1.20.0-notes.html#deprecations\n",
      "  sample_rate = np.int(raw.info['sfreq'])\n",
      "/var/folders/7w/cb7mhl253wdbc67t80fs_bmc0000gn/T/ipykernel_87452/526044833.py:98: RuntimeWarning: Mean of empty slice\n",
      "  sholo_m = np.squeeze(np.nanmean(sholo_temp, axis = 0))\n"
     ]
    },
    {
     "name": "stdout",
     "output_type": "stream",
     "text": [
      "['AG140', 'AG143', 'AG151', 'AG138', 'AG137']\n"
     ]
    },
    {
     "name": "stderr",
     "output_type": "stream",
     "text": [
      "/var/folders/7w/cb7mhl253wdbc67t80fs_bmc0000gn/T/ipykernel_87452/526044833.py:64: DeprecationWarning: `np.int` is a deprecated alias for the builtin `int`. To silence this warning, use `int` by itself. Doing this will not modify any behavior and is safe. When replacing `np.int`, you may wish to use e.g. `np.int64` or `np.int32` to specify the precision. If you wish to review your current use, check the release note link for additional information.\n",
      "Deprecated in NumPy 1.20; for more details and guidance: https://numpy.org/devdocs/release/1.20.0-notes.html#deprecations\n",
      "  sample_rate = np.int(raw.info['sfreq'])\n",
      "/var/folders/7w/cb7mhl253wdbc67t80fs_bmc0000gn/T/ipykernel_87452/526044833.py:98: RuntimeWarning: Mean of empty slice\n",
      "  sholo_m = np.squeeze(np.nanmean(sholo_temp, axis = 0))\n"
     ]
    },
    {
     "name": "stdout",
     "output_type": "stream",
     "text": [
      "['AG018', 'AG139', 'AG019', 'AG136', 'AG123']\n"
     ]
    },
    {
     "name": "stderr",
     "output_type": "stream",
     "text": [
      "/var/folders/7w/cb7mhl253wdbc67t80fs_bmc0000gn/T/ipykernel_87452/526044833.py:64: DeprecationWarning: `np.int` is a deprecated alias for the builtin `int`. To silence this warning, use `int` by itself. Doing this will not modify any behavior and is safe. When replacing `np.int`, you may wish to use e.g. `np.int64` or `np.int32` to specify the precision. If you wish to review your current use, check the release note link for additional information.\n",
      "Deprecated in NumPy 1.20; for more details and guidance: https://numpy.org/devdocs/release/1.20.0-notes.html#deprecations\n",
      "  sample_rate = np.int(raw.info['sfreq'])\n",
      "/var/folders/7w/cb7mhl253wdbc67t80fs_bmc0000gn/T/ipykernel_87452/526044833.py:98: RuntimeWarning: Mean of empty slice\n",
      "  sholo_m = np.squeeze(np.nanmean(sholo_temp, axis = 0))\n"
     ]
    },
    {
     "name": "stdout",
     "output_type": "stream",
     "text": [
      "['AG127', 'AG083', 'AG123', 'AG126', 'AG124']\n"
     ]
    },
    {
     "name": "stderr",
     "output_type": "stream",
     "text": [
      "/var/folders/7w/cb7mhl253wdbc67t80fs_bmc0000gn/T/ipykernel_87452/526044833.py:64: DeprecationWarning: `np.int` is a deprecated alias for the builtin `int`. To silence this warning, use `int` by itself. Doing this will not modify any behavior and is safe. When replacing `np.int`, you may wish to use e.g. `np.int64` or `np.int32` to specify the precision. If you wish to review your current use, check the release note link for additional information.\n",
      "Deprecated in NumPy 1.20; for more details and guidance: https://numpy.org/devdocs/release/1.20.0-notes.html#deprecations\n",
      "  sample_rate = np.int(raw.info['sfreq'])\n",
      "/var/folders/7w/cb7mhl253wdbc67t80fs_bmc0000gn/T/ipykernel_87452/526044833.py:98: RuntimeWarning: Mean of empty slice\n",
      "  sholo_m = np.squeeze(np.nanmean(sholo_temp, axis = 0))\n"
     ]
    },
    {
     "name": "stdout",
     "output_type": "stream",
     "text": [
      "['AG140', 'AG062', 'AG127', 'AG123', 'AG061']\n"
     ]
    },
    {
     "name": "stderr",
     "output_type": "stream",
     "text": [
      "/var/folders/7w/cb7mhl253wdbc67t80fs_bmc0000gn/T/ipykernel_87452/526044833.py:64: DeprecationWarning: `np.int` is a deprecated alias for the builtin `int`. To silence this warning, use `int` by itself. Doing this will not modify any behavior and is safe. When replacing `np.int`, you may wish to use e.g. `np.int64` or `np.int32` to specify the precision. If you wish to review your current use, check the release note link for additional information.\n",
      "Deprecated in NumPy 1.20; for more details and guidance: https://numpy.org/devdocs/release/1.20.0-notes.html#deprecations\n",
      "  sample_rate = np.int(raw.info['sfreq'])\n",
      "/var/folders/7w/cb7mhl253wdbc67t80fs_bmc0000gn/T/ipykernel_87452/526044833.py:98: RuntimeWarning: Mean of empty slice\n",
      "  sholo_m = np.squeeze(np.nanmean(sholo_temp, axis = 0))\n"
     ]
    },
    {
     "name": "stdout",
     "output_type": "stream",
     "text": [
      "['AG020', 'AG021', 'AG017', 'AG063', 'AG023']\n"
     ]
    },
    {
     "name": "stderr",
     "output_type": "stream",
     "text": [
      "/var/folders/7w/cb7mhl253wdbc67t80fs_bmc0000gn/T/ipykernel_87452/526044833.py:64: DeprecationWarning: `np.int` is a deprecated alias for the builtin `int`. To silence this warning, use `int` by itself. Doing this will not modify any behavior and is safe. When replacing `np.int`, you may wish to use e.g. `np.int64` or `np.int32` to specify the precision. If you wish to review your current use, check the release note link for additional information.\n",
      "Deprecated in NumPy 1.20; for more details and guidance: https://numpy.org/devdocs/release/1.20.0-notes.html#deprecations\n",
      "  sample_rate = np.int(raw.info['sfreq'])\n",
      "/var/folders/7w/cb7mhl253wdbc67t80fs_bmc0000gn/T/ipykernel_87452/526044833.py:98: RuntimeWarning: Mean of empty slice\n",
      "  sholo_m = np.squeeze(np.nanmean(sholo_temp, axis = 0))\n"
     ]
    },
    {
     "name": "stdout",
     "output_type": "stream",
     "text": [
      "no id 25\n",
      "['AG020', 'AG018', 'AG059', 'AG060', 'AG057']\n"
     ]
    },
    {
     "name": "stderr",
     "output_type": "stream",
     "text": [
      "/var/folders/7w/cb7mhl253wdbc67t80fs_bmc0000gn/T/ipykernel_87452/526044833.py:64: DeprecationWarning: `np.int` is a deprecated alias for the builtin `int`. To silence this warning, use `int` by itself. Doing this will not modify any behavior and is safe. When replacing `np.int`, you may wish to use e.g. `np.int64` or `np.int32` to specify the precision. If you wish to review your current use, check the release note link for additional information.\n",
      "Deprecated in NumPy 1.20; for more details and guidance: https://numpy.org/devdocs/release/1.20.0-notes.html#deprecations\n",
      "  sample_rate = np.int(raw.info['sfreq'])\n",
      "/var/folders/7w/cb7mhl253wdbc67t80fs_bmc0000gn/T/ipykernel_87452/526044833.py:98: RuntimeWarning: Mean of empty slice\n",
      "  sholo_m = np.squeeze(np.nanmean(sholo_temp, axis = 0))\n"
     ]
    },
    {
     "name": "stdout",
     "output_type": "stream",
     "text": [
      "no id 27\n",
      "['AG133', 'AG054', 'AG134', 'AG051', 'AG052']\n"
     ]
    },
    {
     "name": "stderr",
     "output_type": "stream",
     "text": [
      "/var/folders/7w/cb7mhl253wdbc67t80fs_bmc0000gn/T/ipykernel_87452/526044833.py:64: DeprecationWarning: `np.int` is a deprecated alias for the builtin `int`. To silence this warning, use `int` by itself. Doing this will not modify any behavior and is safe. When replacing `np.int`, you may wish to use e.g. `np.int64` or `np.int32` to specify the precision. If you wish to review your current use, check the release note link for additional information.\n",
      "Deprecated in NumPy 1.20; for more details and guidance: https://numpy.org/devdocs/release/1.20.0-notes.html#deprecations\n",
      "  sample_rate = np.int(raw.info['sfreq'])\n",
      "/var/folders/7w/cb7mhl253wdbc67t80fs_bmc0000gn/T/ipykernel_87452/526044833.py:98: RuntimeWarning: Mean of empty slice\n",
      "  sholo_m = np.squeeze(np.nanmean(sholo_temp, axis = 0))\n"
     ]
    },
    {
     "name": "stdout",
     "output_type": "stream",
     "text": [
      "['AG021', 'AG059', 'AG063', 'AG017', 'AG046']\n"
     ]
    },
    {
     "name": "stderr",
     "output_type": "stream",
     "text": [
      "/var/folders/7w/cb7mhl253wdbc67t80fs_bmc0000gn/T/ipykernel_87452/526044833.py:64: DeprecationWarning: `np.int` is a deprecated alias for the builtin `int`. To silence this warning, use `int` by itself. Doing this will not modify any behavior and is safe. When replacing `np.int`, you may wish to use e.g. `np.int64` or `np.int32` to specify the precision. If you wish to review your current use, check the release note link for additional information.\n",
      "Deprecated in NumPy 1.20; for more details and guidance: https://numpy.org/devdocs/release/1.20.0-notes.html#deprecations\n",
      "  sample_rate = np.int(raw.info['sfreq'])\n",
      "/var/folders/7w/cb7mhl253wdbc67t80fs_bmc0000gn/T/ipykernel_87452/526044833.py:98: RuntimeWarning: Mean of empty slice\n",
      "  sholo_m = np.squeeze(np.nanmean(sholo_temp, axis = 0))\n"
     ]
    }
   ],
   "source": [
    "group = 'dementia'\n",
    "\n",
    "\n",
    "sys_types = ['A','B','A','B','A','B','B','B','B',\n",
    "             'A','B','A','A','A','A','A','A','A',\n",
    "             'A','B','A','B','A','A','B','A','A',\n",
    "             'A','A']\n",
    "excluded_dementia = []\n",
    "holo_d = []\n",
    "for i in range(29):\n",
    "    s = i + 1\n",
    "    sys_type = sys_types[i]\n",
    "    try:\n",
    "        filename = 'de_hokuto_%s%d-raw.fif'%(group, s)\n",
    "        sholo_m, fam, fcarrier = get_holo_trl(filename, sys_type)\n",
    "        im_array = holo_gray_images(sholo_m, fam, fcarrier)\n",
    "        holo_d.append(im_array)\n",
    "    except:\n",
    "        print('no id %d'%s)\n",
    "        excluded_dementia.append(s)\n",
    "    pass\n",
    "    "
   ]
  },
  {
   "cell_type": "code",
   "execution_count": 89,
   "id": "2c1038a9",
   "metadata": {},
   "outputs": [
    {
     "name": "stdout",
     "output_type": "stream",
     "text": [
      "['AG101', 'AG100', 'AG105', 'AG104', 'AG122']\n"
     ]
    },
    {
     "name": "stderr",
     "output_type": "stream",
     "text": [
      "/var/folders/7w/cb7mhl253wdbc67t80fs_bmc0000gn/T/ipykernel_87452/526044833.py:64: DeprecationWarning: `np.int` is a deprecated alias for the builtin `int`. To silence this warning, use `int` by itself. Doing this will not modify any behavior and is safe. When replacing `np.int`, you may wish to use e.g. `np.int64` or `np.int32` to specify the precision. If you wish to review your current use, check the release note link for additional information.\n",
      "Deprecated in NumPy 1.20; for more details and guidance: https://numpy.org/devdocs/release/1.20.0-notes.html#deprecations\n",
      "  sample_rate = np.int(raw.info['sfreq'])\n",
      "/var/folders/7w/cb7mhl253wdbc67t80fs_bmc0000gn/T/ipykernel_87452/526044833.py:98: RuntimeWarning: Mean of empty slice\n",
      "  sholo_m = np.squeeze(np.nanmean(sholo_temp, axis = 0))\n"
     ]
    },
    {
     "name": "stdout",
     "output_type": "stream",
     "text": [
      "['AG101', 'AG027', 'AG141', 'AG142', 'AG139']\n"
     ]
    },
    {
     "name": "stderr",
     "output_type": "stream",
     "text": [
      "/var/folders/7w/cb7mhl253wdbc67t80fs_bmc0000gn/T/ipykernel_87452/526044833.py:64: DeprecationWarning: `np.int` is a deprecated alias for the builtin `int`. To silence this warning, use `int` by itself. Doing this will not modify any behavior and is safe. When replacing `np.int`, you may wish to use e.g. `np.int64` or `np.int32` to specify the precision. If you wish to review your current use, check the release note link for additional information.\n",
      "Deprecated in NumPy 1.20; for more details and guidance: https://numpy.org/devdocs/release/1.20.0-notes.html#deprecations\n",
      "  sample_rate = np.int(raw.info['sfreq'])\n",
      "/var/folders/7w/cb7mhl253wdbc67t80fs_bmc0000gn/T/ipykernel_87452/526044833.py:98: RuntimeWarning: Mean of empty slice\n",
      "  sholo_m = np.squeeze(np.nanmean(sholo_temp, axis = 0))\n"
     ]
    },
    {
     "name": "stdout",
     "output_type": "stream",
     "text": [
      "no id 3\n",
      "['AG139', 'AG140', 'AG137', 'AG136', 'AG142']\n"
     ]
    },
    {
     "name": "stderr",
     "output_type": "stream",
     "text": [
      "/var/folders/7w/cb7mhl253wdbc67t80fs_bmc0000gn/T/ipykernel_87452/526044833.py:64: DeprecationWarning: `np.int` is a deprecated alias for the builtin `int`. To silence this warning, use `int` by itself. Doing this will not modify any behavior and is safe. When replacing `np.int`, you may wish to use e.g. `np.int64` or `np.int32` to specify the precision. If you wish to review your current use, check the release note link for additional information.\n",
      "Deprecated in NumPy 1.20; for more details and guidance: https://numpy.org/devdocs/release/1.20.0-notes.html#deprecations\n",
      "  sample_rate = np.int(raw.info['sfreq'])\n",
      "/var/folders/7w/cb7mhl253wdbc67t80fs_bmc0000gn/T/ipykernel_87452/526044833.py:98: RuntimeWarning: Mean of empty slice\n",
      "  sholo_m = np.squeeze(np.nanmean(sholo_temp, axis = 0))\n"
     ]
    },
    {
     "name": "stdout",
     "output_type": "stream",
     "text": [
      "['AG143', 'AG138', 'AG140', 'AG131', 'AG151']\n"
     ]
    },
    {
     "name": "stderr",
     "output_type": "stream",
     "text": [
      "/var/folders/7w/cb7mhl253wdbc67t80fs_bmc0000gn/T/ipykernel_87452/526044833.py:64: DeprecationWarning: `np.int` is a deprecated alias for the builtin `int`. To silence this warning, use `int` by itself. Doing this will not modify any behavior and is safe. When replacing `np.int`, you may wish to use e.g. `np.int64` or `np.int32` to specify the precision. If you wish to review your current use, check the release note link for additional information.\n",
      "Deprecated in NumPy 1.20; for more details and guidance: https://numpy.org/devdocs/release/1.20.0-notes.html#deprecations\n",
      "  sample_rate = np.int(raw.info['sfreq'])\n",
      "/var/folders/7w/cb7mhl253wdbc67t80fs_bmc0000gn/T/ipykernel_87452/526044833.py:98: RuntimeWarning: Mean of empty slice\n",
      "  sholo_m = np.squeeze(np.nanmean(sholo_temp, axis = 0))\n"
     ]
    },
    {
     "name": "stdout",
     "output_type": "stream",
     "text": [
      "no id 6\n",
      "no id 7\n",
      "['AG151', 'AG138', 'AG143', 'AG092', 'AG140']\n"
     ]
    },
    {
     "name": "stderr",
     "output_type": "stream",
     "text": [
      "/var/folders/7w/cb7mhl253wdbc67t80fs_bmc0000gn/T/ipykernel_87452/526044833.py:64: DeprecationWarning: `np.int` is a deprecated alias for the builtin `int`. To silence this warning, use `int` by itself. Doing this will not modify any behavior and is safe. When replacing `np.int`, you may wish to use e.g. `np.int64` or `np.int32` to specify the precision. If you wish to review your current use, check the release note link for additional information.\n",
      "Deprecated in NumPy 1.20; for more details and guidance: https://numpy.org/devdocs/release/1.20.0-notes.html#deprecations\n",
      "  sample_rate = np.int(raw.info['sfreq'])\n",
      "/var/folders/7w/cb7mhl253wdbc67t80fs_bmc0000gn/T/ipykernel_87452/526044833.py:98: RuntimeWarning: Mean of empty slice\n",
      "  sholo_m = np.squeeze(np.nanmean(sholo_temp, axis = 0))\n"
     ]
    },
    {
     "name": "stdout",
     "output_type": "stream",
     "text": [
      "['AG125', 'AG141', 'AG126', 'AG139', 'AG160']\n"
     ]
    },
    {
     "name": "stderr",
     "output_type": "stream",
     "text": [
      "/var/folders/7w/cb7mhl253wdbc67t80fs_bmc0000gn/T/ipykernel_87452/526044833.py:64: DeprecationWarning: `np.int` is a deprecated alias for the builtin `int`. To silence this warning, use `int` by itself. Doing this will not modify any behavior and is safe. When replacing `np.int`, you may wish to use e.g. `np.int64` or `np.int32` to specify the precision. If you wish to review your current use, check the release note link for additional information.\n",
      "Deprecated in NumPy 1.20; for more details and guidance: https://numpy.org/devdocs/release/1.20.0-notes.html#deprecations\n",
      "  sample_rate = np.int(raw.info['sfreq'])\n",
      "/var/folders/7w/cb7mhl253wdbc67t80fs_bmc0000gn/T/ipykernel_87452/526044833.py:98: RuntimeWarning: Mean of empty slice\n",
      "  sholo_m = np.squeeze(np.nanmean(sholo_temp, axis = 0))\n"
     ]
    },
    {
     "name": "stdout",
     "output_type": "stream",
     "text": [
      "['AG141', 'AG152', 'AG020', 'AG144', 'AG025']\n"
     ]
    },
    {
     "name": "stderr",
     "output_type": "stream",
     "text": [
      "/var/folders/7w/cb7mhl253wdbc67t80fs_bmc0000gn/T/ipykernel_87452/526044833.py:64: DeprecationWarning: `np.int` is a deprecated alias for the builtin `int`. To silence this warning, use `int` by itself. Doing this will not modify any behavior and is safe. When replacing `np.int`, you may wish to use e.g. `np.int64` or `np.int32` to specify the precision. If you wish to review your current use, check the release note link for additional information.\n",
      "Deprecated in NumPy 1.20; for more details and guidance: https://numpy.org/devdocs/release/1.20.0-notes.html#deprecations\n",
      "  sample_rate = np.int(raw.info['sfreq'])\n",
      "/var/folders/7w/cb7mhl253wdbc67t80fs_bmc0000gn/T/ipykernel_87452/526044833.py:98: RuntimeWarning: Mean of empty slice\n",
      "  sholo_m = np.squeeze(np.nanmean(sholo_temp, axis = 0))\n"
     ]
    },
    {
     "name": "stdout",
     "output_type": "stream",
     "text": [
      "no id 11\n",
      "['AG094', 'AG032', 'AG097', 'AG095', 'AG031']\n"
     ]
    },
    {
     "name": "stderr",
     "output_type": "stream",
     "text": [
      "/var/folders/7w/cb7mhl253wdbc67t80fs_bmc0000gn/T/ipykernel_87452/526044833.py:64: DeprecationWarning: `np.int` is a deprecated alias for the builtin `int`. To silence this warning, use `int` by itself. Doing this will not modify any behavior and is safe. When replacing `np.int`, you may wish to use e.g. `np.int64` or `np.int32` to specify the precision. If you wish to review your current use, check the release note link for additional information.\n",
      "Deprecated in NumPy 1.20; for more details and guidance: https://numpy.org/devdocs/release/1.20.0-notes.html#deprecations\n",
      "  sample_rate = np.int(raw.info['sfreq'])\n",
      "/var/folders/7w/cb7mhl253wdbc67t80fs_bmc0000gn/T/ipykernel_87452/526044833.py:98: RuntimeWarning: Mean of empty slice\n",
      "  sholo_m = np.squeeze(np.nanmean(sholo_temp, axis = 0))\n"
     ]
    },
    {
     "name": "stdout",
     "output_type": "stream",
     "text": [
      "no id 13\n",
      "['AG156', 'AG154', 'AG157', 'AG159', 'AG155']\n"
     ]
    },
    {
     "name": "stderr",
     "output_type": "stream",
     "text": [
      "/var/folders/7w/cb7mhl253wdbc67t80fs_bmc0000gn/T/ipykernel_87452/526044833.py:64: DeprecationWarning: `np.int` is a deprecated alias for the builtin `int`. To silence this warning, use `int` by itself. Doing this will not modify any behavior and is safe. When replacing `np.int`, you may wish to use e.g. `np.int64` or `np.int32` to specify the precision. If you wish to review your current use, check the release note link for additional information.\n",
      "Deprecated in NumPy 1.20; for more details and guidance: https://numpy.org/devdocs/release/1.20.0-notes.html#deprecations\n",
      "  sample_rate = np.int(raw.info['sfreq'])\n"
     ]
    },
    {
     "name": "stdout",
     "output_type": "stream",
     "text": [
      "['AG060', 'AG059', 'AG057', 'AG061', 'AG035']\n"
     ]
    },
    {
     "name": "stderr",
     "output_type": "stream",
     "text": [
      "/var/folders/7w/cb7mhl253wdbc67t80fs_bmc0000gn/T/ipykernel_87452/526044833.py:64: DeprecationWarning: `np.int` is a deprecated alias for the builtin `int`. To silence this warning, use `int` by itself. Doing this will not modify any behavior and is safe. When replacing `np.int`, you may wish to use e.g. `np.int64` or `np.int32` to specify the precision. If you wish to review your current use, check the release note link for additional information.\n",
      "Deprecated in NumPy 1.20; for more details and guidance: https://numpy.org/devdocs/release/1.20.0-notes.html#deprecations\n",
      "  sample_rate = np.int(raw.info['sfreq'])\n",
      "/var/folders/7w/cb7mhl253wdbc67t80fs_bmc0000gn/T/ipykernel_87452/526044833.py:98: RuntimeWarning: Mean of empty slice\n",
      "  sholo_m = np.squeeze(np.nanmean(sholo_temp, axis = 0))\n"
     ]
    }
   ],
   "source": [
    "\n",
    "group = 'mci'\n",
    "\n",
    "\n",
    "sys_types = ['B','B','B','B','B','B','B','B','B',\n",
    "             'B','A','B','B','B','B']\n",
    "excluded_mci = []\n",
    "holo_m = []\n",
    "for i in range(15):\n",
    "    s = i + 1\n",
    "    sys_type = sys_types[i]\n",
    "    try:\n",
    "        filename = 'de_hokuto_%s%d-raw.fif'%(group, s)\n",
    "        sholo_m, fam, fcarrier = get_holo_trl(filename, sys_type)\n",
    "        im_array = holo_gray_images(sholo_m, fam, fcarrier)\n",
    "        holo_m.append(im_array)\n",
    "    except:\n",
    "        print('no id %d'%s)\n",
    "        excluded_mci.append(s)\n",
    "    pass\n",
    "    "
   ]
  },
  {
   "cell_type": "code",
   "execution_count": 90,
   "id": "7b2a41a1",
   "metadata": {},
   "outputs": [
    {
     "name": "stdout",
     "output_type": "stream",
     "text": [
      "[49, 55, 60, 68, 90, 94, 97]\n",
      "[6, 8, 12, 18, 25, 27]\n",
      "[3, 6, 7, 11, 13]\n",
      "(126, 2560)\n",
      "126\n"
     ]
    }
   ],
   "source": [
    "print(excluded_control)\n",
    "print(excluded_dementia)\n",
    "print(excluded_mci)\n",
    "holo_2d_d = np.vstack(holo_d)\n",
    "holo_2d_c = np.vstack(holo_c)\n",
    "holo_2d_m = np.vstack(holo_m)\n",
    "\n",
    "holo_2d = np.concatenate((holo_2d_c, holo_2d_d, holo_2d_m),axis=0)\n",
    "\n",
    "y = [0] * holo_2d_c.shape[0] + [1] * holo_2d_d.shape[0] + [2] * holo_2d_m.shape[0]\n",
    "y = np.array(y)\n",
    "print(holo_2d.shape)\n",
    "print(len(y))"
   ]
  },
  {
   "cell_type": "code",
   "execution_count": 3,
   "id": "3d0467e6",
   "metadata": {},
   "outputs": [
    {
     "name": "stdout",
     "output_type": "stream",
     "text": [
      "1.0\n",
      "0.825\n"
     ]
    }
   ],
   "source": [
    "X = holo_2d / 255.0\n",
    "\n",
    "\n",
    "wclf = svm.SVC(kernel=\"linear\", class_weight={0: 1, 1: 10, 2:1})\n",
    "scores = cross_validate(wclf, X, y, cv=10, return_train_score=True)\n",
    "print(scores['train_score'].mean())\n",
    "print(scores['test_score'].mean())"
   ]
  },
  {
   "cell_type": "code",
   "execution_count": 12,
   "id": "7e4d9c83",
   "metadata": {},
   "outputs": [
    {
     "name": "stdout",
     "output_type": "stream",
     "text": [
      "Training set score: 0.890000\n",
      "Test set score: 0.884615\n"
     ]
    }
   ],
   "source": [
    "\n",
    "\n",
    "clf = MLPClassifier(solver='adam', learning_rate_init=0.00001,\n",
    "                    max_iter=20000, random_state=1)\n",
    "\n",
    "X_train, X_test, y_train, y_test = train_test_split(X, y, random_state=0, test_size=0.2)\n",
    "clf.fit(X_train, y_train)\n",
    "print(\"Training set score: %f\" % clf.score(X_train, y_train))\n",
    "print(\"Test set score: %f\" % clf.score(X_test, y_test))\n"
   ]
  },
  {
   "cell_type": "code",
   "execution_count": 28,
   "id": "7996525f",
   "metadata": {},
   "outputs": [
    {
     "name": "stdout",
     "output_type": "stream",
     "text": [
      "Training set score: 0.980000\n",
      "Test set score: 0.923077\n"
     ]
    }
   ],
   "source": [
    "X = holo_2d / 255.0\n",
    "\n",
    "clf = MLPClassifier(hidden_layer_sizes=(256, 128, 32, 16, 8), solver='adam', learning_rate_init=0.00001,\n",
    "                    max_iter=20000, random_state=1)\n",
    "\n",
    "X_train, X_test, y_train, y_test = train_test_split(X, y, random_state=0, test_size=0.2)\n",
    "clf.fit(X_train, y_train)\n",
    "print(\"Training set score: %f\" % clf.score(X_train, y_train))\n",
    "print(\"Test set score: %f\" % clf.score(X_test, y_test))\n"
   ]
  },
  {
   "cell_type": "code",
   "execution_count": 7,
   "id": "73104cbd",
   "metadata": {},
   "outputs": [],
   "source": [
    "'''with open('feature_holo_1channel.npy', 'wb') as f:\n",
    "    np.save(f, holo_2d)\n",
    "    np.save(f, holo_2d_c)\n",
    "    np.save(f, holo_2d_d)\n",
    "    np.save(f, holo_2d_m)\n",
    "    np.save(f, y)\n",
    "'''"
   ]
  },
  {
   "cell_type": "code",
   "execution_count": 10,
   "id": "addf750d",
   "metadata": {},
   "outputs": [],
   "source": [
    "with open('feature_holo_1channel.npy', 'rb') as f:# originally, it is test.npy\n",
    "    holo_2d = np.load(f)\n",
    "    holo_2d_c = np.load(f)\n",
    "    holo_2d_d = np.load(f)\n",
    "    holo_2d_m = np.load(f)\n",
    "    y = np.load(f)"
   ]
  },
  {
   "cell_type": "code",
   "execution_count": 5,
   "id": "c8a95283",
   "metadata": {},
   "outputs": [
    {
     "data": {
      "text/plain": [
       "126"
      ]
     },
     "execution_count": 5,
     "metadata": {},
     "output_type": "execute_result"
    }
   ],
   "source": [
    "len(y)"
   ]
  },
  {
   "cell_type": "code",
   "execution_count": 56,
   "id": "8cf812fe",
   "metadata": {},
   "outputs": [
    {
     "name": "stdout",
     "output_type": "stream",
     "text": [
      "['AG083', 'AG156', 'AG062', 'AG124', 'AG140']\n"
     ]
    },
    {
     "name": "stderr",
     "output_type": "stream",
     "text": [
      "/var/folders/7w/cb7mhl253wdbc67t80fs_bmc0000gn/T/ipykernel_91705/1459849246.py:71: DeprecationWarning: `np.int` is a deprecated alias for the builtin `int`. To silence this warning, use `int` by itself. Doing this will not modify any behavior and is safe. When replacing `np.int`, you may wish to use e.g. `np.int64` or `np.int32` to specify the precision. If you wish to review your current use, check the release note link for additional information.\n",
      "Deprecated in NumPy 1.20; for more details and guidance: https://numpy.org/devdocs/release/1.20.0-notes.html#deprecations\n",
      "  sample_rate = np.int(raw.info['sfreq'])\n",
      "/var/folders/7w/cb7mhl253wdbc67t80fs_bmc0000gn/T/ipykernel_91705/1459849246.py:105: RuntimeWarning: Mean of empty slice\n",
      "  sholo_m = np.squeeze(np.nanmean(sholo_temp, axis = 0))\n"
     ]
    },
    {
     "name": "stdout",
     "output_type": "stream",
     "text": [
      "['AG141', 'AG159', 'AG139', 'AG088', 'AG160']\n"
     ]
    },
    {
     "name": "stderr",
     "output_type": "stream",
     "text": [
      "/var/folders/7w/cb7mhl253wdbc67t80fs_bmc0000gn/T/ipykernel_91705/1459849246.py:71: DeprecationWarning: `np.int` is a deprecated alias for the builtin `int`. To silence this warning, use `int` by itself. Doing this will not modify any behavior and is safe. When replacing `np.int`, you may wish to use e.g. `np.int64` or `np.int32` to specify the precision. If you wish to review your current use, check the release note link for additional information.\n",
      "Deprecated in NumPy 1.20; for more details and guidance: https://numpy.org/devdocs/release/1.20.0-notes.html#deprecations\n",
      "  sample_rate = np.int(raw.info['sfreq'])\n",
      "/var/folders/7w/cb7mhl253wdbc67t80fs_bmc0000gn/T/ipykernel_91705/1459849246.py:105: RuntimeWarning: Mean of empty slice\n",
      "  sholo_m = np.squeeze(np.nanmean(sholo_temp, axis = 0))\n"
     ]
    },
    {
     "name": "stdout",
     "output_type": "stream",
     "text": [
      "['AG121', 'AG134', 'AG150', 'AG123', 'AG139']\n"
     ]
    },
    {
     "name": "stderr",
     "output_type": "stream",
     "text": [
      "/var/folders/7w/cb7mhl253wdbc67t80fs_bmc0000gn/T/ipykernel_91705/1459849246.py:71: DeprecationWarning: `np.int` is a deprecated alias for the builtin `int`. To silence this warning, use `int` by itself. Doing this will not modify any behavior and is safe. When replacing `np.int`, you may wish to use e.g. `np.int64` or `np.int32` to specify the precision. If you wish to review your current use, check the release note link for additional information.\n",
      "Deprecated in NumPy 1.20; for more details and guidance: https://numpy.org/devdocs/release/1.20.0-notes.html#deprecations\n",
      "  sample_rate = np.int(raw.info['sfreq'])\n",
      "/var/folders/7w/cb7mhl253wdbc67t80fs_bmc0000gn/T/ipykernel_91705/1459849246.py:105: RuntimeWarning: Mean of empty slice\n",
      "  sholo_m = np.squeeze(np.nanmean(sholo_temp, axis = 0))\n"
     ]
    },
    {
     "name": "stdout",
     "output_type": "stream",
     "text": [
      "['AG151', 'AG146', 'AG154', 'AG143', 'AG133']\n"
     ]
    },
    {
     "name": "stderr",
     "output_type": "stream",
     "text": [
      "/var/folders/7w/cb7mhl253wdbc67t80fs_bmc0000gn/T/ipykernel_91705/1459849246.py:71: DeprecationWarning: `np.int` is a deprecated alias for the builtin `int`. To silence this warning, use `int` by itself. Doing this will not modify any behavior and is safe. When replacing `np.int`, you may wish to use e.g. `np.int64` or `np.int32` to specify the precision. If you wish to review your current use, check the release note link for additional information.\n",
      "Deprecated in NumPy 1.20; for more details and guidance: https://numpy.org/devdocs/release/1.20.0-notes.html#deprecations\n",
      "  sample_rate = np.int(raw.info['sfreq'])\n",
      "/var/folders/7w/cb7mhl253wdbc67t80fs_bmc0000gn/T/ipykernel_91705/1459849246.py:105: RuntimeWarning: Mean of empty slice\n",
      "  sholo_m = np.squeeze(np.nanmean(sholo_temp, axis = 0))\n"
     ]
    },
    {
     "name": "stdout",
     "output_type": "stream",
     "text": [
      "['AG136', 'AG138', 'AG139', 'AG129', 'AG135']\n"
     ]
    },
    {
     "name": "stderr",
     "output_type": "stream",
     "text": [
      "/var/folders/7w/cb7mhl253wdbc67t80fs_bmc0000gn/T/ipykernel_91705/1459849246.py:71: DeprecationWarning: `np.int` is a deprecated alias for the builtin `int`. To silence this warning, use `int` by itself. Doing this will not modify any behavior and is safe. When replacing `np.int`, you may wish to use e.g. `np.int64` or `np.int32` to specify the precision. If you wish to review your current use, check the release note link for additional information.\n",
      "Deprecated in NumPy 1.20; for more details and guidance: https://numpy.org/devdocs/release/1.20.0-notes.html#deprecations\n",
      "  sample_rate = np.int(raw.info['sfreq'])\n",
      "/var/folders/7w/cb7mhl253wdbc67t80fs_bmc0000gn/T/ipykernel_91705/1459849246.py:105: RuntimeWarning: Mean of empty slice\n",
      "  sholo_m = np.squeeze(np.nanmean(sholo_temp, axis = 0))\n"
     ]
    },
    {
     "name": "stdout",
     "output_type": "stream",
     "text": [
      "['AG129', 'AG126', 'AG125', 'AG084', 'AG085']\n"
     ]
    },
    {
     "name": "stderr",
     "output_type": "stream",
     "text": [
      "/var/folders/7w/cb7mhl253wdbc67t80fs_bmc0000gn/T/ipykernel_91705/1459849246.py:71: DeprecationWarning: `np.int` is a deprecated alias for the builtin `int`. To silence this warning, use `int` by itself. Doing this will not modify any behavior and is safe. When replacing `np.int`, you may wish to use e.g. `np.int64` or `np.int32` to specify the precision. If you wish to review your current use, check the release note link for additional information.\n",
      "Deprecated in NumPy 1.20; for more details and guidance: https://numpy.org/devdocs/release/1.20.0-notes.html#deprecations\n",
      "  sample_rate = np.int(raw.info['sfreq'])\n",
      "/var/folders/7w/cb7mhl253wdbc67t80fs_bmc0000gn/T/ipykernel_91705/1459849246.py:105: RuntimeWarning: Mean of empty slice\n",
      "  sholo_m = np.squeeze(np.nanmean(sholo_temp, axis = 0))\n"
     ]
    },
    {
     "name": "stdout",
     "output_type": "stream",
     "text": [
      "['AG154', 'AG150', 'AG148', 'AG149', 'AG152']\n"
     ]
    },
    {
     "name": "stderr",
     "output_type": "stream",
     "text": [
      "/var/folders/7w/cb7mhl253wdbc67t80fs_bmc0000gn/T/ipykernel_91705/1459849246.py:71: DeprecationWarning: `np.int` is a deprecated alias for the builtin `int`. To silence this warning, use `int` by itself. Doing this will not modify any behavior and is safe. When replacing `np.int`, you may wish to use e.g. `np.int64` or `np.int32` to specify the precision. If you wish to review your current use, check the release note link for additional information.\n",
      "Deprecated in NumPy 1.20; for more details and guidance: https://numpy.org/devdocs/release/1.20.0-notes.html#deprecations\n",
      "  sample_rate = np.int(raw.info['sfreq'])\n",
      "/var/folders/7w/cb7mhl253wdbc67t80fs_bmc0000gn/T/ipykernel_91705/1459849246.py:105: RuntimeWarning: Mean of empty slice\n",
      "  sholo_m = np.squeeze(np.nanmean(sholo_temp, axis = 0))\n"
     ]
    },
    {
     "name": "stdout",
     "output_type": "stream",
     "text": [
      "['AG017', 'AG022', 'AG137', 'AG061', 'AG018']\n"
     ]
    },
    {
     "name": "stderr",
     "output_type": "stream",
     "text": [
      "/var/folders/7w/cb7mhl253wdbc67t80fs_bmc0000gn/T/ipykernel_91705/1459849246.py:71: DeprecationWarning: `np.int` is a deprecated alias for the builtin `int`. To silence this warning, use `int` by itself. Doing this will not modify any behavior and is safe. When replacing `np.int`, you may wish to use e.g. `np.int64` or `np.int32` to specify the precision. If you wish to review your current use, check the release note link for additional information.\n",
      "Deprecated in NumPy 1.20; for more details and guidance: https://numpy.org/devdocs/release/1.20.0-notes.html#deprecations\n",
      "  sample_rate = np.int(raw.info['sfreq'])\n",
      "/var/folders/7w/cb7mhl253wdbc67t80fs_bmc0000gn/T/ipykernel_91705/1459849246.py:105: RuntimeWarning: Mean of empty slice\n",
      "  sholo_m = np.squeeze(np.nanmean(sholo_temp, axis = 0))\n"
     ]
    },
    {
     "name": "stdout",
     "output_type": "stream",
     "text": [
      "['AG154', 'AG152', 'AG145', 'AG056', 'AG120']\n"
     ]
    },
    {
     "name": "stderr",
     "output_type": "stream",
     "text": [
      "/var/folders/7w/cb7mhl253wdbc67t80fs_bmc0000gn/T/ipykernel_91705/1459849246.py:71: DeprecationWarning: `np.int` is a deprecated alias for the builtin `int`. To silence this warning, use `int` by itself. Doing this will not modify any behavior and is safe. When replacing `np.int`, you may wish to use e.g. `np.int64` or `np.int32` to specify the precision. If you wish to review your current use, check the release note link for additional information.\n",
      "Deprecated in NumPy 1.20; for more details and guidance: https://numpy.org/devdocs/release/1.20.0-notes.html#deprecations\n",
      "  sample_rate = np.int(raw.info['sfreq'])\n",
      "/var/folders/7w/cb7mhl253wdbc67t80fs_bmc0000gn/T/ipykernel_91705/1459849246.py:105: RuntimeWarning: Mean of empty slice\n",
      "  sholo_m = np.squeeze(np.nanmean(sholo_temp, axis = 0))\n"
     ]
    },
    {
     "name": "stdout",
     "output_type": "stream",
     "text": [
      "['AG138', 'AG136', 'AG129', 'AG154', 'AG148']\n"
     ]
    },
    {
     "name": "stderr",
     "output_type": "stream",
     "text": [
      "/var/folders/7w/cb7mhl253wdbc67t80fs_bmc0000gn/T/ipykernel_91705/1459849246.py:71: DeprecationWarning: `np.int` is a deprecated alias for the builtin `int`. To silence this warning, use `int` by itself. Doing this will not modify any behavior and is safe. When replacing `np.int`, you may wish to use e.g. `np.int64` or `np.int32` to specify the precision. If you wish to review your current use, check the release note link for additional information.\n",
      "Deprecated in NumPy 1.20; for more details and guidance: https://numpy.org/devdocs/release/1.20.0-notes.html#deprecations\n",
      "  sample_rate = np.int(raw.info['sfreq'])\n",
      "/var/folders/7w/cb7mhl253wdbc67t80fs_bmc0000gn/T/ipykernel_91705/1459849246.py:105: RuntimeWarning: Mean of empty slice\n",
      "  sholo_m = np.squeeze(np.nanmean(sholo_temp, axis = 0))\n"
     ]
    },
    {
     "name": "stdout",
     "output_type": "stream",
     "text": [
      "['AG145', 'AG144', 'AG020', 'AG021', 'AG139']\n"
     ]
    },
    {
     "name": "stderr",
     "output_type": "stream",
     "text": [
      "/var/folders/7w/cb7mhl253wdbc67t80fs_bmc0000gn/T/ipykernel_91705/1459849246.py:71: DeprecationWarning: `np.int` is a deprecated alias for the builtin `int`. To silence this warning, use `int` by itself. Doing this will not modify any behavior and is safe. When replacing `np.int`, you may wish to use e.g. `np.int64` or `np.int32` to specify the precision. If you wish to review your current use, check the release note link for additional information.\n",
      "Deprecated in NumPy 1.20; for more details and guidance: https://numpy.org/devdocs/release/1.20.0-notes.html#deprecations\n",
      "  sample_rate = np.int(raw.info['sfreq'])\n",
      "/var/folders/7w/cb7mhl253wdbc67t80fs_bmc0000gn/T/ipykernel_91705/1459849246.py:105: RuntimeWarning: Mean of empty slice\n",
      "  sholo_m = np.squeeze(np.nanmean(sholo_temp, axis = 0))\n"
     ]
    },
    {
     "name": "stdout",
     "output_type": "stream",
     "text": [
      "['AG131', 'AG137', 'AG139', 'AG153', 'AG155']\n"
     ]
    },
    {
     "name": "stderr",
     "output_type": "stream",
     "text": [
      "/var/folders/7w/cb7mhl253wdbc67t80fs_bmc0000gn/T/ipykernel_91705/1459849246.py:71: DeprecationWarning: `np.int` is a deprecated alias for the builtin `int`. To silence this warning, use `int` by itself. Doing this will not modify any behavior and is safe. When replacing `np.int`, you may wish to use e.g. `np.int64` or `np.int32` to specify the precision. If you wish to review your current use, check the release note link for additional information.\n",
      "Deprecated in NumPy 1.20; for more details and guidance: https://numpy.org/devdocs/release/1.20.0-notes.html#deprecations\n",
      "  sample_rate = np.int(raw.info['sfreq'])\n",
      "/var/folders/7w/cb7mhl253wdbc67t80fs_bmc0000gn/T/ipykernel_91705/1459849246.py:105: RuntimeWarning: Mean of empty slice\n",
      "  sholo_m = np.squeeze(np.nanmean(sholo_temp, axis = 0))\n"
     ]
    },
    {
     "name": "stdout",
     "output_type": "stream",
     "text": [
      "['AG024', 'AG023', 'AG020', 'AG027', 'AG022']\n"
     ]
    },
    {
     "name": "stderr",
     "output_type": "stream",
     "text": [
      "/var/folders/7w/cb7mhl253wdbc67t80fs_bmc0000gn/T/ipykernel_91705/1459849246.py:71: DeprecationWarning: `np.int` is a deprecated alias for the builtin `int`. To silence this warning, use `int` by itself. Doing this will not modify any behavior and is safe. When replacing `np.int`, you may wish to use e.g. `np.int64` or `np.int32` to specify the precision. If you wish to review your current use, check the release note link for additional information.\n",
      "Deprecated in NumPy 1.20; for more details and guidance: https://numpy.org/devdocs/release/1.20.0-notes.html#deprecations\n",
      "  sample_rate = np.int(raw.info['sfreq'])\n",
      "/var/folders/7w/cb7mhl253wdbc67t80fs_bmc0000gn/T/ipykernel_91705/1459849246.py:105: RuntimeWarning: Mean of empty slice\n",
      "  sholo_m = np.squeeze(np.nanmean(sholo_temp, axis = 0))\n"
     ]
    },
    {
     "name": "stdout",
     "output_type": "stream",
     "text": [
      "['AG121', 'AG062', 'AG140', 'AG123', 'AG138']\n"
     ]
    },
    {
     "name": "stderr",
     "output_type": "stream",
     "text": [
      "/var/folders/7w/cb7mhl253wdbc67t80fs_bmc0000gn/T/ipykernel_91705/1459849246.py:71: DeprecationWarning: `np.int` is a deprecated alias for the builtin `int`. To silence this warning, use `int` by itself. Doing this will not modify any behavior and is safe. When replacing `np.int`, you may wish to use e.g. `np.int64` or `np.int32` to specify the precision. If you wish to review your current use, check the release note link for additional information.\n",
      "Deprecated in NumPy 1.20; for more details and guidance: https://numpy.org/devdocs/release/1.20.0-notes.html#deprecations\n",
      "  sample_rate = np.int(raw.info['sfreq'])\n",
      "/var/folders/7w/cb7mhl253wdbc67t80fs_bmc0000gn/T/ipykernel_91705/1459849246.py:105: RuntimeWarning: Mean of empty slice\n",
      "  sholo_m = np.squeeze(np.nanmean(sholo_temp, axis = 0))\n"
     ]
    },
    {
     "name": "stdout",
     "output_type": "stream",
     "text": [
      "['AG138', 'AG139', 'AG145', 'AG136', 'AG141']\n"
     ]
    },
    {
     "name": "stderr",
     "output_type": "stream",
     "text": [
      "/var/folders/7w/cb7mhl253wdbc67t80fs_bmc0000gn/T/ipykernel_91705/1459849246.py:71: DeprecationWarning: `np.int` is a deprecated alias for the builtin `int`. To silence this warning, use `int` by itself. Doing this will not modify any behavior and is safe. When replacing `np.int`, you may wish to use e.g. `np.int64` or `np.int32` to specify the precision. If you wish to review your current use, check the release note link for additional information.\n",
      "Deprecated in NumPy 1.20; for more details and guidance: https://numpy.org/devdocs/release/1.20.0-notes.html#deprecations\n",
      "  sample_rate = np.int(raw.info['sfreq'])\n",
      "/var/folders/7w/cb7mhl253wdbc67t80fs_bmc0000gn/T/ipykernel_91705/1459849246.py:105: RuntimeWarning: Mean of empty slice\n",
      "  sholo_m = np.squeeze(np.nanmean(sholo_temp, axis = 0))\n"
     ]
    },
    {
     "name": "stdout",
     "output_type": "stream",
     "text": [
      "no id 16\n",
      "['AG141', 'AG144', 'AG025', 'AG020', 'AG064']\n"
     ]
    },
    {
     "name": "stderr",
     "output_type": "stream",
     "text": [
      "/var/folders/7w/cb7mhl253wdbc67t80fs_bmc0000gn/T/ipykernel_91705/1459849246.py:71: DeprecationWarning: `np.int` is a deprecated alias for the builtin `int`. To silence this warning, use `int` by itself. Doing this will not modify any behavior and is safe. When replacing `np.int`, you may wish to use e.g. `np.int64` or `np.int32` to specify the precision. If you wish to review your current use, check the release note link for additional information.\n",
      "Deprecated in NumPy 1.20; for more details and guidance: https://numpy.org/devdocs/release/1.20.0-notes.html#deprecations\n",
      "  sample_rate = np.int(raw.info['sfreq'])\n",
      "/var/folders/7w/cb7mhl253wdbc67t80fs_bmc0000gn/T/ipykernel_91705/1459849246.py:105: RuntimeWarning: Mean of empty slice\n",
      "  sholo_m = np.squeeze(np.nanmean(sholo_temp, axis = 0))\n"
     ]
    },
    {
     "name": "stdout",
     "output_type": "stream",
     "text": [
      "['AG129', 'AG056', 'AG133', 'AG138', 'AG120']\n"
     ]
    },
    {
     "name": "stderr",
     "output_type": "stream",
     "text": [
      "/var/folders/7w/cb7mhl253wdbc67t80fs_bmc0000gn/T/ipykernel_91705/1459849246.py:71: DeprecationWarning: `np.int` is a deprecated alias for the builtin `int`. To silence this warning, use `int` by itself. Doing this will not modify any behavior and is safe. When replacing `np.int`, you may wish to use e.g. `np.int64` or `np.int32` to specify the precision. If you wish to review your current use, check the release note link for additional information.\n",
      "Deprecated in NumPy 1.20; for more details and guidance: https://numpy.org/devdocs/release/1.20.0-notes.html#deprecations\n",
      "  sample_rate = np.int(raw.info['sfreq'])\n",
      "/var/folders/7w/cb7mhl253wdbc67t80fs_bmc0000gn/T/ipykernel_91705/1459849246.py:105: RuntimeWarning: Mean of empty slice\n",
      "  sholo_m = np.squeeze(np.nanmean(sholo_temp, axis = 0))\n"
     ]
    },
    {
     "name": "stdout",
     "output_type": "stream",
     "text": [
      "['AG024', 'AG084', 'AG086', 'AG159', 'AG083']\n"
     ]
    },
    {
     "name": "stderr",
     "output_type": "stream",
     "text": [
      "/var/folders/7w/cb7mhl253wdbc67t80fs_bmc0000gn/T/ipykernel_91705/1459849246.py:71: DeprecationWarning: `np.int` is a deprecated alias for the builtin `int`. To silence this warning, use `int` by itself. Doing this will not modify any behavior and is safe. When replacing `np.int`, you may wish to use e.g. `np.int64` or `np.int32` to specify the precision. If you wish to review your current use, check the release note link for additional information.\n",
      "Deprecated in NumPy 1.20; for more details and guidance: https://numpy.org/devdocs/release/1.20.0-notes.html#deprecations\n",
      "  sample_rate = np.int(raw.info['sfreq'])\n",
      "/var/folders/7w/cb7mhl253wdbc67t80fs_bmc0000gn/T/ipykernel_91705/1459849246.py:105: RuntimeWarning: Mean of empty slice\n",
      "  sholo_m = np.squeeze(np.nanmean(sholo_temp, axis = 0))\n",
      "/var/folders/7w/cb7mhl253wdbc67t80fs_bmc0000gn/T/ipykernel_91705/1459849246.py:110: RuntimeWarning: More than 20 figures have been opened. Figures created through the pyplot interface (`matplotlib.pyplot.figure`) are retained until explicitly closed and may consume too much memory. (To control this warning, see the rcParam `figure.max_open_warning`).\n",
      "  fig, ax = plt.subplots(figsize=(32*px, 32*px))\n"
     ]
    },
    {
     "name": "stdout",
     "output_type": "stream",
     "text": [
      "['AG140', 'AG141', 'AG139', 'AG157', 'AG057']\n"
     ]
    },
    {
     "name": "stderr",
     "output_type": "stream",
     "text": [
      "/var/folders/7w/cb7mhl253wdbc67t80fs_bmc0000gn/T/ipykernel_91705/1459849246.py:71: DeprecationWarning: `np.int` is a deprecated alias for the builtin `int`. To silence this warning, use `int` by itself. Doing this will not modify any behavior and is safe. When replacing `np.int`, you may wish to use e.g. `np.int64` or `np.int32` to specify the precision. If you wish to review your current use, check the release note link for additional information.\n",
      "Deprecated in NumPy 1.20; for more details and guidance: https://numpy.org/devdocs/release/1.20.0-notes.html#deprecations\n",
      "  sample_rate = np.int(raw.info['sfreq'])\n",
      "/var/folders/7w/cb7mhl253wdbc67t80fs_bmc0000gn/T/ipykernel_91705/1459849246.py:105: RuntimeWarning: Mean of empty slice\n",
      "  sholo_m = np.squeeze(np.nanmean(sholo_temp, axis = 0))\n"
     ]
    },
    {
     "name": "stdout",
     "output_type": "stream",
     "text": [
      "['AG150', 'AG131', 'AG132', 'AG146', 'AG121']\n"
     ]
    },
    {
     "name": "stderr",
     "output_type": "stream",
     "text": [
      "/var/folders/7w/cb7mhl253wdbc67t80fs_bmc0000gn/T/ipykernel_91705/1459849246.py:71: DeprecationWarning: `np.int` is a deprecated alias for the builtin `int`. To silence this warning, use `int` by itself. Doing this will not modify any behavior and is safe. When replacing `np.int`, you may wish to use e.g. `np.int64` or `np.int32` to specify the precision. If you wish to review your current use, check the release note link for additional information.\n",
      "Deprecated in NumPy 1.20; for more details and guidance: https://numpy.org/devdocs/release/1.20.0-notes.html#deprecations\n",
      "  sample_rate = np.int(raw.info['sfreq'])\n",
      "/var/folders/7w/cb7mhl253wdbc67t80fs_bmc0000gn/T/ipykernel_91705/1459849246.py:105: RuntimeWarning: Mean of empty slice\n",
      "  sholo_m = np.squeeze(np.nanmean(sholo_temp, axis = 0))\n"
     ]
    },
    {
     "name": "stdout",
     "output_type": "stream",
     "text": [
      "['AG121', 'AG153', 'AG155', 'AG123', 'AG152']\n"
     ]
    },
    {
     "name": "stderr",
     "output_type": "stream",
     "text": [
      "/var/folders/7w/cb7mhl253wdbc67t80fs_bmc0000gn/T/ipykernel_91705/1459849246.py:71: DeprecationWarning: `np.int` is a deprecated alias for the builtin `int`. To silence this warning, use `int` by itself. Doing this will not modify any behavior and is safe. When replacing `np.int`, you may wish to use e.g. `np.int64` or `np.int32` to specify the precision. If you wish to review your current use, check the release note link for additional information.\n",
      "Deprecated in NumPy 1.20; for more details and guidance: https://numpy.org/devdocs/release/1.20.0-notes.html#deprecations\n",
      "  sample_rate = np.int(raw.info['sfreq'])\n",
      "/var/folders/7w/cb7mhl253wdbc67t80fs_bmc0000gn/T/ipykernel_91705/1459849246.py:105: RuntimeWarning: Mean of empty slice\n",
      "  sholo_m = np.squeeze(np.nanmean(sholo_temp, axis = 0))\n"
     ]
    },
    {
     "name": "stdout",
     "output_type": "stream",
     "text": [
      "['AG020', 'AG021', 'AG145', 'AG025', 'AG062']\n"
     ]
    },
    {
     "name": "stderr",
     "output_type": "stream",
     "text": [
      "/var/folders/7w/cb7mhl253wdbc67t80fs_bmc0000gn/T/ipykernel_91705/1459849246.py:71: DeprecationWarning: `np.int` is a deprecated alias for the builtin `int`. To silence this warning, use `int` by itself. Doing this will not modify any behavior and is safe. When replacing `np.int`, you may wish to use e.g. `np.int64` or `np.int32` to specify the precision. If you wish to review your current use, check the release note link for additional information.\n",
      "Deprecated in NumPy 1.20; for more details and guidance: https://numpy.org/devdocs/release/1.20.0-notes.html#deprecations\n",
      "  sample_rate = np.int(raw.info['sfreq'])\n",
      "/var/folders/7w/cb7mhl253wdbc67t80fs_bmc0000gn/T/ipykernel_91705/1459849246.py:105: RuntimeWarning: Mean of empty slice\n",
      "  sholo_m = np.squeeze(np.nanmean(sholo_temp, axis = 0))\n"
     ]
    },
    {
     "name": "stdout",
     "output_type": "stream",
     "text": [
      "['AG155', 'AG153', 'AG027', 'AG018', 'AG152']\n"
     ]
    },
    {
     "name": "stderr",
     "output_type": "stream",
     "text": [
      "/var/folders/7w/cb7mhl253wdbc67t80fs_bmc0000gn/T/ipykernel_91705/1459849246.py:71: DeprecationWarning: `np.int` is a deprecated alias for the builtin `int`. To silence this warning, use `int` by itself. Doing this will not modify any behavior and is safe. When replacing `np.int`, you may wish to use e.g. `np.int64` or `np.int32` to specify the precision. If you wish to review your current use, check the release note link for additional information.\n",
      "Deprecated in NumPy 1.20; for more details and guidance: https://numpy.org/devdocs/release/1.20.0-notes.html#deprecations\n",
      "  sample_rate = np.int(raw.info['sfreq'])\n",
      "/var/folders/7w/cb7mhl253wdbc67t80fs_bmc0000gn/T/ipykernel_91705/1459849246.py:105: RuntimeWarning: Mean of empty slice\n",
      "  sholo_m = np.squeeze(np.nanmean(sholo_temp, axis = 0))\n"
     ]
    },
    {
     "name": "stdout",
     "output_type": "stream",
     "text": [
      "['AG124', 'AG123', 'AG126', 'AG129', 'AG130']\n"
     ]
    },
    {
     "name": "stderr",
     "output_type": "stream",
     "text": [
      "/var/folders/7w/cb7mhl253wdbc67t80fs_bmc0000gn/T/ipykernel_91705/1459849246.py:71: DeprecationWarning: `np.int` is a deprecated alias for the builtin `int`. To silence this warning, use `int` by itself. Doing this will not modify any behavior and is safe. When replacing `np.int`, you may wish to use e.g. `np.int64` or `np.int32` to specify the precision. If you wish to review your current use, check the release note link for additional information.\n",
      "Deprecated in NumPy 1.20; for more details and guidance: https://numpy.org/devdocs/release/1.20.0-notes.html#deprecations\n",
      "  sample_rate = np.int(raw.info['sfreq'])\n",
      "/var/folders/7w/cb7mhl253wdbc67t80fs_bmc0000gn/T/ipykernel_91705/1459849246.py:105: RuntimeWarning: Mean of empty slice\n",
      "  sholo_m = np.squeeze(np.nanmean(sholo_temp, axis = 0))\n"
     ]
    },
    {
     "name": "stdout",
     "output_type": "stream",
     "text": [
      "['AG143', 'AG155', 'AG152', 'AG153', 'AG156']\n"
     ]
    },
    {
     "name": "stderr",
     "output_type": "stream",
     "text": [
      "/var/folders/7w/cb7mhl253wdbc67t80fs_bmc0000gn/T/ipykernel_91705/1459849246.py:71: DeprecationWarning: `np.int` is a deprecated alias for the builtin `int`. To silence this warning, use `int` by itself. Doing this will not modify any behavior and is safe. When replacing `np.int`, you may wish to use e.g. `np.int64` or `np.int32` to specify the precision. If you wish to review your current use, check the release note link for additional information.\n",
      "Deprecated in NumPy 1.20; for more details and guidance: https://numpy.org/devdocs/release/1.20.0-notes.html#deprecations\n",
      "  sample_rate = np.int(raw.info['sfreq'])\n"
     ]
    },
    {
     "name": "stdout",
     "output_type": "stream",
     "text": [
      "['AG064', 'AG141', 'AG151', 'AG139', 'AG143']\n"
     ]
    },
    {
     "name": "stderr",
     "output_type": "stream",
     "text": [
      "/var/folders/7w/cb7mhl253wdbc67t80fs_bmc0000gn/T/ipykernel_91705/1459849246.py:71: DeprecationWarning: `np.int` is a deprecated alias for the builtin `int`. To silence this warning, use `int` by itself. Doing this will not modify any behavior and is safe. When replacing `np.int`, you may wish to use e.g. `np.int64` or `np.int32` to specify the precision. If you wish to review your current use, check the release note link for additional information.\n",
      "Deprecated in NumPy 1.20; for more details and guidance: https://numpy.org/devdocs/release/1.20.0-notes.html#deprecations\n",
      "  sample_rate = np.int(raw.info['sfreq'])\n",
      "/var/folders/7w/cb7mhl253wdbc67t80fs_bmc0000gn/T/ipykernel_91705/1459849246.py:105: RuntimeWarning: Mean of empty slice\n",
      "  sholo_m = np.squeeze(np.nanmean(sholo_temp, axis = 0))\n"
     ]
    },
    {
     "name": "stdout",
     "output_type": "stream",
     "text": [
      "['AG020', 'AG144', 'AG141', 'AG142', 'AG145']\n"
     ]
    },
    {
     "name": "stderr",
     "output_type": "stream",
     "text": [
      "/var/folders/7w/cb7mhl253wdbc67t80fs_bmc0000gn/T/ipykernel_91705/1459849246.py:71: DeprecationWarning: `np.int` is a deprecated alias for the builtin `int`. To silence this warning, use `int` by itself. Doing this will not modify any behavior and is safe. When replacing `np.int`, you may wish to use e.g. `np.int64` or `np.int32` to specify the precision. If you wish to review your current use, check the release note link for additional information.\n",
      "Deprecated in NumPy 1.20; for more details and guidance: https://numpy.org/devdocs/release/1.20.0-notes.html#deprecations\n",
      "  sample_rate = np.int(raw.info['sfreq'])\n",
      "/var/folders/7w/cb7mhl253wdbc67t80fs_bmc0000gn/T/ipykernel_91705/1459849246.py:105: RuntimeWarning: Mean of empty slice\n",
      "  sholo_m = np.squeeze(np.nanmean(sholo_temp, axis = 0))\n"
     ]
    },
    {
     "name": "stdout",
     "output_type": "stream",
     "text": [
      "['AG143', 'AG145', 'AG140', 'AG158', 'AG154']\n"
     ]
    },
    {
     "name": "stderr",
     "output_type": "stream",
     "text": [
      "/var/folders/7w/cb7mhl253wdbc67t80fs_bmc0000gn/T/ipykernel_91705/1459849246.py:71: DeprecationWarning: `np.int` is a deprecated alias for the builtin `int`. To silence this warning, use `int` by itself. Doing this will not modify any behavior and is safe. When replacing `np.int`, you may wish to use e.g. `np.int64` or `np.int32` to specify the precision. If you wish to review your current use, check the release note link for additional information.\n",
      "Deprecated in NumPy 1.20; for more details and guidance: https://numpy.org/devdocs/release/1.20.0-notes.html#deprecations\n",
      "  sample_rate = np.int(raw.info['sfreq'])\n",
      "/var/folders/7w/cb7mhl253wdbc67t80fs_bmc0000gn/T/ipykernel_91705/1459849246.py:105: RuntimeWarning: Mean of empty slice\n",
      "  sholo_m = np.squeeze(np.nanmean(sholo_temp, axis = 0))\n"
     ]
    },
    {
     "name": "stdout",
     "output_type": "stream",
     "text": [
      "['AG143', 'AG151', 'AG158', 'AG146', 'AG133']\n"
     ]
    },
    {
     "name": "stderr",
     "output_type": "stream",
     "text": [
      "/var/folders/7w/cb7mhl253wdbc67t80fs_bmc0000gn/T/ipykernel_91705/1459849246.py:71: DeprecationWarning: `np.int` is a deprecated alias for the builtin `int`. To silence this warning, use `int` by itself. Doing this will not modify any behavior and is safe. When replacing `np.int`, you may wish to use e.g. `np.int64` or `np.int32` to specify the precision. If you wish to review your current use, check the release note link for additional information.\n",
      "Deprecated in NumPy 1.20; for more details and guidance: https://numpy.org/devdocs/release/1.20.0-notes.html#deprecations\n",
      "  sample_rate = np.int(raw.info['sfreq'])\n",
      "/var/folders/7w/cb7mhl253wdbc67t80fs_bmc0000gn/T/ipykernel_91705/1459849246.py:105: RuntimeWarning: Mean of empty slice\n",
      "  sholo_m = np.squeeze(np.nanmean(sholo_temp, axis = 0))\n"
     ]
    },
    {
     "name": "stdout",
     "output_type": "stream",
     "text": [
      "['AG135', 'AG139', 'AG136', 'AG062', 'AG140']\n"
     ]
    },
    {
     "name": "stderr",
     "output_type": "stream",
     "text": [
      "/var/folders/7w/cb7mhl253wdbc67t80fs_bmc0000gn/T/ipykernel_91705/1459849246.py:71: DeprecationWarning: `np.int` is a deprecated alias for the builtin `int`. To silence this warning, use `int` by itself. Doing this will not modify any behavior and is safe. When replacing `np.int`, you may wish to use e.g. `np.int64` or `np.int32` to specify the precision. If you wish to review your current use, check the release note link for additional information.\n",
      "Deprecated in NumPy 1.20; for more details and guidance: https://numpy.org/devdocs/release/1.20.0-notes.html#deprecations\n",
      "  sample_rate = np.int(raw.info['sfreq'])\n",
      "/var/folders/7w/cb7mhl253wdbc67t80fs_bmc0000gn/T/ipykernel_91705/1459849246.py:105: RuntimeWarning: Mean of empty slice\n",
      "  sholo_m = np.squeeze(np.nanmean(sholo_temp, axis = 0))\n"
     ]
    },
    {
     "name": "stdout",
     "output_type": "stream",
     "text": [
      "['AG057', 'AG020', 'AG147', 'AG063', 'AG058']\n"
     ]
    },
    {
     "name": "stderr",
     "output_type": "stream",
     "text": [
      "/var/folders/7w/cb7mhl253wdbc67t80fs_bmc0000gn/T/ipykernel_91705/1459849246.py:71: DeprecationWarning: `np.int` is a deprecated alias for the builtin `int`. To silence this warning, use `int` by itself. Doing this will not modify any behavior and is safe. When replacing `np.int`, you may wish to use e.g. `np.int64` or `np.int32` to specify the precision. If you wish to review your current use, check the release note link for additional information.\n",
      "Deprecated in NumPy 1.20; for more details and guidance: https://numpy.org/devdocs/release/1.20.0-notes.html#deprecations\n",
      "  sample_rate = np.int(raw.info['sfreq'])\n",
      "/var/folders/7w/cb7mhl253wdbc67t80fs_bmc0000gn/T/ipykernel_91705/1459849246.py:105: RuntimeWarning: Mean of empty slice\n",
      "  sholo_m = np.squeeze(np.nanmean(sholo_temp, axis = 0))\n"
     ]
    },
    {
     "name": "stdout",
     "output_type": "stream",
     "text": [
      "['AG152', 'AG082', 'AG158', 'AG159', 'AG021']\n"
     ]
    },
    {
     "name": "stderr",
     "output_type": "stream",
     "text": [
      "/var/folders/7w/cb7mhl253wdbc67t80fs_bmc0000gn/T/ipykernel_91705/1459849246.py:71: DeprecationWarning: `np.int` is a deprecated alias for the builtin `int`. To silence this warning, use `int` by itself. Doing this will not modify any behavior and is safe. When replacing `np.int`, you may wish to use e.g. `np.int64` or `np.int32` to specify the precision. If you wish to review your current use, check the release note link for additional information.\n",
      "Deprecated in NumPy 1.20; for more details and guidance: https://numpy.org/devdocs/release/1.20.0-notes.html#deprecations\n",
      "  sample_rate = np.int(raw.info['sfreq'])\n",
      "/var/folders/7w/cb7mhl253wdbc67t80fs_bmc0000gn/T/ipykernel_91705/1459849246.py:105: RuntimeWarning: Mean of empty slice\n",
      "  sholo_m = np.squeeze(np.nanmean(sholo_temp, axis = 0))\n"
     ]
    },
    {
     "name": "stdout",
     "output_type": "stream",
     "text": [
      "['AG151', 'AG062', 'AG158', 'AG059', 'AG145']\n"
     ]
    },
    {
     "name": "stderr",
     "output_type": "stream",
     "text": [
      "/var/folders/7w/cb7mhl253wdbc67t80fs_bmc0000gn/T/ipykernel_91705/1459849246.py:71: DeprecationWarning: `np.int` is a deprecated alias for the builtin `int`. To silence this warning, use `int` by itself. Doing this will not modify any behavior and is safe. When replacing `np.int`, you may wish to use e.g. `np.int64` or `np.int32` to specify the precision. If you wish to review your current use, check the release note link for additional information.\n",
      "Deprecated in NumPy 1.20; for more details and guidance: https://numpy.org/devdocs/release/1.20.0-notes.html#deprecations\n",
      "  sample_rate = np.int(raw.info['sfreq'])\n",
      "/var/folders/7w/cb7mhl253wdbc67t80fs_bmc0000gn/T/ipykernel_91705/1459849246.py:105: RuntimeWarning: Mean of empty slice\n",
      "  sholo_m = np.squeeze(np.nanmean(sholo_temp, axis = 0))\n"
     ]
    },
    {
     "name": "stdout",
     "output_type": "stream",
     "text": [
      "['AG057', 'AG058', 'AG139', 'AG060', 'AG141']\n"
     ]
    },
    {
     "name": "stderr",
     "output_type": "stream",
     "text": [
      "/var/folders/7w/cb7mhl253wdbc67t80fs_bmc0000gn/T/ipykernel_91705/1459849246.py:71: DeprecationWarning: `np.int` is a deprecated alias for the builtin `int`. To silence this warning, use `int` by itself. Doing this will not modify any behavior and is safe. When replacing `np.int`, you may wish to use e.g. `np.int64` or `np.int32` to specify the precision. If you wish to review your current use, check the release note link for additional information.\n",
      "Deprecated in NumPy 1.20; for more details and guidance: https://numpy.org/devdocs/release/1.20.0-notes.html#deprecations\n",
      "  sample_rate = np.int(raw.info['sfreq'])\n",
      "/var/folders/7w/cb7mhl253wdbc67t80fs_bmc0000gn/T/ipykernel_91705/1459849246.py:105: RuntimeWarning: Mean of empty slice\n",
      "  sholo_m = np.squeeze(np.nanmean(sholo_temp, axis = 0))\n"
     ]
    },
    {
     "name": "stdout",
     "output_type": "stream",
     "text": [
      "['AG019', 'AG062', 'AG140', 'AG152', 'AG018']\n"
     ]
    },
    {
     "name": "stderr",
     "output_type": "stream",
     "text": [
      "/var/folders/7w/cb7mhl253wdbc67t80fs_bmc0000gn/T/ipykernel_91705/1459849246.py:71: DeprecationWarning: `np.int` is a deprecated alias for the builtin `int`. To silence this warning, use `int` by itself. Doing this will not modify any behavior and is safe. When replacing `np.int`, you may wish to use e.g. `np.int64` or `np.int32` to specify the precision. If you wish to review your current use, check the release note link for additional information.\n",
      "Deprecated in NumPy 1.20; for more details and guidance: https://numpy.org/devdocs/release/1.20.0-notes.html#deprecations\n",
      "  sample_rate = np.int(raw.info['sfreq'])\n",
      "/var/folders/7w/cb7mhl253wdbc67t80fs_bmc0000gn/T/ipykernel_91705/1459849246.py:105: RuntimeWarning: Mean of empty slice\n",
      "  sholo_m = np.squeeze(np.nanmean(sholo_temp, axis = 0))\n"
     ]
    },
    {
     "name": "stdout",
     "output_type": "stream",
     "text": [
      "['AG148', 'AG152', 'AG129', 'AG135', 'AG056']\n"
     ]
    },
    {
     "name": "stderr",
     "output_type": "stream",
     "text": [
      "/var/folders/7w/cb7mhl253wdbc67t80fs_bmc0000gn/T/ipykernel_91705/1459849246.py:71: DeprecationWarning: `np.int` is a deprecated alias for the builtin `int`. To silence this warning, use `int` by itself. Doing this will not modify any behavior and is safe. When replacing `np.int`, you may wish to use e.g. `np.int64` or `np.int32` to specify the precision. If you wish to review your current use, check the release note link for additional information.\n",
      "Deprecated in NumPy 1.20; for more details and guidance: https://numpy.org/devdocs/release/1.20.0-notes.html#deprecations\n",
      "  sample_rate = np.int(raw.info['sfreq'])\n",
      "/var/folders/7w/cb7mhl253wdbc67t80fs_bmc0000gn/T/ipykernel_91705/1459849246.py:105: RuntimeWarning: Mean of empty slice\n",
      "  sholo_m = np.squeeze(np.nanmean(sholo_temp, axis = 0))\n"
     ]
    },
    {
     "name": "stdout",
     "output_type": "stream",
     "text": [
      "['AG141', 'AG140', 'AG139', 'AG154', 'AG152']\n"
     ]
    },
    {
     "name": "stderr",
     "output_type": "stream",
     "text": [
      "/var/folders/7w/cb7mhl253wdbc67t80fs_bmc0000gn/T/ipykernel_91705/1459849246.py:71: DeprecationWarning: `np.int` is a deprecated alias for the builtin `int`. To silence this warning, use `int` by itself. Doing this will not modify any behavior and is safe. When replacing `np.int`, you may wish to use e.g. `np.int64` or `np.int32` to specify the precision. If you wish to review your current use, check the release note link for additional information.\n",
      "Deprecated in NumPy 1.20; for more details and guidance: https://numpy.org/devdocs/release/1.20.0-notes.html#deprecations\n",
      "  sample_rate = np.int(raw.info['sfreq'])\n",
      "/var/folders/7w/cb7mhl253wdbc67t80fs_bmc0000gn/T/ipykernel_91705/1459849246.py:105: RuntimeWarning: Mean of empty slice\n",
      "  sholo_m = np.squeeze(np.nanmean(sholo_temp, axis = 0))\n"
     ]
    },
    {
     "name": "stdout",
     "output_type": "stream",
     "text": [
      "['AG057', 'AG060', 'AG046', 'AG064', 'AG110']\n"
     ]
    },
    {
     "name": "stderr",
     "output_type": "stream",
     "text": [
      "/var/folders/7w/cb7mhl253wdbc67t80fs_bmc0000gn/T/ipykernel_91705/1459849246.py:71: DeprecationWarning: `np.int` is a deprecated alias for the builtin `int`. To silence this warning, use `int` by itself. Doing this will not modify any behavior and is safe. When replacing `np.int`, you may wish to use e.g. `np.int64` or `np.int32` to specify the precision. If you wish to review your current use, check the release note link for additional information.\n",
      "Deprecated in NumPy 1.20; for more details and guidance: https://numpy.org/devdocs/release/1.20.0-notes.html#deprecations\n",
      "  sample_rate = np.int(raw.info['sfreq'])\n",
      "/var/folders/7w/cb7mhl253wdbc67t80fs_bmc0000gn/T/ipykernel_91705/1459849246.py:105: RuntimeWarning: Mean of empty slice\n",
      "  sholo_m = np.squeeze(np.nanmean(sholo_temp, axis = 0))\n"
     ]
    },
    {
     "name": "stdout",
     "output_type": "stream",
     "text": [
      "['AG135', 'AG138', 'AG139', 'AG136', 'AG129']\n"
     ]
    },
    {
     "name": "stderr",
     "output_type": "stream",
     "text": [
      "/var/folders/7w/cb7mhl253wdbc67t80fs_bmc0000gn/T/ipykernel_91705/1459849246.py:71: DeprecationWarning: `np.int` is a deprecated alias for the builtin `int`. To silence this warning, use `int` by itself. Doing this will not modify any behavior and is safe. When replacing `np.int`, you may wish to use e.g. `np.int64` or `np.int32` to specify the precision. If you wish to review your current use, check the release note link for additional information.\n",
      "Deprecated in NumPy 1.20; for more details and guidance: https://numpy.org/devdocs/release/1.20.0-notes.html#deprecations\n",
      "  sample_rate = np.int(raw.info['sfreq'])\n",
      "/var/folders/7w/cb7mhl253wdbc67t80fs_bmc0000gn/T/ipykernel_91705/1459849246.py:105: RuntimeWarning: Mean of empty slice\n",
      "  sholo_m = np.squeeze(np.nanmean(sholo_temp, axis = 0))\n"
     ]
    },
    {
     "name": "stdout",
     "output_type": "stream",
     "text": [
      "['AG122', 'AG121', 'AG125', 'AG124', 'AG123']\n"
     ]
    },
    {
     "name": "stderr",
     "output_type": "stream",
     "text": [
      "/var/folders/7w/cb7mhl253wdbc67t80fs_bmc0000gn/T/ipykernel_91705/1459849246.py:71: DeprecationWarning: `np.int` is a deprecated alias for the builtin `int`. To silence this warning, use `int` by itself. Doing this will not modify any behavior and is safe. When replacing `np.int`, you may wish to use e.g. `np.int64` or `np.int32` to specify the precision. If you wish to review your current use, check the release note link for additional information.\n",
      "Deprecated in NumPy 1.20; for more details and guidance: https://numpy.org/devdocs/release/1.20.0-notes.html#deprecations\n",
      "  sample_rate = np.int(raw.info['sfreq'])\n",
      "/var/folders/7w/cb7mhl253wdbc67t80fs_bmc0000gn/T/ipykernel_91705/1459849246.py:105: RuntimeWarning: Mean of empty slice\n",
      "  sholo_m = np.squeeze(np.nanmean(sholo_temp, axis = 0))\n"
     ]
    },
    {
     "name": "stdout",
     "output_type": "stream",
     "text": [
      "['AG142', 'AG141', 'AG145', 'AG154', 'AG064']\n"
     ]
    },
    {
     "name": "stderr",
     "output_type": "stream",
     "text": [
      "/var/folders/7w/cb7mhl253wdbc67t80fs_bmc0000gn/T/ipykernel_91705/1459849246.py:71: DeprecationWarning: `np.int` is a deprecated alias for the builtin `int`. To silence this warning, use `int` by itself. Doing this will not modify any behavior and is safe. When replacing `np.int`, you may wish to use e.g. `np.int64` or `np.int32` to specify the precision. If you wish to review your current use, check the release note link for additional information.\n",
      "Deprecated in NumPy 1.20; for more details and guidance: https://numpy.org/devdocs/release/1.20.0-notes.html#deprecations\n",
      "  sample_rate = np.int(raw.info['sfreq'])\n",
      "/var/folders/7w/cb7mhl253wdbc67t80fs_bmc0000gn/T/ipykernel_91705/1459849246.py:105: RuntimeWarning: Mean of empty slice\n",
      "  sholo_m = np.squeeze(np.nanmean(sholo_temp, axis = 0))\n"
     ]
    }
   ],
   "source": [
    "# prepare answer sheet\n",
    "\n",
    "group = 'test'\n",
    "\n",
    "\n",
    "sys_types = ['A','A','B','B','A','B','A','B','A',\n",
    "             'A','B','A','A','A','A','B','B','A',\n",
    "             'A','A','B','B','B','B','B','B','B',\n",
    "             'B','B','B','A','A','B','B','A','A',\n",
    "             'A','A','A','A','A','B']\n",
    "\n",
    "excluded_test = []\n",
    "holo_t = []\n",
    "for i in range(42):\n",
    "    s = i + 1\n",
    "    sys_type = sys_types[i]\n",
    "    try:\n",
    "        filename = 'de_hokuto_%s%d-raw.fif'%(group, s)\n",
    "        sholo_m, fam, fcarrier = get_holo_trl(filename, sys_type)\n",
    "        im_array = holo_gray_images(sholo_m, fam, fcarrier)\n",
    "        holo_t.append(im_array)\n",
    "    except:\n",
    "        print('no id %d'%s)\n",
    "        excluded_test.append(s)\n",
    "    pass\n",
    "    "
   ]
  },
  {
   "cell_type": "code",
   "execution_count": 58,
   "id": "d3188126",
   "metadata": {},
   "outputs": [
    {
     "name": "stdout",
     "output_type": "stream",
     "text": [
      "[16]\n"
     ]
    },
    {
     "data": {
      "text/plain": [
       "(41, 2560)"
      ]
     },
     "execution_count": 58,
     "metadata": {},
     "output_type": "execute_result"
    }
   ],
   "source": [
    "print(excluded_test)\n",
    "holo_2d_t = np.vstack(holo_t)\n",
    "\n",
    "with open('feature_holo_1channel_test.npy', 'wb') as f:\n",
    "    np.save(f, holo_2d_t)\n",
    "    \n",
    "holo_2d_t.shape"
   ]
  },
  {
   "cell_type": "code",
   "execution_count": null,
   "id": "db24d51f",
   "metadata": {},
   "outputs": [],
   "source": [
    "clf.predict(holo_2d_t)"
   ]
  },
  {
   "cell_type": "code",
   "execution_count": null,
   "id": "a963530d",
   "metadata": {},
   "outputs": [],
   "source": [
    "clf.predict_proba(psd_median_t).round(3)"
   ]
  },
  {
   "cell_type": "code",
   "execution_count": 59,
   "id": "523a9d44",
   "metadata": {},
   "outputs": [
    {
     "data": {
      "text/plain": [
       "(41, 2560)"
      ]
     },
     "execution_count": 59,
     "metadata": {},
     "output_type": "execute_result"
    }
   ],
   "source": [
    "with open('feature_holo_1channel_test.npy', 'rb') as f:\n",
    "    holo_2d_t = np.load(f)\n",
    "    \n",
    "holo_2d_t.shape"
   ]
  },
  {
   "cell_type": "code",
   "execution_count": 60,
   "id": "75866ed4",
   "metadata": {},
   "outputs": [
    {
     "data": {
      "text/plain": [
       "array([0, 2, 0, 0, 0, 0, 0, 0, 1, 0, 0, 1, 0, 1, 1, 2, 0, 1, 1, 1, 0, 2,\n",
       "       0, 0, 0, 1, 0, 2, 0, 0, 1, 0, 2, 0, 0, 0, 1, 1, 0, 1, 2])"
      ]
     },
     "execution_count": 60,
     "metadata": {},
     "output_type": "execute_result"
    }
   ],
   "source": [
    "X_test = holo_2d_t / 255.0\n",
    "clf.predict(X_test)"
   ]
  },
  {
   "cell_type": "code",
   "execution_count": 61,
   "id": "c480bf33",
   "metadata": {},
   "outputs": [
    {
     "data": {
      "text/plain": [
       "array([[0.688, 0.137, 0.175],\n",
       "       [0.013, 0.417, 0.57 ],\n",
       "       [0.994, 0.005, 0.   ],\n",
       "       [0.608, 0.247, 0.145],\n",
       "       [0.944, 0.033, 0.023],\n",
       "       [0.911, 0.037, 0.052],\n",
       "       [0.975, 0.023, 0.002],\n",
       "       [0.781, 0.095, 0.124],\n",
       "       [0.001, 0.999, 0.   ],\n",
       "       [0.995, 0.005, 0.   ],\n",
       "       [0.58 , 0.178, 0.242],\n",
       "       [0.118, 0.866, 0.016],\n",
       "       [0.998, 0.002, 0.   ],\n",
       "       [0.   , 0.998, 0.002],\n",
       "       [0.001, 0.997, 0.002],\n",
       "       [0.097, 0.329, 0.574],\n",
       "       [0.766, 0.085, 0.149],\n",
       "       [0.001, 0.998, 0.001],\n",
       "       [0.   , 1.   , 0.   ],\n",
       "       [0.   , 0.955, 0.045],\n",
       "       [0.989, 0.011, 0.001],\n",
       "       [0.093, 0.205, 0.701],\n",
       "       [0.975, 0.013, 0.012],\n",
       "       [0.991, 0.009, 0.001],\n",
       "       [0.811, 0.175, 0.015],\n",
       "       [0.216, 0.514, 0.27 ],\n",
       "       [0.967, 0.02 , 0.013],\n",
       "       [0.061, 0.304, 0.635],\n",
       "       [0.426, 0.218, 0.356],\n",
       "       [0.589, 0.118, 0.293],\n",
       "       [0.009, 0.981, 0.01 ],\n",
       "       [0.999, 0.001, 0.   ],\n",
       "       [0.008, 0.392, 0.6  ],\n",
       "       [0.998, 0.001, 0.   ],\n",
       "       [0.963, 0.023, 0.013],\n",
       "       [0.997, 0.002, 0.   ],\n",
       "       [0.007, 0.981, 0.012],\n",
       "       [0.   , 1.   , 0.   ],\n",
       "       [0.998, 0.002, 0.   ],\n",
       "       [0.004, 0.994, 0.002],\n",
       "       [0.022, 0.097, 0.881]])"
      ]
     },
     "execution_count": 61,
     "metadata": {},
     "output_type": "execute_result"
    }
   ],
   "source": [
    "clf.predict_proba(X_test).round(3)"
   ]
  },
  {
   "cell_type": "code",
   "execution_count": 63,
   "id": "a2d8a506",
   "metadata": {},
   "outputs": [
    {
     "name": "stdout",
     "output_type": "stream",
     "text": [
      "control, 0.688000\n",
      "mci, 0.570000\n",
      "control, 0.994000\n",
      "control, 0.608000\n",
      "control, 0.944000\n",
      "control, 0.911000\n",
      "control, 0.975000\n",
      "control, 0.781000\n",
      "dementia, 0.999000\n",
      "control, 0.995000\n",
      "control, 0.580000\n",
      "dementia, 0.866000\n",
      "control, 0.998000\n",
      "dementia, 0.998000\n",
      "dementia, 0.997000\n",
      "mci, 0.574000\n",
      "control, 0.766000\n",
      "dementia, 0.998000\n",
      "dementia, 1.000000\n",
      "dementia, 0.955000\n",
      "control, 0.989000\n",
      "mci, 0.701000\n",
      "control, 0.975000\n",
      "control, 0.991000\n",
      "control, 0.811000\n",
      "dementia, 0.514000\n",
      "control, 0.967000\n",
      "mci, 0.635000\n",
      "control, 0.426000\n",
      "control, 0.589000\n",
      "dementia, 0.981000\n",
      "control, 0.999000\n",
      "mci, 0.600000\n",
      "control, 0.998000\n",
      "control, 0.963000\n",
      "control, 0.997000\n",
      "dementia, 0.981000\n",
      "dementia, 1.000000\n",
      "control, 0.998000\n",
      "dementia, 0.994000\n",
      "mci, 0.881000\n"
     ]
    }
   ],
   "source": [
    "y_test = clf.predict(X_test)\n",
    "y_prob = clf.predict_proba(X_test).round(3)\n",
    "\n",
    "labels = 'control', 'dementia','mci'\n",
    "for yi, yj in zip(y_test, y_prob):\n",
    "    print('%s, %f'%(labels[yi], np.max(yj)))\n",
    "    pass\n"
   ]
  },
  {
   "cell_type": "code",
   "execution_count": 74,
   "id": "a66c26aa",
   "metadata": {},
   "outputs": [
    {
     "name": "stdout",
     "output_type": "stream",
     "text": [
      "['AG091', 'AG088', 'AG063', 'AG083', 'AG092']\n"
     ]
    },
    {
     "name": "stderr",
     "output_type": "stream",
     "text": [
      "/var/folders/7w/cb7mhl253wdbc67t80fs_bmc0000gn/T/ipykernel_91705/4273186858.py:71: DeprecationWarning: `np.int` is a deprecated alias for the builtin `int`. To silence this warning, use `int` by itself. Doing this will not modify any behavior and is safe. When replacing `np.int`, you may wish to use e.g. `np.int64` or `np.int32` to specify the precision. If you wish to review your current use, check the release note link for additional information.\n",
      "Deprecated in NumPy 1.20; for more details and guidance: https://numpy.org/devdocs/release/1.20.0-notes.html#deprecations\n",
      "  sample_rate = np.int(raw.info['sfreq'])\n"
     ]
    },
    {
     "name": "stdout",
     "output_type": "stream",
     "text": [
      "[2]\n",
      "[[0.003 0.235 0.762]]\n"
     ]
    },
    {
     "name": "stderr",
     "output_type": "stream",
     "text": [
      "/var/folders/7w/cb7mhl253wdbc67t80fs_bmc0000gn/T/ipykernel_91705/4273186858.py:105: RuntimeWarning: Mean of empty slice\n",
      "  sholo_m = np.squeeze(np.nanmean(sholo_temp, axis = 0))\n"
     ]
    }
   ],
   "source": [
    "filename = 'de_hokuto_%s%d_old-raw.fif'%(group, 16)\n",
    "sys_type = \"B\"\n",
    "sholo_m, fam, fcarrier = get_holo_trl(filename, sys_type)\n",
    "im_array = holo_gray_images(sholo_m, fam, fcarrier)\n",
    "\n",
    "x_temp =np.expand_dims(im_array, axis=0)\n",
    "print(clf.predict(x_temp/255.0))\n",
    "print(clf.predict_proba(x_temp/255.0).round(3))"
   ]
  },
  {
   "cell_type": "code",
   "execution_count": 46,
   "id": "d1e5f9c6",
   "metadata": {},
   "outputs": [
    {
     "name": "stdout",
     "output_type": "stream",
     "text": [
      "['AG150', 'AG131', 'AG132', 'AG146', 'AG121']\n"
     ]
    },
    {
     "name": "stderr",
     "output_type": "stream",
     "text": [
      "/var/folders/7w/cb7mhl253wdbc67t80fs_bmc0000gn/T/ipykernel_91705/1877454791.py:75: DeprecationWarning: `np.int` is a deprecated alias for the builtin `int`. To silence this warning, use `int` by itself. Doing this will not modify any behavior and is safe. When replacing `np.int`, you may wish to use e.g. `np.int64` or `np.int32` to specify the precision. If you wish to review your current use, check the release note link for additional information.\n",
      "Deprecated in NumPy 1.20; for more details and guidance: https://numpy.org/devdocs/release/1.20.0-notes.html#deprecations\n",
      "  sample_rate = np.int(raw.info['sfreq'])\n"
     ]
    },
    {
     "name": "stdout",
     "output_type": "stream",
     "text": [
      "[1]\n",
      "[[0.    0.955 0.045]]\n"
     ]
    },
    {
     "name": "stderr",
     "output_type": "stream",
     "text": [
      "/var/folders/7w/cb7mhl253wdbc67t80fs_bmc0000gn/T/ipykernel_91705/1877454791.py:109: RuntimeWarning: Mean of empty slice\n",
      "  sholo_m = np.squeeze(np.nanmean(sholo_temp, axis = 0))\n"
     ]
    }
   ],
   "source": [
    "\n",
    "filename = 'de_hokuto_%s%d-raw.fif'%(group, 21)\n",
    "sys_type = \"B\"\n",
    "sholo_m, fam, fcarrier = get_holo_trl(filename, sys_type)\n",
    "im_array = holo_gray_images(sholo_m, fam, fcarrier)\n",
    "\n",
    "x_temp =np.expand_dims(im_array, axis=0)\n",
    "print(clf.predict(x_temp/255.0))\n",
    "print(clf.predict_proba(x_temp/255.0).round(3))"
   ]
  },
  {
   "cell_type": "code",
   "execution_count": 47,
   "id": "c08e257b",
   "metadata": {},
   "outputs": [
    {
     "name": "stdout",
     "output_type": "stream",
     "text": [
      "['AG143', 'AG145', 'AG140', 'AG158', 'AG154']\n"
     ]
    },
    {
     "name": "stderr",
     "output_type": "stream",
     "text": [
      "/var/folders/7w/cb7mhl253wdbc67t80fs_bmc0000gn/T/ipykernel_91705/1877454791.py:75: DeprecationWarning: `np.int` is a deprecated alias for the builtin `int`. To silence this warning, use `int` by itself. Doing this will not modify any behavior and is safe. When replacing `np.int`, you may wish to use e.g. `np.int64` or `np.int32` to specify the precision. If you wish to review your current use, check the release note link for additional information.\n",
      "Deprecated in NumPy 1.20; for more details and guidance: https://numpy.org/devdocs/release/1.20.0-notes.html#deprecations\n",
      "  sample_rate = np.int(raw.info['sfreq'])\n"
     ]
    },
    {
     "name": "stdout",
     "output_type": "stream",
     "text": [
      "[2]\n",
      "[[0.061 0.304 0.635]]\n"
     ]
    },
    {
     "name": "stderr",
     "output_type": "stream",
     "text": [
      "/var/folders/7w/cb7mhl253wdbc67t80fs_bmc0000gn/T/ipykernel_91705/1877454791.py:109: RuntimeWarning: Mean of empty slice\n",
      "  sholo_m = np.squeeze(np.nanmean(sholo_temp, axis = 0))\n"
     ]
    }
   ],
   "source": [
    "filename = 'de_hokuto_%s%d-raw.fif'%(group, 29)\n",
    "sys_type = \"B\"\n",
    "sholo_m, fam, fcarrier = get_holo_trl(filename, sys_type)\n",
    "im_array = holo_gray_images(sholo_m, fam, fcarrier)\n",
    "\n",
    "x_temp =np.expand_dims(im_array, axis=0)\n",
    "print(clf.predict(x_temp/255.0))\n",
    "print(clf.predict_proba(x_temp/255.0).round(3))"
   ]
  },
  {
   "cell_type": "code",
   "execution_count": 48,
   "id": "00d61e27",
   "metadata": {},
   "outputs": [
    {
     "name": "stdout",
     "output_type": "stream",
     "text": [
      "['AG057', 'AG020', 'AG147', 'AG063', 'AG058']\n"
     ]
    },
    {
     "name": "stderr",
     "output_type": "stream",
     "text": [
      "/var/folders/7w/cb7mhl253wdbc67t80fs_bmc0000gn/T/ipykernel_91705/1877454791.py:75: DeprecationWarning: `np.int` is a deprecated alias for the builtin `int`. To silence this warning, use `int` by itself. Doing this will not modify any behavior and is safe. When replacing `np.int`, you may wish to use e.g. `np.int64` or `np.int32` to specify the precision. If you wish to review your current use, check the release note link for additional information.\n",
      "Deprecated in NumPy 1.20; for more details and guidance: https://numpy.org/devdocs/release/1.20.0-notes.html#deprecations\n",
      "  sample_rate = np.int(raw.info['sfreq'])\n"
     ]
    },
    {
     "name": "stdout",
     "output_type": "stream",
     "text": [
      "[1]\n",
      "[[0.009 0.981 0.01 ]]\n"
     ]
    },
    {
     "name": "stderr",
     "output_type": "stream",
     "text": [
      "/var/folders/7w/cb7mhl253wdbc67t80fs_bmc0000gn/T/ipykernel_91705/1877454791.py:109: RuntimeWarning: Mean of empty slice\n",
      "  sholo_m = np.squeeze(np.nanmean(sholo_temp, axis = 0))\n"
     ]
    }
   ],
   "source": [
    "filename = 'de_hokuto_%s%d-raw.fif'%(group, 32)\n",
    "sys_type = \"A\"\n",
    "sholo_m, fam, fcarrier = get_holo_trl(filename, sys_type)\n",
    "im_array = holo_gray_images(sholo_m, fam, fcarrier)\n",
    "\n",
    "x_temp =np.expand_dims(im_array, axis=0)\n",
    "print(clf.predict(x_temp/255.0))\n",
    "print(clf.predict_proba(x_temp/255.0).round(3))"
   ]
  },
  {
   "cell_type": "code",
   "execution_count": 76,
   "id": "960f5814",
   "metadata": {},
   "outputs": [
    {
     "name": "stdout",
     "output_type": "stream",
     "text": [
      "['AG141', 'AG140', 'AG139', 'AG154', 'AG152']\n"
     ]
    },
    {
     "name": "stderr",
     "output_type": "stream",
     "text": [
      "/var/folders/7w/cb7mhl253wdbc67t80fs_bmc0000gn/T/ipykernel_91705/1508224151.py:71: DeprecationWarning: `np.int` is a deprecated alias for the builtin `int`. To silence this warning, use `int` by itself. Doing this will not modify any behavior and is safe. When replacing `np.int`, you may wish to use e.g. `np.int64` or `np.int32` to specify the precision. If you wish to review your current use, check the release note link for additional information.\n",
      "Deprecated in NumPy 1.20; for more details and guidance: https://numpy.org/devdocs/release/1.20.0-notes.html#deprecations\n",
      "  sample_rate = np.int(raw.info['sfreq'])\n"
     ]
    },
    {
     "name": "stdout",
     "output_type": "stream",
     "text": [
      "[1]\n",
      "[[0.004 0.994 0.002]]\n"
     ]
    },
    {
     "name": "stderr",
     "output_type": "stream",
     "text": [
      "/var/folders/7w/cb7mhl253wdbc67t80fs_bmc0000gn/T/ipykernel_91705/1508224151.py:105: RuntimeWarning: Mean of empty slice\n",
      "  sholo_m = np.squeeze(np.nanmean(sholo_temp, axis = 0))\n"
     ]
    }
   ],
   "source": [
    "#[6, 16, 21, 29, 32, 34, 38, 39]\n",
    "filename = 'de_hokuto_%s%d-raw.fif'%(group, 38)\n",
    "sys_type = \"A\"\n",
    "sholo_m, fam, fcarrier = get_holo_trl(filename, sys_type)\n",
    "im_array = holo_gray_images(sholo_m, fam, fcarrier)\n",
    "\n",
    "# test 6\n",
    "x_temp =np.expand_dims(im_array, axis=0)\n",
    "print(clf.predict(x_temp/255.0))\n",
    "print(clf.predict_proba(x_temp/255.0).round(3))"
   ]
  },
  {
   "cell_type": "code",
   "execution_count": null,
   "id": "a9b67d30",
   "metadata": {},
   "outputs": [],
   "source": []
  }
 ],
 "metadata": {
  "kernelspec": {
   "display_name": "Python 3 (ipykernel)",
   "language": "python",
   "name": "python3"
  },
  "language_info": {
   "codemirror_mode": {
    "name": "ipython",
    "version": 3
   },
   "file_extension": ".py",
   "mimetype": "text/x-python",
   "name": "python",
   "nbconvert_exporter": "python",
   "pygments_lexer": "ipython3",
   "version": "3.9.7"
  },
  "varInspector": {
   "cols": {
    "lenName": 16,
    "lenType": 16,
    "lenVar": 40
   },
   "kernels_config": {
    "python": {
     "delete_cmd_postfix": "",
     "delete_cmd_prefix": "del ",
     "library": "var_list.py",
     "varRefreshCmd": "print(var_dic_list())"
    },
    "r": {
     "delete_cmd_postfix": ") ",
     "delete_cmd_prefix": "rm(",
     "library": "var_list.r",
     "varRefreshCmd": "cat(var_dic_list()) "
    }
   },
   "types_to_exclude": [
    "module",
    "function",
    "builtin_function_or_method",
    "instance",
    "_Feature"
   ],
   "window_display": false
  }
 },
 "nbformat": 4,
 "nbformat_minor": 5
}
